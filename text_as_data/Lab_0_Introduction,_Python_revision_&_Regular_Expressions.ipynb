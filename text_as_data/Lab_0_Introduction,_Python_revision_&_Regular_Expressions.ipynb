{
  "nbformat": 4,
  "nbformat_minor": 0,
  "metadata": {
    "colab": {
      "provenance": [],
      "toc_visible": true,
      "include_colab_link": true
    },
    "kernelspec": {
      "name": "python3",
      "display_name": "Python 3"
    },
    "language_info": {
      "name": "python"
    }
  },
  "cells": [
    {
      "cell_type": "markdown",
      "metadata": {
        "id": "view-in-github",
        "colab_type": "text"
      },
      "source": [
        "<a href=\"https://colab.research.google.com/github/ayush-96/msc-data-science/blob/master/text_as_data/Lab_0_Introduction%2C_Python_revision_%26_Regular_Expressions.ipynb\" target=\"_parent\"><img src=\"https://colab.research.google.com/assets/colab-badge.svg\" alt=\"Open In Colab\"/></a>"
      ]
    },
    {
      "cell_type": "markdown",
      "source": [
        "# Text as Data Lab 0: Introduction, Python revision & Regular Expressions\n",
        "\n",
        "The aims of the lab are to:\n",
        " - Introduce you to Colab, verify that you're set up with the correct python packages\n",
        " - Load textual data from Reddit as a JSON file\n",
        " - Explore the data to learn a bit about it\n",
        " - Review salient Python features, such as Counter and list comprehensions\n",
        " - Introduce regular expressions, a common tool for text matching and processing\n",
        "\n",
        "**Before you start, save a copy of this lab to your drive using \"File > Save a Copy in Drive\".** If you skip this step, you may lose progress that you have made (e.g., if you close the browser tab or your computer crashes)."
      ],
      "metadata": {
        "id": "ZlyN2JKWAxbL"
      }
    },
    {
      "cell_type": "markdown",
      "source": [
        "## Colab Introduction\n",
        "\n",
        "\n",
        "Colab is a cloud-based Jupyter Notebook.  It is used internally by engineers and researchers at Google and companies worldwide to prototype and share data science and ML results in an easy-to-use way.\n",
        "\n",
        "It supports:\n",
        "\n",
        "1. Text Cells with [Markdown](https://github.com/adam-p/markdown-here/wiki/Markdown-Cheatsheet) formatting\n",
        "2. Code Cells\n",
        "3. Notebook stores code, output, and execution order\n",
        "4. Tab and Tab + Tab Autocomplete\n",
        "5. IPython Help Features\n",
        "6. [IPython Magics (`%%`)](https://ipython.readthedocs.io/en/stable/interactive/magics.html) (such as [%%timeit](https://ipython.readthedocs.io/en/stable/interactive/magics.html#magic-timeit) to time the execution of a cell)\n",
        "\n",
        "### Additional Features\n",
        "\n",
        "- collaborative editing\n",
        "- history\n",
        "- comments\n",
        "- executed code history\n",
        "- Shift+click multiple cell selection\n",
        "- searchable code snippets + table of contents\n",
        "- scratchpad (⌘/Ctrl + Alt + N)\n",
        "\n",
        "### Keyboard Shortcuts\n",
        "| Command | Action |\n",
        "| ---- | ----: |\n",
        "|⌘/Ctrl+Enter | Run Selected Cell |\n",
        "|Shift+Enter| Run Cell and Select Next |\n",
        "|Alt+Enter| Run cell and insert new cell|\n",
        "|⌘/Ctrl+M I | Interrupt Execution |\n",
        "\n",
        "- You can open the command Palette to see all shortcuts by going to Tools --> Command palette.\n",
        "\n",
        "### Summary of tips\n",
        "- Use TAB to autocomplete an expression.\n",
        "- You can also execute the code with a ? to get the documentation (e.g. `?sum`)\n",
        "- In Jupyter / Colab you can execute shell commands using `!`, example: `!ls` to list the current files.\n",
        "\n",
        "*Note:* Occasionally Colab may hang or crash (due to cloud flakiness or bad code).  You can control the execution using the Runtime menu to reboot and start fresh.  To resume where you left off you can click \"Run before\" and it will run all cells before the one currently selected.\n"
      ],
      "metadata": {
        "id": "mAt5xuDsLBpN"
      }
    },
    {
      "cell_type": "markdown",
      "source": [
        "## Downloading\n",
        "\n",
        "Let's start by downloading a file containing data scraped from the online forum platform [Reddit](https://www.reddit.com/). This should take at most a few seconds to run."
      ],
      "metadata": {
        "id": "yI5XsjPanCeL"
      }
    },
    {
      "cell_type": "code",
      "execution_count": null,
      "metadata": {
        "id": "GoqbvVVMAvaX",
        "colab": {
          "base_uri": "https://localhost:8080/"
        },
        "outputId": "3851cede-f57a-4224-8238-8fce1ffb8bd4"
      },
      "outputs": [
        {
          "output_type": "stream",
          "name": "stdout",
          "text": [
            "--2025-01-14 10:39:55--  https://gla-my.sharepoint.com/:u:/g/personal/jake_lever_glasgow_ac_uk/EY_R8Y7DkrxMqXGe-zlgeNkBdJU5ZNTf8FYrN2pqDwddMA?download=1\n",
            "Resolving gla-my.sharepoint.com (gla-my.sharepoint.com)... 13.107.136.10, 13.107.138.10, 2620:1ec:8f8::10, ...\n",
            "Connecting to gla-my.sharepoint.com (gla-my.sharepoint.com)|13.107.136.10|:443... connected.\n",
            "HTTP request sent, awaiting response... 302 Found\n",
            "Location: https://gla-my.sharepoint.com/personal/jake_lever_glasgow_ac_uk/_layouts/15/download.aspx?UniqueId=8ef1d18f92c34cbca9719efb396078d9 [following]\n",
            "--2025-01-14 10:39:55--  https://gla-my.sharepoint.com/personal/jake_lever_glasgow_ac_uk/_layouts/15/download.aspx?UniqueId=8ef1d18f92c34cbca9719efb396078d9\n",
            "Reusing existing connection to gla-my.sharepoint.com:443.\n",
            "HTTP request sent, awaiting response... 200 OK\n",
            "Length: 1279064 (1.2M) [application/json]\n",
            "Saving to: ‘reddit_posts.json’\n",
            "\n",
            "reddit_posts.json   100%[===================>]   1.22M  1.31MB/s    in 0.9s    \n",
            "\n",
            "2025-01-14 10:39:57 (1.31 MB/s) - ‘reddit_posts.json’ saved [1279064/1279064]\n",
            "\n"
          ]
        }
      ],
      "source": [
        "# Download data\n",
        "!wget -O reddit_posts.json https://gla-my.sharepoint.com/:u:/g/personal/jake_lever_glasgow_ac_uk/EY_R8Y7DkrxMqXGe-zlgeNkBdJU5ZNTf8FYrN2pqDwddMA?download=1"
      ]
    },
    {
      "cell_type": "markdown",
      "source": [
        "## Data Exploration\n",
        "\n",
        "If we take a look at the contents of the data file, we see that it is encoded as an array of objects in [JSON](https://en.wikipedia.org/wiki/JSON). There are a variety of other formats used for sharing text data (e.g., [XML](https://en.wikipedia.org/wiki/XML), [Protocol Buffers](https://en.wikipedia.org/wiki/Protocol_Buffers), etc.), but JSON is among the most common these days."
      ],
      "metadata": {
        "id": "A2NGM0ZDnp65"
      }
    },
    {
      "cell_type": "code",
      "source": [
        "# Look at the first 20 lines of the file - note the exclamation mark which tells Colab to run a terminal command instead of Python\n",
        "!head -n 20 reddit_posts.json"
      ],
      "metadata": {
        "id": "d7homfd9ndq-",
        "colab": {
          "base_uri": "https://localhost:8080/"
        },
        "outputId": "76853a0e-e9b7-4b85-938b-f58dfd822fa5"
      },
      "execution_count": null,
      "outputs": [
        {
          "output_type": "stream",
          "name": "stdout",
          "text": [
            "[\r\n",
            "  {\r\n",
            "    \"subreddit\": \"Soda\",\r\n",
            "    \"title\": \"Anyone tried Irn Bru?\",\r\n",
            "    \"score\": 8,\r\n",
            "    \"id\": \"ou5yp1\",\r\n",
            "    \"author\": \"jackibhoy\",\r\n",
            "    \"body\": \"It\\u2019s a Scottish drink and it\\u2019s banned some countries and I was wondering if anyone here has tried it. It has quite a unique taste and it\\u2019s not something you\\u2019d forget quickly. You either love it or hate it I think.\"\r\n",
            "  },\r\n",
            "  {\r\n",
            "    \"subreddit\": \"Soda\",\r\n",
            "    \"title\": \"What is the worst or some of the worst sodas you have drunk\",\r\n",
            "    \"score\": 3,\r\n",
            "    \"id\": \"nt40i4\",\r\n",
            "    \"author\": \"EpicEllis2004\",\r\n",
            "    \"body\": \"The absolute worst soda ive ever had that i can remember is probaly the new mystery fanta or watermelon+strawberry tango some other ones include mango coke, sugar free irn bru (but xtra is nice)\"\r\n",
            "  },\r\n",
            "  {\r\n",
            "    \"subreddit\": \"tea\",\r\n",
            "    \"title\": \"I once had a box of tea that I believe was Scottish Highland black tea. Can anyone recommend me a tea along those lines?\",\r\n"
          ]
        }
      ]
    },
    {
      "cell_type": "markdown",
      "source": [
        "Data provided by online APIs, such as the [Reddit API](https://www.reddit.com/dev/api/), are usually available in JSON. For this lab, we use a simplified version of the Reddit data, aggregating posts across several subreddits (i.e., sub-forums) and using just a handful of salient fields for each post. The data file consists of some metadata about the posts (`subreddit`, `score`, `id`, and `author`) and two fields with the text of the posts (`title` and `body`)."
      ],
      "metadata": {
        "id": "BuBN2-KoGuep"
      }
    },
    {
      "cell_type": "markdown",
      "source": [
        "Now let's load the data into Python so we can work with it. The [json](https://docs.python.org/3/library/json.html) package in the Python standard library makes loading the data very easy."
      ],
      "metadata": {
        "id": "RcydjzEdGx_Z"
      }
    },
    {
      "cell_type": "code",
      "source": [
        "# Load the data into Python\n",
        "import json\n",
        "with open('reddit_posts.json', 'rt') as fin:\n",
        "  reddit_posts = json.load(fin)"
      ],
      "metadata": {
        "id": "iRz19a-7A4iv"
      },
      "execution_count": null,
      "outputs": []
    },
    {
      "cell_type": "markdown",
      "source": [
        "Python's JSON parser provides the data as a `list` of `dict` objects. You should already be familiar with these classes; if not, you can refer to [Python's data structures documentation](https://docs.python.org/3/tutorial/datastructures.html).\n",
        "\n",
        "Let's look at the types of data available provided and some basic information."
      ],
      "metadata": {
        "id": "GKe3TU9HHnrt"
      }
    },
    {
      "cell_type": "code",
      "source": [
        "# Investigate the structure of the data\n",
        "print('type(reddit_posts) =', type(reddit_posts))\n",
        "print('len(reddit_posts) =', len(reddit_posts))\n",
        "print('type(reddit_posts[0]) =', type(reddit_posts[0]))\n",
        "print('reddit_posts[0].keys() =', reddit_posts[0].keys())\n",
        "print('reddit_posts[0][\"title\"] =', reddit_posts[0][\"title\"])"
      ],
      "metadata": {
        "id": "xinvnfVGBKoL",
        "colab": {
          "base_uri": "https://localhost:8080/"
        },
        "outputId": "4fb005a7-b5f0-4ed2-8afd-d407bde3d4b7"
      },
      "execution_count": null,
      "outputs": [
        {
          "output_type": "stream",
          "name": "stdout",
          "text": [
            "type(reddit_posts) = <class 'list'>\n",
            "len(reddit_posts) = 2000\n",
            "type(reddit_posts[0]) = <class 'dict'>\n",
            "reddit_posts[0].keys() = dict_keys(['subreddit', 'title', 'score', 'id', 'author', 'body'])\n",
            "reddit_posts[0][\"title\"] = Anyone tried Irn Bru?\n"
          ]
        }
      ]
    },
    {
      "cell_type": "markdown",
      "source": [
        "We see that there are 2000 posts in the dataset. It's always important to understand the data you're working with, so let's see which subreddits these posts are from.\n",
        "\n",
        "We could write code to loop through each of the posts and keep a running count of the number of posts in each subreddit:\n",
        "\n",
        "```python\n",
        "# The code that uses Counter below essentially does this:\n",
        "subreddit_counts = {}\n",
        "for post in reddit_posts:\n",
        "  subreddit = post['subreddit']\n",
        "  if subreddit not in subreddit_counts:\n",
        "    subreddit_counts[subreddit] = 0\n",
        "  subreddit_counts[subreddit] += 1\n",
        "subreddit_counts\n",
        "```\n",
        "\n",
        "Python provides a convenient [`Counter`](https://docs.python.org/3/library/collections.html#collections.Counter) class to count values like this, so we'll use that instead. We can use a [Generator Expression](https://docs.python.org/3/reference/expressions.html#generator-expressions) to get the subreddit from each post and let `Counter` count how many times each subreddit appears."
      ],
      "metadata": {
        "id": "ku6Iri8SKikQ"
      }
    },
    {
      "cell_type": "code",
      "source": [
        "# Count the number of times each subreddit appears in this dataset\n",
        "from collections import Counter\n",
        "Counter(post['subreddit'] for post in reddit_posts)"
      ],
      "metadata": {
        "id": "o8_WlxMrKNWr",
        "colab": {
          "base_uri": "https://localhost:8080/"
        },
        "outputId": "112812fc-cb4e-4ee9-dc63-1ae613cb8b41"
      },
      "execution_count": null,
      "outputs": [
        {
          "output_type": "execute_result",
          "data": {
            "text/plain": [
              "Counter({'Soda': 174,\n",
              "         'tea': 236,\n",
              "         'xbox': 213,\n",
              "         'antiMLM': 226,\n",
              "         'HydroHomies': 210,\n",
              "         'pcgaming': 225,\n",
              "         'NintendoSwitch': 249,\n",
              "         'Coffee': 234,\n",
              "         'PS4': 233})"
            ]
          },
          "metadata": {},
          "execution_count": 13
        }
      ]
    },
    {
      "cell_type": "markdown",
      "source": [
        "We see that there are 9 subreddits covered by the dataset, mostly about beverages and gaming. The Soda subreddit is the least common (174 posts) and the NintendoSwitch subreddit is the most common (249 posts).\n",
        "\n",
        "**Exercise:** Can you find the user with the most posts and how many posts they have? (Hint: `Counter` provides a function that will help you find the item with the highest count, without needing to look through all the counts manually. You can find this in the [documentation](https://docs.python.org/3/library/collections.html#collections.Counter).)"
      ],
      "metadata": {
        "id": "PZmd8evUNxmf"
      }
    },
    {
      "cell_type": "code",
      "source": [
        "# Write your answer here\n",
        "authors = Counter(post['author'] for post in reddit_posts)\n",
        "print(authors.most_common(1)[0])"
      ],
      "metadata": {
        "id": "b9imZr5MK3nT",
        "colab": {
          "base_uri": "https://localhost:8080/"
        },
        "outputId": "7f025c11-2b99-4cc4-d7c5-52ca07d95019"
      },
      "execution_count": null,
      "outputs": [
        {
          "output_type": "stream",
          "name": "stdout",
          "text": [
            "('AutoModerator', 5)\n"
          ]
        }
      ]
    },
    {
      "cell_type": "markdown",
      "source": [
        "You should find that AutoModerator has the most number of posts, with 5.\n",
        "\n",
        "AutoModerator sounds like it may not be a human user, so let's take a look at their posts. There are several ways to do this filtering. One of the most concise is to use a [List Comprehension](https://docs.python.org/3/tutorial/datastructures.html#list-comprehensions), so we'll do that here:"
      ],
      "metadata": {
        "id": "nujmWnKnPHUe"
      }
    },
    {
      "cell_type": "code",
      "source": [
        "[ post for post in reddit_posts if post['author'] == 'AutoModerator' ]"
      ],
      "metadata": {
        "id": "83yPQ-tPPSms",
        "colab": {
          "base_uri": "https://localhost:8080/"
        },
        "outputId": "e787cb2d-1c01-4d51-8aeb-0685b5440ff5"
      },
      "execution_count": null,
      "outputs": [
        {
          "output_type": "execute_result",
          "data": {
            "text/plain": [
              "[{'subreddit': 'NintendoSwitch',\n",
              "  'title': \"/r/NintendoSwitch's Friend Request Weekend! (01/07/2022)\",\n",
              "  'score': 11,\n",
              "  'id': 'ry4xft',\n",
              "  'author': 'AutoModerator',\n",
              "  'body': \"Hi everybody! \\nIt's time for Friend Request Weekend! Use this thread to exchange Friend Codes and Nintendo Accounts, find new friends and set up gaming sessions! Feel free to share local Switch subreddits as well. You can find current local/regional Switch subreddits [here](https://www.reddit.com/r/NintendoSwitch/wiki/relatedsubs). If you would like to have yours added, please [message the moderators](https://www.reddit.com/message/compose?to=%2Fr%2FNintendoSwitch).\\n\\u200b\\nYou can also check out /r/NintendoFriends or /r/SwitchFCSwap for exchanging accounts and making friends. You can also setup a profile via our Mecha Bowser bot in our [Discord server](https://discord.gg/switch). Use the `!profile edit` command in the `#command-central` channel to get started.\\n\\u200b\\nYou can see previous posts [here](https://www.reddit.com/r/NintendoSwitch/search?q=Friend+Request+Weekend&restrict_sr=on&sort=new&t=all).\\nThank you and have a great weekend!\"},\n",
              " {'subreddit': 'NintendoSwitch',\n",
              "  'title': \"/r/NintendoSwitch's Friend Request Weekend! (10/29/2021)\",\n",
              "  'score': 2,\n",
              "  'id': 'qi9cmz',\n",
              "  'author': 'AutoModerator',\n",
              "  'body': \"Hi everybody! \\nIt's time for Friend Request Weekend! Use this thread to exchange Friend Codes and Nintendo Accounts, find new friends and set up gaming sessions! Feel free to share local Switch subreddits as well. You can find current local/regional Switch subreddits [here](https://www.reddit.com/r/NintendoSwitch/wiki/relatedsubs). If you would like to have yours added, please [message the moderators](https://www.reddit.com/message/compose?to=%2Fr%2FNintendoSwitch).\\n\\u200b\\nYou can also check out /r/NintendoFriends or /r/SwitchFCSwap for exchanging accounts and making friends. You can also setup a profile via our Mecha Bowser bot in our [Discord server](https://discord.gg/switch). Use the `!profile edit` command in the `#command-central` channel to get started.\\n\\u200b\\nYou can see previous posts [here](https://www.reddit.com/r/NintendoSwitch/search?q=Friend+Request+Weekend&restrict_sr=on&sort=new&t=all).\\nThank you and have a great weekend!\"},\n",
              " {'subreddit': 'pcgaming',\n",
              "  'title': 'Monthly /r/PCgaming Discussion - What have you been playing, and what do you think of it? (February 2016)',\n",
              "  'score': 28,\n",
              "  'id': '44pzsi',\n",
              "  'author': 'AutoModerator',\n",
              "  'body': \"Monthly Discussion Thread (Previous what have you been playing threads) \\n\\nUse this thread to discuss whatever you've been playing lately (old or new, AAA or indie).  Don't just list the names of games as your entire post, make sure to elaborate with your thoughts on the games.\\n\\nmake sure to use spoiler tags if you're posting anything about a game's plot that might significantly hurt the experience of others that haven't played the game yet (no matter how old or new the game is).\\n\"},\n",
              " {'subreddit': 'pcgaming',\n",
              "  'title': 'Monthly /r/PCgaming Discussion - What have you been playing, and what do you think of it? (January 2016)',\n",
              "  'score': 40,\n",
              "  'id': '40ft81',\n",
              "  'author': 'AutoModerator',\n",
              "  'body': \"Monthly Discussion Thread (Previous what have you been playing threads) \\n\\nUse this thread to discuss whatever you've been playing lately (old or new, AAA or indie).  Don't just list the names of games as your entire post, make sure to elaborate with your thoughts on the games.\\n\\nmake sure to use spoiler tags if you're posting anything about a game's plot that might significantly hurt the experience of others that haven't played the game yet (no matter how old or new the game is).\\n\"},\n",
              " {'subreddit': 'pcgaming',\n",
              "  'title': 'Suggest-A-Game Weekend Thread - August 10, 2019',\n",
              "  'score': 19,\n",
              "  'id': 'coduxu',\n",
              "  'author': 'AutoModerator',\n",
              "  'body': 'Previous Threads \\n\\nLost in your backlog and not sure where to turn? Get help from fellow gamers who can point you toward the good games.\\nOr did you find the next awesomely addictive time sink? Share it with us!'}]"
            ]
          },
          "metadata": {},
          "execution_count": 15
        }
      ]
    },
    {
      "cell_type": "markdown",
      "source": [
        "Indeed, through qualitatively inspecting of AutoModerator's posts, they appear to be automatically generated.\n",
        "\n",
        "Depending on your application, you may want to filter out such posts. For instance, if you were trying to measure public sentiment about a product, you are probably only interested in human users. You could filter out auto-generated posts by manually checking each post, but this becomes impractical as the size of your collection grows. Later in this course we will cover text classification techniques, which could be used to automatically label a large number of posts given manually-labeled training data.\n",
        "\n"
      ],
      "metadata": {
        "id": "iS6VaixxH2MZ"
      }
    },
    {
      "cell_type": "markdown",
      "source": [
        "Can you find out anything else interesting from the dataset by inspecting the data?"
      ],
      "metadata": {
        "id": "d2m3Fua5J9aA"
      }
    },
    {
      "cell_type": "code",
      "source": [
        "# Use this cell to explore the dataset. (Feel free to make other cells as well.)\n",
        "scores = Counter(post['score'] for post in reddit_posts)\n",
        "print(\"Number of posts with 0 scores: \", scores.most_common(1)[0][1])\n",
        "most_upvoted_posts = reddit_posts[0]\n",
        "for post in reddit_posts:\n",
        "  if post['score'] > most_upvoted_posts['score']:\n",
        "    most_upvoted_posts = post\n",
        "print(\"Most upvoted post: \", most_upvoted_posts['title'], \" by: \",most_upvoted_posts['author'], \", Score: \", most_upvoted_posts['score'])"
      ],
      "metadata": {
        "id": "czSDK1yUKFst",
        "colab": {
          "base_uri": "https://localhost:8080/"
        },
        "outputId": "06577d5d-df3b-416f-91f9-a6aafd85a31f"
      },
      "execution_count": null,
      "outputs": [
        {
          "output_type": "stream",
          "name": "stdout",
          "text": [
            "Number of posts with 0 scores:  395\n",
            "Most upvoted post:  Mario Sunshine: Special moves the game doesn't tell you about  by:  Whelt , Score:  14452\n"
          ]
        }
      ]
    },
    {
      "cell_type": "markdown",
      "source": [
        "## Regular Expressions\n",
        "\n",
        "[Regular Expressions](https://en.wikipedia.org/wiki/Regular_expression) (often abbreviated as regex or regexp) are a common tool for pattern matching in text. Python provides regular expressions in the [`re`](https://docs.python.org/3/library/re.html) package.\n",
        "\n",
        "Regular expressions can get very complicated, but it is valuable to be familiar with them. This portion of the lab provides a basic introduction to regex and provides links to further details if you want to learn more."
      ],
      "metadata": {
        "id": "6ZZNGQhoVDqc"
      }
    },
    {
      "cell_type": "markdown",
      "source": [
        "### Motivating Example\n",
        "\n",
        "Let's say you want to find all posts that mention [Irn-Bru](https://en.wikipedia.org/wiki/Irn-Bru). One option would be to use the string contains operator (`in`):"
      ],
      "metadata": {
        "id": "W7NC0yTaWKvi"
      }
    },
    {
      "cell_type": "code",
      "source": [
        "[ p for p in reddit_posts if 'Irn-Bru' in p['title'] or 'Irn-Bru' in p['body'] ]"
      ],
      "metadata": {
        "id": "IB5M4O4ITQ6y",
        "colab": {
          "base_uri": "https://localhost:8080/"
        },
        "outputId": "a290f76d-9c0d-483a-e80b-306d7d9eb924"
      },
      "execution_count": null,
      "outputs": [
        {
          "output_type": "execute_result",
          "data": {
            "text/plain": [
              "[]"
            ]
          },
          "metadata": {},
          "execution_count": 17
        }
      ]
    },
    {
      "cell_type": "markdown",
      "source": [
        "Hmm, nothing matches? Didn't we see the first post mentioned Irn-Bru?"
      ],
      "metadata": {
        "id": "qFHHlZktYNON"
      }
    },
    {
      "cell_type": "code",
      "source": [
        "reddit_posts[0]"
      ],
      "metadata": {
        "id": "uqtxBz8PYMmL",
        "colab": {
          "base_uri": "https://localhost:8080/"
        },
        "outputId": "e0d449a5-368b-4815-f761-e86c0a844c54"
      },
      "execution_count": null,
      "outputs": [
        {
          "output_type": "execute_result",
          "data": {
            "text/plain": [
              "{'subreddit': 'Soda',\n",
              " 'title': 'Anyone tried Irn Bru?',\n",
              " 'score': 8,\n",
              " 'id': 'ou5yp1',\n",
              " 'author': 'jackibhoy',\n",
              " 'body': 'It’s a Scottish drink and it’s banned some countries and I was wondering if anyone here has tried it. It has quite a unique taste and it’s not something you’d forget quickly. You either love it or hate it I think.'}"
            ]
          },
          "metadata": {},
          "execution_count": 23
        }
      ]
    },
    {
      "cell_type": "markdown",
      "source": [
        "Indeed so, but they stylized it as \"Irn Bru\" rather than \"Irn-Bru\". There's probably other ways people might write it too, like IrnBru, Irnbru, etc. We could come up with a list of possibilities and control for different casing (like the code below), but we still might miss some. There's a simpler way using regular expressions.\n",
        "\n",
        "```python\n",
        "match_strings = ['irn-bru', 'irn bru', 'irnbru']\n",
        "[ p for p in reddit_posts if any(m in p['title'].lower() or m in p['body'].lower() for m in match_strings) ]\n",
        "```\n",
        "\n",
        "### Filtering with Regular Expressions\n",
        "\n",
        "A regular expression defines a pattern to match in text as a string. Most characters (letters, numbers) in a pattern match themselves. Some perform special functions, like making the previous character optional or allowing multiple characters to match. For instances:\n",
        " - \"`.`\" matches any character.\n",
        " - \"`?`\" makes the previous character optional.\n",
        "\n",
        "With this, we can define the regular expression `\"irn.?bru\"`, which will match `irn` and `bru` with any character (or no character) between them. An option allows case insensitive matching.\n",
        "\n",
        "We can use regular expressions in python by first importing the `re` package and then compiling our pattern."
      ],
      "metadata": {
        "id": "7WTMGfb8Yazn"
      }
    },
    {
      "cell_type": "code",
      "source": [
        "import re\n",
        "pattern = re.compile(r'irn.?bru', re.I) # re.I makes the pattern case insensitive"
      ],
      "metadata": {
        "id": "zdwtfULaY0ax"
      },
      "execution_count": null,
      "outputs": []
    },
    {
      "cell_type": "markdown",
      "source": [
        "Note that the string with the regular expression has an `r` before. What's that about? That denotes that it is a raw string literal. It means that any [escape sequences](https://docs.python.org/3/reference/lexical_analysis.html#escape-sequences) (e.g. `\\t` for a tab or `\\\\` for a backslash) are ignored. It's often a good idea to use raw string literals (i.e. putting an `r` before the string) for regular expressions. Regular expressions use a lot of backslashes, and it's annoying to have to escape them repeatedly (i.e. having to write `\\\\` instead of `\\` every time).\n",
        "\n",
        "The pattern object can do all sorts of things. Most commonly, you will use the `search` function, which finds and returns the first place that the pattern matches a string."
      ],
      "metadata": {
        "id": "HdPqbd3niIzi"
      }
    },
    {
      "cell_type": "code",
      "source": [
        "match = pattern.search(\"Anyone tried Irn Bru?\")\n",
        "match"
      ],
      "metadata": {
        "id": "IAnKSfq5iN4f",
        "colab": {
          "base_uri": "https://localhost:8080/"
        },
        "outputId": "f9dd6c4a-074c-4d2f-e53a-2021847d913d"
      },
      "execution_count": null,
      "outputs": [
        {
          "output_type": "execute_result",
          "data": {
            "text/plain": [
              "<re.Match object; span=(13, 20), match='Irn Bru'>"
            ]
          },
          "metadata": {},
          "execution_count": 25
        }
      ]
    },
    {
      "cell_type": "markdown",
      "source": [
        "The match object gives the character offsets of the match (`match.span`) and the text itself that matches (`match.group(0)`).\n",
        "\n",
        "If no match is found, `search` returns `None`, which evaluates as `False` when it's used in an `if` statement. This allows it to be easily used for filtering data. Using regular expressions, we find 6 posts about Irn-Bru."
      ],
      "metadata": {
        "id": "tYbnVJPXiglC"
      }
    },
    {
      "cell_type": "code",
      "source": [
        "[ p for p in reddit_posts if pattern.search(p['title']) or pattern.search(p['body']) ]"
      ],
      "metadata": {
        "id": "PlxoWsLShHwx",
        "colab": {
          "base_uri": "https://localhost:8080/"
        },
        "outputId": "6c490cd4-6157-41b1-faf7-88eed26bfc94"
      },
      "execution_count": null,
      "outputs": [
        {
          "output_type": "execute_result",
          "data": {
            "text/plain": [
              "[{'subreddit': 'Soda',\n",
              "  'title': 'Anyone tried Irn Bru?',\n",
              "  'score': 8,\n",
              "  'id': 'ou5yp1',\n",
              "  'author': 'jackibhoy',\n",
              "  'body': 'It’s a Scottish drink and it’s banned some countries and I was wondering if anyone here has tried it. It has quite a unique taste and it’s not something you’d forget quickly. You either love it or hate it I think.'},\n",
              " {'subreddit': 'Soda',\n",
              "  'title': 'What is the worst or some of the worst sodas you have drunk',\n",
              "  'score': 3,\n",
              "  'id': 'nt40i4',\n",
              "  'author': 'EpicEllis2004',\n",
              "  'body': 'The absolute worst soda ive ever had that i can remember is probaly the new mystery fanta or watermelon+strawberry tango some other ones include mango coke, sugar free irn bru (but xtra is nice)'},\n",
              " {'subreddit': 'Soda',\n",
              "  'title': 'Why is creme soda flavor so common?',\n",
              "  'score': 0,\n",
              "  'id': 'ryn22l',\n",
              "  'author': 'Saracenanator',\n",
              "  'body': \"Typically this flavor of soda is sold with different colors but same flavor. I have tried Pakola, Inca Kola, Irn Bru etc and they all taste same. I'm wondering why so many countries make the same flavor?\"},\n",
              " {'subreddit': 'Soda',\n",
              "  'title': 'IRN-BRU @ Amazon for $7.26/month No shipping?',\n",
              "  'score': 1,\n",
              "  'id': 'nvlf0',\n",
              "  'author': 'AmantisAsoko',\n",
              "  'body': \"So I recently got a $25 gift card to Amazon.com and decided I'd get some of my FAVORITE imported soda from scotland, IRN-BRU.  As I was checking out I noticed this option:\\nSave an extra 15% with Subscribe & Save: Sign up to have this item delivered at a regular interval of your choice,\\n and the current price drops to $7.26 ($0.07 / oz) .\\n\\nShipping is always free. No fees, no risks, no obligations. See details\\n\\nHas anyone tried this? Usually shipping this stuff from Scotland is outrageous!\\nIf not, I've signed up for the monthly, and I'll let you know :D\\nEdit: I searched r/Soda, not a single Irn Bru discussion, feel free to have one of those here\"},\n",
              " {'subreddit': 'Soda',\n",
              "  'title': 'Anyone in the US tried Irn Bru?',\n",
              "  'score': 7,\n",
              "  'id': '1c0m8r',\n",
              "  'author': 'RedlineFan',\n",
              "  'body': \"I'm fortunate enough to live about 15 miles away from the famed Jungle Jim's International Market in Eastgate, Ohio.  I had heard some members of a British forum I frequent raving about the taste of a soda called Irn Bru.  I decided to get a can and find out what it tasted like for myself.\\nIt was...interesting.  The soda was amber in flavor, and very sweet.  I'm tempted to say it had a bit of a fruity tinge to it, but I couldn't specify which fruit.  A very hard to describe taste, to say the least.  The sweetness, however, made me decide that it really wasn't worth the $1.79 I spent on one can.\\nAnyone else tried Irn Bru?\"},\n",
              " {'subreddit': 'Soda',\n",
              "  'title': 'Able to get bottles of IRN BRU limited edition spiced ginger, cans of fanta fruit twist or any other uk soda,looking to trade for gatorade, arizona, and crystal lights sachets.',\n",
              "  'score': 3,\n",
              "  'id': 'g22n67',\n",
              "  'author': 'BringbackDreamBars',\n",
              "  'body': 'Its £20 shipping for me for 2kgs, so happy to negotiate on values.'}]"
            ]
          },
          "metadata": {},
          "execution_count": 19
        }
      ]
    },
    {
      "cell_type": "markdown",
      "source": [
        "We can see that there are a variety of ways that people express Irn-Bru.\n",
        "\n",
        "**Exercise:** Can you write code that finds all the ways people express Irn-Bru in the dataset (e.g., \"Irn-Bru\", \"IRN BRU\", etc.)? Hint: you probably need to use the [`findall` function](https://docs.python.org/3/library/re.html#re.findall) with the `pattern` already defined above."
      ],
      "metadata": {
        "id": "QNcswjeikHz0"
      }
    },
    {
      "cell_type": "code",
      "source": [
        "matches = []\n",
        "for post in reddit_posts:\n",
        "    matches.extend(pattern.findall(post['title']))\n",
        "    matches.extend(pattern.findall(post['body']))\n",
        "\n",
        "print(\"Matches found:\", matches)"
      ],
      "metadata": {
        "id": "J8-GabEslnMW",
        "colab": {
          "base_uri": "https://localhost:8080/"
        },
        "outputId": "e1374e14-a9a9-4e3e-c5f8-ecc9d01a7d71"
      },
      "execution_count": null,
      "outputs": [
        {
          "output_type": "stream",
          "name": "stdout",
          "text": [
            "Matches found: ['Irn Bru', 'irn bru', 'Irn Bru', 'IRN-BRU', 'IRN-BRU', 'Irn Bru', 'Irn Bru', 'Irn Bru', 'Irn Bru', 'IRN BRU']\n"
          ]
        }
      ]
    },
    {
      "cell_type": "markdown",
      "source": [
        "(You should find that \"Irn Bru\" appears 6 times, \"IRN-BRU\" appears twice, \"IRN BRU\" once, and \"irn bru\" once.)"
      ],
      "metadata": {
        "id": "6Bq4NihLnRqL"
      }
    },
    {
      "cell_type": "markdown",
      "source": [
        "Now let's try to find some years mentioned in the text of the documents. you'll need to define a new pattern. You might find that a [regular expressions cheatsheet](https://cheatography.com/davechild/cheat-sheets/regular-expressions/) is helpful so you can look up the pattern for `digit`.\n",
        "\n",
        "**Exercise:** Find all 21st-century years (4 digit numbers starting with '20') in the title and bodies of the posts. What is the most common?"
      ],
      "metadata": {
        "id": "fUClndGDdg0G"
      }
    },
    {
      "cell_type": "code",
      "source": [
        "pattern = re.compile(r'\\b20\\d{2}\\b')  # \\b20[0-9][0-9]\\b\n",
        "\n",
        "years = []\n",
        "for post in reddit_posts:\n",
        "    years.extend(pattern.findall(post['title']))\n",
        "    years.extend(pattern.findall(post['body']))\n",
        "\n",
        "year_counts = Counter(years)\n",
        "\n",
        "print(\"Year occurrences:\", year_counts)\n",
        "print(\"Most common year:\", year_counts.most_common(1))"
      ],
      "metadata": {
        "id": "NCJ8HvwMdhrK",
        "colab": {
          "base_uri": "https://localhost:8080/"
        },
        "outputId": "11e2afce-847c-4872-da93-95530ecb2db6"
      },
      "execution_count": null,
      "outputs": [
        {
          "output_type": "stream",
          "name": "stdout",
          "text": [
            "Year occurrences: Counter({'2015': 15, '2018': 14, '2020': 14, '2017': 12, '2016': 12, '2019': 11, '2013': 9, '2021': 8, '2012': 8, '2080': 6, '2022': 5, '2014': 5, '2006': 3, '2000': 2, '2077': 2, '2007': 2, '2009': 2, '2042': 2, '2010': 2, '2060': 2, '2011': 1, '2005': 1, '2008': 1, '2070': 1})\n",
            "Most common year: [('2015', 15)]\n"
          ]
        }
      ]
    },
    {
      "cell_type": "code",
      "source": [
        "[ p['title'] for p in reddit_posts if re.search(r'^(.).*\\1$', p['title']) ]"
      ],
      "metadata": {
        "id": "b5QaCDanvV-u",
        "colab": {
          "base_uri": "https://localhost:8080/"
        },
        "outputId": "32e2995d-0182-4308-da0c-347d5962d5c1"
      },
      "execution_count": null,
      "outputs": [
        {
          "output_type": "execute_result",
          "data": {
            "text/plain": [
              "['r/HydroHomies Community Fundraiser',\n",
              " 'I just finished Dragon Quest XI',\n",
              " \"It's time for a new UI\",\n",
              " 'The HUNger Games - Building false engagement for PROF$T',\n",
              " 'My Fiancee wants to join an MLM',\n",
              " 'My coworker is into MLM',\n",
              " 'Should I Wait for Series X or Get Series S',\n",
              " 'r/why for',\n",
              " 'SO MANY FEELINGS',\n",
              " '\"Oh, we did Amyway once.\"']"
            ]
          },
          "metadata": {},
          "execution_count": 41
        }
      ]
    },
    {
      "cell_type": "markdown",
      "source": [
        "You should find that the digits `2016` appears 35 times across the posts.\n",
        "\n",
        "Now, a question: do you think all of those 4 digit numbers are actually years in the text. Could they be anything else?"
      ],
      "metadata": {
        "id": "93uo_7WHeZX7"
      }
    },
    {
      "cell_type": "markdown",
      "source": [
        "### Additional Resources\n",
        "\n",
        "These examples only scratch the surface of the capacities of regular expressions. We refer you to these resources for further details.\n",
        "\n",
        " - [RegExr](https://regexr.com/) -- Interactively build and evaluate regular expressions in a GUI. This can be helpful when trying to build a tricky regex or figure out why it's not matching what you want it to.\n",
        " - [RegexOne](https://regexone.com/) -- A detailed and interactive regular expression tutorial\n",
        " - [Python's `re` documentation](https://docs.python.org/3/library/re.html) -- Provides details about both regex syntax and Python's regex API"
      ],
      "metadata": {
        "id": "a5e4crdKVFSa"
      }
    },
    {
      "cell_type": "markdown",
      "source": [
        "## End\n",
        "\n",
        "This is the end of Lab 0. Let us know if you encounter any issues! Remember we are here to help!\n",
        "\n",
        "In this lab, you...\n",
        "- started using Colab\n",
        "- loaded textual data from Reddit as a JSON file\n",
        "- explored the data to learn a bit about it\n",
        "- reviewed salient Python features, such as Counter and list comprehensions\n",
        "- explored using regular expressions in Python\n",
        "\n",
        "**Please remember to submit your completed lab and feedback form on Moodle.**\n"
      ],
      "metadata": {
        "id": "hIeO1UeINAjL"
      }
    },
    {
      "cell_type": "markdown",
      "source": [
        "## Optional Extras\n",
        "\n",
        "The [cheatsheet](https://cheatography.com/davechild/cheat-sheets/regular-expressions/) may be handy for some of these. See if you can come up with a single regular expression for each problem.\n",
        "\n",
        "- Count how many Reddit posts in our dataset have titles that start with a digit followed by any character that isn't a digit (e.g. \"1A\" or \"7-\").\n",
        "- Count how many Reddit posts in our dataset have two 4-digit numbers in the body of the post? What about 4-digit numbers that are not part of larger bits of text (e.g. are properly separated - you could use `\\b` to indicate a [word boundary](https://www.regular-expressions.info/wordboundaries.html)).\n",
        "- Find Reddit posts where the title starts and ends with the same character. You likely need to use [backreferences](https://www.regular-expressions.info/backref.html) in the regular expression.\n",
        "- Write a regex that matches to [British postcodes](https://ideal-postcodes.co.uk/guides/uk-postcode-format) (e.g. G12 8RZ) and is agnostic if there is a space in the middle. You can make it fairly general or try to be more specific to the intricacies of the postcode standards. See if there are any matches in the Reddit posts. Are they actually postcodes?\n",
        "- Write a regex using the [re.sub function](https://docs.python.org/3/library/re.html#re.sub) that swaps the first part (the outcode) and second part (the incode) of a postcode (G128RZ -> 8RZG12). You could use backreferences as mentioned in the [re.sub documentation](https://docs.python.org/3/library/re.html#re.sub)."
      ],
      "metadata": {
        "id": "lQa3CLJveFMW"
      }
    },
    {
      "cell_type": "code",
      "source": [
        "pattern = re.compile(r'^\\d\\D')\n",
        "digit_non_digit_count = sum(bool(pattern.match(entry['title'])) for entry in reddit_posts)\n",
        "print(digit_non_digit_count)\n",
        "\n",
        "two_4_digit_count = sum(\n",
        "    len(re.findall(r'\\b\\d{4}\\b', entry['body'])) >= 2 for entry in reddit_posts\n",
        ")\n",
        "print(two_4_digit_count)\n",
        "\n",
        "pattern = re.compile(r'^(.).*\\1$')\n",
        "same_start_end_count = sum(bool(pattern.match(entry['title'])) for entry in reddit_posts)\n",
        "print(same_start_end_count)\n",
        "\n",
        "pattern = re.compile(r'\\b([A-Z]{1,2}\\d{1,2}[A-Z]?) ?(\\d[A-Z]{2})\\b', re.I)\n",
        "postcode_matches = [\n",
        "    (post['id'], pattern.findall(post['title'] + \" \" + post['body']))\n",
        "    for post in reddit_posts]\n",
        "print(\"Postcode matches:\", postcode_matches)"
      ],
      "metadata": {
        "colab": {
          "base_uri": "https://localhost:8080/"
        },
        "id": "QVQ5f_H5Y6VM",
        "outputId": "9ae8b4da-e3ad-4eea-b81a-33dcc97635dc"
      },
      "execution_count": null,
      "outputs": [
        {
          "output_type": "stream",
          "name": "stdout",
          "text": [
            "12\n",
            "32\n",
            "10\n",
            "Postcode matches: [('ou5yp1', []), ('nt40i4', []), ('rlpmhs', []), ('hgq0lv', []), ('8owgo1', []), ('n1ys0m', []), ('pltrxl', []), ('pa4k19', []), ('dinaeo', []), ('rkzr1u', []), ('g62e3u', []), ('ixmukq', []), ('24rwet', []), ('i078k7', []), ('rcjxjb', []), ('g4vq2c', []), ('obxk0l', []), ('jqz9x3', []), ('rht01y', []), ('pqn3ef', []), ('ixhc29', []), ('36vf80', []), ('6apwcr', []), ('2ptfsq', []), ('73s6ad', []), ('7mo5vi', []), ('7syy2s', []), ('i0m2va', []), ('ixusym', []), ('2k0gk0', []), ('1ph4mn', []), ('geh4pk', []), ('qd87qk', []), ('gdrs4v', []), ('gwuw51', []), ('rtmj7t', []), ('o4f05p', []), ('n578vz', []), ('an1d35', []), ('ftulcc', []), ('61m8et', []), ('lmrt1j', []), ('7cuv06', []), ('2pneuz', []), ('rwp6k5', []), ('cjnx8m', []), ('lhgop', []), ('rmi2xo', []), ('i9alwc', []), ('5usud3', []), ('ixdzv4', []), ('2u9aw2', []), ('d8m4e6', []), ('rxiv2g', []), ('7cxo6k', []), ('jf2frp', []), ('54cztk', []), ('n3yyu8', []), ('43ovio', []), ('bph8ez', []), ('j6kfdi', []), ('qar6ud', []), ('mdz1n', []), ('isovga', []), ('qx2unz', []), ('jdwouf', []), ('blk0w5', []), ('ry4xft', []), ('1nrjdf', []), ('qywl1o', []), ('qbbvz7', []), ('cmrgn2', []), ('85az8d', []), ('bntk7t', []), ('5idc30', []), ('7fgara', []), ('rp58g4', []), ('nohl6v', []), ('8c83yx', []), ('kj8qlh', []), ('p87okl', []), ('57rjym', []), ('pz9dsh', []), ('63mbzq', []), ('1wxn6p', []), ('31io14', []), ('1qkcpx', []), ('o8frdm', []), ('63dweu', []), ('c0q01r', []), ('p3h6ci', []), ('prjkjx', []), ('pwcdqm', []), ('m6k7hn', []), ('legirx', []), ('2u4k6f', []), ('3vqzx4', []), ('k1e0or', []), ('jrxz59', []), ('q4j0c1', []), ('rc0w2r', []), ('n4gdfi', []), ('k65nef', []), ('l5v2cr', []), ('jw4coz', []), ('lrqtvx', []), ('bf4y6k', []), ('qzq7p9', []), ('kyaxn3', []), ('rog7x1', []), ('bjzr2r', []), ('j3ilrw', []), ('k9crsp', []), ('n2wo3a', []), ('2kefw7', []), ('nbyzo4', []), ('3zmco6', []), ('5myh3q', []), ('qf40q0', []), ('b7eijg', []), ('anqw0e', []), ('jc9js1', []), ('8a87j3', []), ('9075qx', []), ('jkj295', []), ('jz6ppx', []), ('q1shkb', []), ('kiju52', []), ('fzizdf', []), ('lzwai2', []), ('7vnzye', []), ('1y8lpc', []), ('j0sg3z', []), ('o7i6ki', []), ('jt8qyh', []), ('319ywx', []), ('fsg86t', []), ('qpn5ev', []), ('kwley0', []), ('lkc049', []), ('3fw5yy', []), ('qjd6yd', []), ('dyt7l6', []), ('7g9ibf', []), ('18odo3', []), ('81wctr', []), ('5o86c0', []), ('ecn4o1', []), ('ao3zqe', []), ('oeoi2w', []), ('r1bs2j', []), ('n2qgru', []), ('iiksib', []), ('d77t3x', []), ('lnz69e', []), ('rv8h1r', []), ('r1lj1v', []), ('mnlvte', []), ('hf7w98', []), ('dl5y1x', []), ('a7znri', []), ('4vabtj', []), ('6ra35p', []), ('35shef', []), ('nkmcaw', []), ('rpyv1z', []), ('2sg2zj', []), ('a80lgt', []), ('6q4x0z', []), ('rz06ez', []), ('fsdip', []), ('qvbgwc', []), ('elotbp', []), ('o7fgxn', []), ('ka683g', []), ('5ire22', []), ('rnr6cx', []), ('kxb3z', []), ('91uqpo', []), ('qoqes7', []), ('rw5bzs', []), ('16mjkv', []), ('3v2vzd', []), ('88iqor', []), ('7y0c44', []), ('lsl2z5', []), ('o53qc4', []), ('irt0hb', []), ('mglfa4', []), ('15zdia', []), ('avgn3d', []), ('8flfnt', []), ('qnvnwr', []), ('7roewx', []), ('qr4lcy', []), ('8a1jw4', []), ('36ejeb', []), ('ncbdba', []), ('lb0d1w', []), ('mbn8cj', []), ('cuqbrd', []), ('1sfxge', []), ('ifqr0o', []), ('ar39bj', []), ('ir63oc', []), ('q0tbk5', []), ('i2kef4', []), ('rbe9cf', []), ('g43k0f', []), ('hdtn5v', []), ('cc5buq', []), ('rwf4hu', []), ('q13pvx', []), ('cin919', []), ('5pajqn', []), ('86481z', []), ('rtcbly', []), ('rvb7tn', []), ('bvh9mk', []), ('4rv3qc', []), ('6jeb8q', []), ('jt3bka', []), ('2awzm7', [('VG24', '8QE'), ('VG24', '8QE'), ('VG24', '8QE')]), ('872e0w', []), ('9lhs5r', []), ('pdkos2', []), ('dwpopn', []), ('kuao1w', []), ('28u7df', []), ('fsfk5d', []), ('kbnkhq', []), ('qn7o1s', []), ('r5jva2', []), ('r0hgj0', []), ('kd76wf', []), ('39nfd3', []), ('39psys', []), ('dzp7se', []), ('ehlf3', []), ('rbmj4r', []), ('mgy1oa', []), ('kxsxox', []), ('k4pptw', []), ('ayxcs1', []), ('m8bfuz', []), ('r92f56', []), ('8jm4hj', []), ('b3ugd0', []), ('luiexp', []), ('l0el7k', []), ('llv7i1', []), ('ra4wqb', []), ('8mjami', []), ('ezwjo4', []), ('l6ypoc', []), ('5zc4ew', []), ('ph9w7', []), ('ccip6o', []), ('fs0jbe', []), ('k6al64', []), ('rwqrdo', []), ('ihe9e2', []), ('guo7fj', []), ('qse0mm', []), ('dbdr3z', []), ('rez9se', []), ('akvzue', []), ('rsbose', []), ('9kpwa7', []), ('l425dk', []), ('qxtheq', []), ('2xc2r6', []), ('tyli9', []), ('4ezcfg', []), ('8r4xft', []), ('8312lb', []), ('iwnien', []), ('rzh0qo', []), ('pyqdhg', []), ('kft67w', []), ('48oewl', []), ('ifl0h6', []), ('fco0pn', []), ('d61l5f', []), ('qj24ke', []), ('rf83mn', []), ('jtmrlo', []), ('7p39v5', []), ('rs9ls1', []), ('4296z7', []), ('ofzxwl', []), ('9qwzh6', []), ('l0pfk2', []), ('j9npyh', []), ('2l8p4v', []), ('rp73ri', []), ('iq98ms', []), ('qse6t8', []), ('rrwvbz', []), ('qexngl', []), ('30rsjf', []), ('geyeai', []), ('lujc2t', []), ('hxf16o', []), ('l5vbwe', []), ('1mddpf', []), ('ii0sxx', []), ('kc5ezv', []), ('ghe0th', []), ('4wprvl', []), ('mlt1v3', []), ('8a3i57', []), ('9vyo02', []), ('nscf0c', []), ('l5rsi5', []), ('pul04g', []), ('reqgvm', []), ('40kalg', []), ('qi9cmz', []), ('b7er6t', []), ('dofmae', []), ('jioys0', []), ('5l2bzh', []), ('7we6qx', []), ('rbr0ja', []), ('l9lzlq', []), ('lafmf7', []), ('j1bc8w', []), ('jpegjn', []), ('6fqzsu', []), ('a1dt8u', []), ('rtw87o', []), ('l6v26c', []), ('68b3w4', []), ('jgq1qt', []), ('olf684', []), ('kb12dg', []), ('b2s33x', []), ('qr43x3', []), ('3b30mx', []), ('ijprnl', []), ('1xawyz', []), ('f8njvw', []), ('ivsse4', []), ('pcoqvy', []), ('jv6d87', []), ('bdlfo5', []), ('h8jjh7', []), ('fw97on', []), ('q9faba', []), ('5x2mkd', []), ('hrbpyt', []), ('ihxo4i', []), ('lfmfop', []), ('qm9br0', []), ('jrehbo', []), ('q0zoe3', []), ('rqcmkx', []), ('q1zfa3', []), ('ptx6ft', []), ('rpui08', []), ('4bd56r', []), ('5uc3cq', []), ('mooecg', []), ('87twb8', []), ('r23xyh', []), ('6uem23', []), ('fu8iro', []), ('hwivx6', []), ('r5vals', []), ('byz4hl', []), ('j7wvrz', []), ('lh8lg0', []), ('o4t0z4', []), ('rpjgp8', []), ('eidiop', []), ('ahe6hj', []), ('lb9khj', []), ('n4sel1', []), ('ecjerg', []), ('dyckx1', []), ('7tewl0', []), ('7047dc', []), ('kfl9bo', []), ('fii3pk', []), ('81semr', []), ('3s5wnt', []), ('ni0f1x', []), ('kjxgta', []), ('n4a6g6', []), ('ke93vr', []), ('q7hanw', []), ('f99f8o', []), ('re7870', []), ('hha3ul', []), ('pxos24', []), ('k3cw7f', []), ('kd44e2', []), ('ebl6si', []), ('ryc4sl', []), ('rg4vd5', []), ('81ff82', []), ('ms07cy', []), ('2dhs4j', []), ('roel19', []), ('cs1ef', []), ('iro1a5', []), ('926ew0', []), ('dsll43', []), ('api5fk', []), ('5c9d8c', []), ('b10jqn', []), ('jutu0l', []), ('jtmixb', []), ('klac4s', []), ('kzj4qc', []), ('9kiz0n', []), ('aaf8le', []), ('8r840g', []), ('i32x6g', []), ('7jjloz', []), ('9d5m33', []), ('m26tte', []), ('qfxwxp', []), ('n0sazw', []), ('q25cnl', []), ('2tgjw4', []), ('rizgc8', []), ('880o35', []), ('1ssw6g', []), ('rx73cz', []), ('rfiygi', []), ('ljhu8d', []), ('l30ej5', []), ('rc1s9i', []), ('c3rttp', []), ('q0q976', []), ('r9u48g', []), ('eygqda', []), ('2pt5wu', []), ('ccao2w', []), ('m4njfa', []), ('2qnzeb', []), ('hlispu', []), ('llx8mj', []), ('je8ods', []), ('phz73t', []), ('vzg2n', []), ('ip387x', []), ('mm3r76', []), ('1lm5ed', []), ('je6pss', []), ('e6tipk', []), ('n7xn2b', []), ('oe0qvb', []), ('3rnp3i', []), ('astmha', []), ('fxtbjj', []), ('rxjqui', []), ('k6jzor', []), ('efszxz', []), ('u01sk', []), ('epaw1k', []), ('cbotq0', []), ('8popt9', []), ('ey9195', []), ('253sbb', []), ('gcbd96', []), ('es69cu', []), ('q0edkt', []), ('hy1e0p', []), ('ot1ojx', []), ('rntujb', []), ('clr5vg', []), ('1e693d', []), ('av9hkn', []), ('cm6wrm', []), ('rtt0x9', []), ('jcfalm', []), ('jgwi1x', []), ('gv7ekx', []), ('3aiz7s', []), ('lkim2m', []), ('8i40qo', []), ('ldyam6', []), ('ddn36j', []), ('rtvh45', []), ('9n5ddl', []), ('51vjm2', []), ('c477d5', []), ('ryhclg', []), ('ptr3bm', []), ('2gttby', []), ('2i7lwq', []), ('httywe', []), ('ej2v05', []), ('fae6z8', []), ('q9zldp', []), ('rfp2u3', []), ('608ljz', []), ('ikbu9g', []), ('f802ye', []), ('ezys8h', []), ('lgb415', []), ('7icttx', []), ('bh8fmm', []), ('4gxgxc', []), ('ru21ei', []), ('9610hp', []), ('ikan5t', []), ('9yt6st', []), ('8dkplz', []), ('d9yueg', []), ('pvw3jk', []), ('k0wkek', []), ('nbf9le', []), ('63azxs', []), ('im0al', []), ('jw6vnj', []), ('i760o9', []), ('71yng9', []), ('36tvmn', []), ('q9g41r', []), ('bnhycw', []), ('g4ifjy', []), ('ku4v0p', []), ('rmalkz', []), ('r79znf', []), ('npwjrn', []), ('b5achi', []), ('rlcjhe', []), ('c071gx', []), ('6uw0ny', []), ('7u5nif', []), ('ptpkng', []), ('izucv9', []), ('h8ltxh', []), ('nfavl0', []), ('nlyrn7', []), ('kah6if', []), ('iflxvg', []), ('o8l57y', []), ('otbafc', []), ('jfi4ww', []), ('kqbcru', []), ('qwzis0', []), ('myip88', []), ('r2e55l', []), ('psiv9r', []), ('6k8l1s', []), ('a4c12s', []), ('c0zzxa', []), ('c7km3z', []), ('2maku8', []), ('rwbt8w', []), ('fnkntf', []), ('ontblk', []), ('osrpri', []), ('kk6g5m', []), ('au3r37', []), ('rw6wyh', []), ('hvc4dr', []), ('pq0ams', []), ('qslg6d', []), ('jzck68', []), ('d9vq8', []), ('j3wqcv', []), ('3df02z', []), ('ds1hs7', []), ('a1zt3l', []), ('90r8ib', []), ('2ubtsg', []), ('dmyngz', []), ('on32ov', []), ('b6bpa7', []), ('mtdpww', []), ('qkoec3', []), ('9xdrnq', []), ('928ukn', []), ('87qf30', []), ('ad2f04', []), ('qu72y0', []), ('ll21vs', []), ('8scrnh', []), ('nd62k2', []), ('5uyvor', []), ('q7x2h4', []), ('ptglu2', []), ('2jt9n9', []), ('27pq86', []), ('q1b0k5', []), ('lbljpl', []), ('p85mvy', [('VB0N', '6ue')]), ('dxcqm0', []), ('qwyfim', []), ('7e6ddj', []), ('hw6lbt', []), ('6hfhib', []), ('eow7hf', []), ('rp8mbg', []), ('ri7px0', []), ('dl3ku1', []), ('igndm6', []), ('rv0zk7', []), ('fl8oel', []), ('pkgx5f', []), ('9zrn22', []), ('g51j1h', []), ('p2p580', []), ('68aeef', []), ('aazg66', []), ('80uplx', []), ('l9ar7j', []), ('rpbnow', []), ('q0hwu9', []), ('8vb51d', []), ('kaiu04', []), ('3umas2', []), ('9n1yuq', []), ('63p5d0', []), ('pu4dor', []), ('3exne9', []), ('r2egh1', []), ('a6brk6', []), ('rcfa5r', []), ('ro7f7d', []), ('193546', []), ('8uwnja', []), ('eh7fs0', []), ('e22tgr', []), ('2fzig7', []), ('5wbmed', []), ('in5hy6', []), ('69h823', []), ('lqos82', []), ('f5m6w2', []), ('74rar9', []), ('akq9pb', []), ('3cnemc', []), ('ijxgap', []), ('mmfly6', []), ('9b8t72', []), ('55e187', []), ('hp0r27', []), ('1e54ah', []), ('64wpcc', []), ('qawb98', []), ('rdpmvx', []), ('o7u6io', []), ('6af7dq', []), ('4ei8rf', []), ('l9eetk', []), ('7xhzkh', []), ('hun4wb', []), ('5vj4iy', []), ('phroc3', []), ('m9kwgn', []), ('5oa99c', []), ('3holls', []), ('5xlagp', []), ('q8udmt', []), ('5bqaog', []), ('rx2cfi', []), ('g9dk0q', []), ('kvw336', []), ('r2eqri', []), ('qgp4b3', []), ('1o5lyt', []), ('k2fxfc', []), ('qswny8', []), ('jo6yvw', []), ('ryqnrf', []), ('iru3xl', []), ('p0gtr2', []), ('f1uhmj', []), ('qxoh5o', []), ('m00bx7', []), ('lzf6bo', []), ('7k4bkx', []), ('807zpg', []), ('ql1obu', []), ('iln176', []), ('6ziv22', []), ('7srwgs', []), ('hvlt0k', []), ('rwogwr', []), ('hxoi7n', []), ('k7dgph', []), ('oipfax', []), ('ivrkpk', []), ('e2l81i', []), ('7jv7ro', []), ('jdtsrz', []), ('rw1182', []), ('21vx6y', []), ('qpqwiv', []), ('rsyvyg', []), ('1zoltp', []), ('rpgfqe', []), ('1ukt9p', []), ('oopq76', []), ('xi91f', []), ('r8ia6c', []), ('lpd7uo', []), ('j35ow1', []), ('dfsk7h', []), ('gwpb8s', []), ('rv66lo', []), ('2nqhpf', []), ('bophj4', []), ('8aatpf', []), ('itkdpy', []), ('5r6ys4', []), ('jd51r6', []), ('kn6zm4', []), ('phaf93', []), ('2do0ns', []), ('mffaij', []), ('rw626w', []), ('q0wunp', []), ('qxjozt', []), ('64g1hc', []), ('ru7hxp', []), ('o0d54i', []), ('k6r9t1', []), ('3inxce', []), ('bgwfja', []), ('gjcuzq', []), ('hsys7p', []), ('ju9wby', []), ('s01hps', []), ('608wyq', []), ('rmnafq', []), ('ewr6em', []), ('93lym5', []), ('onu3p', []), ('8rh3qs', []), ('r4dtix', []), ('7qjsux', []), ('18cg6w', []), ('rhgdcf', []), ('1vc34a', []), ('qr39o3', []), ('5e3q64', []), ('c6s9id', []), ('9xoz68', []), ('2nsy8s', []), ('2qhh1n', []), ('83jtjy', []), ('dtyldb', []), ('a9uo2n', []), ('m6pyuf', []), ('ikosbv', []), ('htjw0v', []), ('lga0hx', []), ('r0tzmc', []), ('g9ew38', []), ('lxc3af', []), ('4qt8wu', []), ('5ajuyq', []), ('m1m3as', []), ('8m75m0', []), ('hp0rn0', []), ('rrbk6a', []), ('9nu4re', []), ('jea9g7', []), ('35ybv9', []), ('7i91jl', []), ('n3v8e3', []), ('aeqvy5', []), ('1v4sim', []), ('dtbm4q', []), ('rd3u0f', []), ('pmykng', []), ('8f7m78', []), ('3u86mw', []), ('1toksg', []), ('brygtt', []), ('3rc5dk', []), ('5rgxdt', []), ('bfr9op', []), ('j4m8gw', []), ('rotijp', []), ('1ba686', []), ('gfccmw', []), ('ryd420', []), ('oq39e4', []), ('qpa6rt', []), ('kwlp0t', []), ('lnvw2u', []), ('i4d1u2', []), ('3uggao', []), ('af6rsl', []), ('qedup5', []), ('rjw6nh', []), ('a9kcv6', []), ('hzeifp', []), ('r780rk', []), ('4zx464', []), ('j4d0i9', []), ('edmypn', []), ('fpsz0d', []), ('ixsf64', []), ('927bi9', []), ('rib4yp', []), ('9ndi2g', []), ('l2uqc0', []), ('1qiisw', []), ('j4ffky', []), ('ogjsld', []), ('47j0vw', []), ('jc8n3n', []), ('91vqzd', []), ('8qk8wt', []), ('qcwslx', []), ('ovi6kj', []), ('6ju12l', []), ('dfk5xu', []), ('oe3k4h', []), ('qj88py', []), ('kpkdaq', []), ('69x3cr', []), ('j8iqfs', []), ('r1ev6l', []), ('r54ot3', []), ('iq8qvo', []), ('diveuq', []), ('32syvx', []), ('nlou1e', []), ('bdk8nb', []), ('5fsncv', []), ('che67o', []), ('hrujaf', []), ('aeryb7', []), ('56w0kr', []), ('jqsrwz', []), ('cv39go', []), ('kfwq25', []), ('mdfczd', []), ('mz2kcv', []), ('n5zd7r', []), ('rkp1my', []), ('q81co6', []), ('ab8s41', []), ('5pdt4k', []), ('8l4ri7', []), ('m6py50', []), ('59p337', []), ('f3kl4p', []), ('glb30k', []), ('ro3juf', []), ('ris5bm', []), ('6qn2p9', []), ('9fyenf', []), ('lf4931', []), ('f5tlni', []), ('99ogop', []), ('q8oqin', []), ('2171d7', []), ('1xu6zm', []), ('8wl2xh', []), ('8nes63', []), ('ccvesm', []), ('ppyuth', []), ('bi4bg0', []), ('r8dj83', []), ('5zrxsz', []), ('2jvq0u', []), ('rp554g', []), ('hfi71e', []), ('421nmw', []), ('inl9sj', []), ('drcx4u', []), ('ea0shr', []), ('evyo2w', []), ('rzozcu', []), ('rnb38q', []), ('mp26jm', []), ('59bkki', []), ('rqrwjc', []), ('rtapyd', []), ('8anu6w', []), ('bdobet', []), ('k2nbhw', []), ('rzw5yj', []), ('e2hfmp', []), ('jmt62i', []), ('88db4m', []), ('hmodqj', []), ('oaov2h', []), ('8jiipf', []), ('ruccp3', []), ('rui7se', []), ('2su8oo', []), ('nx8zhb', []), ('rd9ecw', []), ('1un2k0', []), ('kqnwhg', []), ('cruzuu', []), ('rdr1dz', []), ('be0di3', []), ('qkqoxh', []), ('oaf7f3', []), ('2nzc4a', []), ('3596j2', []), ('getv2b', []), ('cz1epw', []), ('ihni8j', []), ('8gkbsp', []), ('j3lpas', []), ('m9ace0', []), ('p60fuz', []), ('m35ziq', []), ('jv43jy', []), ('neeg87', []), ('gbohmx', []), ('l0hydk', []), ('94r7ac', []), ('n7cnnk', []), ('73su15', []), ('dvloer', []), ('fne28j', []), ('rfap14', []), ('2yamfo', []), ('8r7524', []), ('fpmrm3', []), ('qxi7ba', []), ('2fzvwe', []), ('flo6ud', []), ('g6m94b', []), ('q87642', []), ('punqnw', []), ('9u4obt', []), ('ptmt8q', []), ('44pzsi', []), ('e3igk5', []), ('f33kzg', []), ('qizfbo', []), ('23bb49', []), ('7xcetw', []), ('83wkua', []), ('jv842a', []), ('agikmw', []), ('iwqa4h', []), ('mf8flk', []), ('rg0pgf', []), ('nk6bll', []), ('hgzii5', []), ('7qehiv', []), ('8okauh', []), ('nbtwh9', []), ('izxdl5', []), ('he4t3a', []), ('riqrfb', []), ('ff3ixr', []), ('qpwcja', []), ('1pst7h', []), ('eyatzh', []), ('rte36w', []), ('gtzig3', []), ('4s6xru', []), ('q9gy8n', []), ('l5vhej', []), ('pkvze3', []), ('d7kiru', []), ('h8e6rd', []), ('fl5ryq', []), ('qye1yi', []), ('gpekut', []), ('ry0ou1', []), ('mntd0s', []), ('9olszd', []), ('r76wr4', []), ('r18b7g', []), ('opyafw', []), ('hu9ev0', []), ('i0iuek', []), ('mj1xte', []), ('rnuv1v', []), ('1l44rr', []), ('cao3z4', []), ('pyv0ch', []), ('3cw4nm', []), ('i81fva', []), ('5wqu5w', []), ('fdy8dc', []), ('3mr2sg', []), ('84isg2', []), ('lo4qey', []), ('58skod', []), ('deq669', []), ('ebqet9', []), ('8yswb0', []), ('mjj48e', []), ('rh97b8', []), ('f7agt9', []), ('l7a94t', []), ('orpivl', []), ('egwnfh', []), ('1fk0if', []), ('rp9zyz', []), ('3joqns', []), ('gpdd3y', []), ('ieowye', []), ('g7beta', []), ('4crcjn', []), ('e9wx0n', []), ('1l9yeu', []), ('blcb5w', []), ('7b9vob', []), ('n3jhoq', []), ('etkv20', []), ('lgtrml', []), ('pnpzka', []), ('j6kpue', []), ('afeob8', []), ('g71ps5', []), ('bkrax6', []), ('lfcpyk', []), ('8uuhu7', []), ('rzbbrj', []), ('4ayhi2', []), ('1ebw0x', []), ('r8luun', []), ('rg0eo7', []), ('90texb', []), ('79sksr', []), ('cj4n03', []), ('mrgc2x', []), ('ph4cv8', []), ('d3qdru', []), ('i1fj05', []), ('qq3ore', []), ('hmkkhl', []), ('q54mu', []), ('gmp3em', []), ('3zommz', []), ('3ec0t8', []), ('pjrriq', []), ('hozbpt', []), ('9l5cb3', []), ('l3dfii', []), ('i26spg', []), ('bb52p8', []), ('fm20bk', []), ('7ava3u', []), ('rgbjqe', []), ('pkwth0', []), ('oziun0', []), ('rewmt2', []), ('180r5d', []), ('ny2cuh', []), ('jmun33', []), ('kmwdve', []), ('krcl2m', []), ('r5eka2', []), ('gvfyhl', []), ('5nmk1s', []), ('mhpgr6', []), ('rsmnos', []), ('lg6q7p', []), ('qvgb5h', []), ('91j4ax', []), ('gfa0l7', []), ('bs48zn', []), ('41uof0', []), ('q441ny', []), ('4cgyud', []), ('119frk', []), ('pw030e', []), ('k2ax22', []), ('ndld9g', []), ('7swiwv', []), ('rnljg3', []), ('75zyrv', []), ('rji3xs', []), ('e0yk82', []), ('ry8saa', []), ('awumgu', []), ('3gk6fi', []), ('repgoh', []), ('dflslh', []), ('rk4hr2', []), ('fjqwyr', []), ('ro6dph', []), ('qwqrzh', []), ('o72ghi', []), ('knjujl', []), ('ftn4px', []), ('b4fyfe', []), ('63j4hz', []), ('h0nt9y', []), ('i4ua1i', []), ('9xf6ga', []), ('89vzfw', []), ('rn3a4m', []), ('3r0rgd', []), ('fnarjy', []), ('hsouzv', []), ('686i8i', []), ('opb7y0', []), ('l74bqf', []), ('i4sd3s', []), ('p5gsvm', []), ('gdk2pd', []), ('6nxmkm', []), ('joy643', []), ('l7a3zb', []), ('jgtiaa', []), ('gx32p1', []), ('aed0k1', []), ('adpqvj', []), ('cfcvs3', []), ('77i3x0', []), ('lovpnj', []), ('11h0qh', []), ('c2ytws', []), ('roc80u', []), ('fb8bgk', []), ('onheqm', []), ('3ms01i', [('xg27', '0hu')]), ('81ae7i', []), ('r8kynr', []), ('4v7ofv', []), ('q954zq', []), ('ql85wp', []), ('ebvlok', []), ('qjspvy', []), ('eku4y2', []), ('uad3g', []), ('rr73cj', []), ('pst4vp', []), ('lfb6ik', []), ('p7kbde', []), ('m5kme0', []), ('70g6t4', []), ('envfbi', []), ('ir315n', []), ('m0gn6h', []), ('i407x1', []), ('y0s39', []), ('8cz34c', []), ('922ngf', []), ('l9r9b4', []), ('iqr3gz', []), ('j8ok2j', []), ('qzcpsy', []), ('3jg5ya', []), ('83tvbi', []), ('rm4len', []), ('chb5s1', []), ('r2e0g4', []), ('e5qs6n', []), ('7ov5xq', []), ('iikl1m', []), ('8j4zxb', []), ('1ptqop', []), ('qgx2hy', []), ('3c30cz', []), ('avw2np', []), ('fbgn9g', []), ('qv2udu', []), ('2o07dr', []), ('c030pb', []), ('bqbo1d', []), ('5ymlrj', []), ('5yakqh', []), ('2kp87d', []), ('gr6m21', []), ('jo2iml', []), ('muvbmn', []), ('aqpr00', []), ('1hdq69', []), ('qgnfue', []), ('d81eom', []), ('eueht', []), ('7ddkrg', []), ('r1ll6b', []), ('qqga4i', []), ('kn9glk', []), ('r84fm6', []), ('jty1td', []), ('quktw9', []), ('osqdck', []), ('7fnd3y', []), ('auufm4', []), ('p96m07', []), ('1hsudc', []), ('h7cmzz', []), ('oz6913', []), ('ibwhhp', []), ('5zeh72', []), ('5ricps', []), ('obkk3d', []), ('5y4edw', []), ('ka2ypx', []), ('1qu9n0', []), ('rtog5e', []), ('jdo95h', []), ('ee2hz6', []), ('csy9rj', []), ('czxjr0', []), ('n6ma2t', []), ('9jb5ho', []), ('hp4ygk', []), ('5bx7gv', []), ('k719v0', []), ('9ral3t', []), ('r3in76', []), ('kkgnwe', []), ('m10muc', []), ('af5nsd', []), ('8cqobm', []), ('m3t53r', []), ('5z73iy', []), ('lv0iqb', []), ('lp4xgr', []), ('ilyo80', []), ('rktgxt', []), ('q9cdm9', []), ('jd1yx4', []), ('8c4y0r', []), ('c9or8o', []), ('9urmfd', []), ('jl20lf', []), ('rlx9e7', []), ('epqnsw', []), ('908a5u', []), ('4x9207', []), ('pg14kb', []), ('1ebe5d', []), ('jg3xuc', []), ('ja7lqc', []), ('2m3e02', []), ('2zcr3b', []), ('828mgy', []), ('ruq1h9', []), ('p62ngu', []), ('l01d92', []), ('8qd3r3', []), ('gnqq83', []), ('9vxffi', []), ('lw381f', []), ('j7qs7r', []), ('2onide', []), ('b2mqwd', []), ('ct0xuz', []), ('m8b5jx', []), ('913i1w', []), ('hna6tw', []), ('1peuaa', []), ('iy1zg', []), ('kuo4ky', []), ('8tba1u', []), ('7oklca', []), ('i0j9um', []), ('92yn4w', []), ('khu3om', []), ('c7i8ss', []), ('qlwrsk', []), ('q7pfp4', []), ('9w2rhq', []), ('5dian0', []), ('prxmi3', []), ('5iuvmq', []), ('du7lrk', []), ('mf0m3a', []), ('3c3zly', []), ('5s66cd', []), ('kg3sl0', []), ('hl36s8', []), ('awlc29', []), ('rj21qu', []), ('aiud08', []), ('2qmf9m', []), ('9zgqcj', []), ('kzxkcq', []), ('3muvi7', []), ('o5dqvk', []), ('rpcqjw', []), ('k7q5ep', []), ('mkdh6p', []), ('lhbk2o', []), ('fm98p3', []), ('48jaum', []), ('5g4y4g', []), ('exj9xv', []), ('r7ehq2', []), ('erj3bh', []), ('rt6de9', []), ('7yf6cy', []), ('jvp3mg', []), ('lvmomc', []), ('ba65zf', []), ('eolder', []), ('hdvhiw', []), ('rcb0kg', []), ('qyrtyh', []), ('37s35y', []), ('4h68b0', []), ('bc9zzx', []), ('42p2pr', []), ('qpblww', []), ('q7awxp', []), ('iddmou', []), ('qt45qj', []), ('j56j95', []), ('p1xb2a', []), ('jpjs02', []), ('qo7jtx', []), ('f1v79o', []), ('gy58qp', []), ('rr9j22', []), ('6mz8fr', []), ('qsd8h8', []), ('i37457', []), ('2fdyub', []), ('b98g6i', []), ('jh3dum', []), ('73tmox', []), ('fpvt6u', []), ('1hbnhf', []), ('6o0q5k', []), ('lvx733', []), ('88qevn', []), ('a9qa4h', []), ('cgtpkd', []), ('go5dwz', []), ('b592gf', []), ('cdec6q', []), ('pvcf2w', []), ('52l5ok', []), ('mbs6df', []), ('ryjm4e', []), ('asrgj0', []), ('7htzsh', []), ('agm2ok', []), ('i024z5', []), ('2jr0sf', []), ('rrbrqn', []), ('76edcg', []), ('f2va99', []), ('40ft81', []), ('8fqk63', []), ('7inx8k', []), ('65phs8', []), ('qhj3oy', []), ('c7ujn7', []), ('ln1xdn', []), ('14fjx8', []), ('egymum', []), ('hw9bpg', []), ('rp7oal', []), ('925zvv', []), ('g9eic6', []), ('2vsrb6', []), ('ruer42', []), ('f7hien', []), ('obmw03', []), ('kbphpo', []), ('1rscgv', []), ('hbt3pl', []), ('kr1w6j', []), ('hgxxwx', []), ('pei1nm', []), ('ksp9jk', []), ('1nvuxm', []), ('5v9bfa', []), ('gdohqa', []), ('rix75r', []), ('lvjidf', []), ('1twnoo', []), ('8vn9ee', []), ('qgrwq9', []), ('rc2xsa', []), ('3d23k0', []), ('pab2ff', []), ('gl4lsi', []), ('64yiqq', []), ('5d6980', []), ('amuy7g', []), ('9681j6', []), ('lp16rl', []), ('b4jew9', []), ('ku2f7j', []), ('2ms2db', []), ('ftfrk1', []), ('34noz8', []), ('qau46n', []), ('pi6c27', []), ('3g1bfz', []), ('ryn22l', []), ('ilhv2', []), ('9gtka0', []), ('o2118i', []), ('4g9dic', []), ('qifqu4', []), ('osn7fe', []), ('nvj1wh', []), ('dqvwun', []), ('s06r6t', []), ('r9j63k', []), ('1mwats', []), ('fyu4vd', []), ('r82o59', []), ('gi30sr', []), ('rzeuqi', []), ('qn1e81', []), ('hqi3o8', []), ('r1lsbm', []), ('fv1cgw', []), ('ruvcb4', []), ('rr97g2', []), ('lpb5yb', []), ('rvdwx8', []), ('r3n817', []), ('queqfu', []), ('dktz1j', []), ('1w1yv3', []), ('8ohlnj', []), ('q30zm5', []), ('p9d9ta', []), ('1w11c8', []), ('9i6b6c', []), ('2iww12', []), ('lk58ce', []), ('eqyn9x', []), ('ad2mg2', []), ('82n3gr', []), ('b7hay6', []), ('mepmc7', []), ('ox6iyo', []), ('ip7rt9', []), ('rqsogu', []), ('l4c6wi', []), ('lix3y0', []), ('m3m6ww', []), ('gp7gnl', []), ('c880jp', []), ('5nssf7', []), ('cniw84', []), ('r8r9f5', []), ('puq54y', []), ('oyskae', []), ('kzwkgr', []), ('conpcl', []), ('5okw5o', []), ('n6kuoz', []), ('iqrthi', []), ('k8lq21', []), ('ie56le', []), ('b7y25w', []), ('3chs0x', []), ('kvwmu4', []), ('rxo7dd', []), ('gnf9by', []), ('8zn6yf', []), ('d7z17i', []), ('fykoc4', []), ('n7bs3g', []), ('950t3j', []), ('en3y54', []), ('96pkci', []), ('kdva58', []), ('pzef7w', []), ('rt9phz', []), ('j4gtm7', []), ('cb11px', []), ('kok9bf', []), ('jw8uhm', []), ('42zd7o', []), ('of5joz', []), ('gxarnw', []), ('3egabw', []), ('iotxqd', []), ('gqqdiy', []), ('j5ugku', []), ('p21lx4', []), ('rc2rd6', []), ('4e61wn', []), ('mxf8bk', []), ('lp0h1v', []), ('s0a4sz', []), ('ohm3qk', []), ('ejfzjo', []), ('2htfhw', []), ('orz5yi', []), ('821d11', []), ('nxyzc6', []), ('7hh65m', []), ('pg5gs0', []), ('ldfea3', []), ('bgdbxh', []), ('aui01d', []), ('dcgbnd', []), ('890cib', []), ('g9991z', []), ('jtujc4', []), ('noh8b3', []), ('qv9xx6', []), ('f332kt', []), ('d3rtt8', []), ('rwdzxx', []), ('ksfsyh', []), ('6z9mjv', []), ('n23zh2', []), ('9y6t0q', []), ('z7c00', []), ('jdn305', []), ('g3q8e0', []), ('cxl62i', []), ('n51jbp', []), ('890q4s', []), ('ovpc2k', []), ('bibpod', []), ('16kr5q', []), ('m8dkus', []), ('qplag1', []), ('506rz9', []), ('rtbanb', []), ('gkz0wd', []), ('212yry', []), ('9zcmn5', []), ('rmto52', []), ('rpr0s9', []), ('5cjyo3', []), ('odyund', []), ('qr1dvy', []), ('nhej9n', []), ('4u1jiz', []), ('9xata2', []), ('30mrw0', []), ('57157r', []), ('cm0ys4', []), ('m8in1y', []), ('vqniu', []), ('1u3mx9', []), ('4cabcj', []), ('q6lb22', []), ('9n10nz', []), ('rm10s7', []), ('rurg8o', []), ('rpx9mw', []), ('5sq7ag', []), ('2vmdo5', []), ('314bp8', []), ('qqh43j', []), ('9e94cw', []), ('gqxfw1', []), ('2y6uv9', []), ('i1l4qu', []), ('lgjfvw', []), ('90lfno', []), ('rh9kjq', []), ('fik4rv', []), ('rpc8co', []), ('15r4ru', []), ('q44ouz', []), ('2ys4dw', []), ('jznpna', []), ('rfhfvq', []), ('iem7fq', []), ('n1o41u', []), ('8sbz6z', []), ('q9bj13', []), ('ol9bub', []), ('3tbhlz', []), ('bkt2d3', []), ('i99o2d', []), ('2305to', []), ('bwcm29', []), ('19qo75', []), ('b6irdy', []), ('lsmrsl', []), ('pf85kq', []), ('pdv1i4', []), ('3cktdf', []), ('rp31m9', []), ('qasp1x', []), ('1uvksh', []), ('kce94q', []), ('i9m7hb', []), ('1uu6jg', []), ('fwgfex', []), ('fvsvhf', []), ('463mfy', []), ('rzedoq', []), ('c9b8mm', []), ('b26vf2', []), ('at7tma', []), ('lu26gs', []), ('3j21xz', []), ('4nlwec', []), ('ect0hc', []), ('hqxugq', []), ('1eujoa', []), ('jqb87g', []), ('f4ingc', []), ('k8h2q9', []), ('6sulws', []), ('9azu7t', [('h15', '4Sp')]), ('6yux7o', []), ('6ojb70', []), ('5k8xs3', []), ('oejdhy', []), ('4rz70b', []), ('rjid3f', []), ('qa9lo3', []), ('p7xg8q', []), ('8vkszq', []), ('3s7usq', []), ('gi0uqe', []), ('hf9whu', []), ('bxy2uv', []), ('ku8pcf', []), ('qbc09l', []), ('hk4u7j', []), ('kengyw', []), ('ce0ppe', []), ('ayf51d', []), ('gup99d', []), ('92sayv', []), ('ezkzhp', []), ('jymoj9', []), ('58unpx', []), ('hvyuh4', []), ('2sz078', []), ('cck1ri', []), ('lj29m6', []), ('n7njx', []), ('gjkac5', []), ('islg75', []), ('pblmop', []), ('q3tb29', []), ('cju1fn', []), ('cvzov3', []), ('9vag8j', []), ('a39g5r', []), ('lu2pr1', []), ('pj00n4', []), ('dw08o6', []), ('qdm76l', []), ('ros0ou', []), ('328scq', []), ('mahwfd', []), ('8v0ha2', []), ('9r363r', []), ('eky0lg', []), ('kcc9hq', []), ('7tkwaw', []), ('rsf924', []), ('ndgp6d', []), ('ladxrr', []), ('qkjcm7', []), ('ayhdz7', []), ('5ozxng', []), ('rne8ty', []), ('zy20i', []), ('6fy9g8', []), ('iwcigq', []), ('la4xqp', []), ('f72vnb', []), ('ac7l6y', []), ('kpalzc', []), ('pq07yv', []), ('n6whmj', []), ('rr45ad', []), ('jp8op1', []), ('88gwlr', []), ('rwbmsy', []), ('rhw6fc', []), ('htwdo3', []), ('jnbeyp', []), ('m6a172', []), ('qjxe0z', []), ('k2n5ab', []), ('pwnf6v', []), ('5avkla', []), ('lg5i7w', []), ('igjd54', []), ('84gptf', []), ('6210mb', []), ('refzeo', []), ('opypnk', []), ('2suno9', []), ('eowyrz', []), ('rmbt8e', []), ('56zxka', []), ('o4m2z2', []), ('dt2qpy', []), ('ivwr2o', []), ('9pb41i', []), ('8gl33m', []), ('9slqa0', []), ('9tkenr', []), ('jtho7o', []), ('cv30jj', []), ('lzm5f8', []), ('9xlbcw', []), ('jjvxx6', []), ('rwp9ay', []), ('3k7erg', []), ('lomacu', []), ('5h3vm2', []), ('qhwlsc', []), ('k8un0r', []), ('hmuyyu', []), ('lf50ha', []), ('n4dk46', []), ('ryht2u', []), ('5djq6f', []), ('kul6tw', []), ('mjbm1p', []), ('9fi839', []), ('ktkngm', []), ('hkny6e', []), ('rsp64g', []), ('19itky', []), ('j1i27i', []), ('rqkh7a', []), ('cnz0jn', []), ('5tkflh', []), ('pgdpyh', []), ('aw6ffb', []), ('9g8hm5', []), ('jsn77i', []), ('bia8wy', []), ('eg1d0x', []), ('q0b00u', []), ('i5zu9f', []), ('oku7aj', []), ('cm4hsf', []), ('o60dcc', []), ('8udsar', []), ('m0oxfh', []), ('ltqwd9', []), ('fp1wnr', []), ('o3cvq1', []), ('2ytzvs', []), ('41k6o0', []), ('5rs7u8', []), ('rs0qmb', []), ('qryppd', []), ('4u4x1w', []), ('j4d04r', []), ('5sqggz', []), ('rmffgb', []), ('epksjh', []), ('rml0ry', []), ('jmflzm', []), ('5keh0w', []), ('mx17qb', []), ('hzh0va', []), ('k84wfl', []), ('katmzw', []), ('7frmkk', []), ('dohatf', []), ('qkzags', []), ('rvohqr', []), ('rjllbi', []), ('5fp1ks', []), ('34rv8g', []), ('7a6pjv', []), ('k9zoe2', []), ('fpfwf2', []), ('5wx90h', []), ('epybpn', []), ('j2ucg2', []), ('c4zb09', []), ('axqdz7', []), ('coduxu', []), ('laj0ag', []), ('rt9dxx', []), ('jwld70', []), ('3gdkct', []), ('59ixzz', []), ('rv9ewa', []), ('khmp6k', []), ('32pa7w', []), ('2mq30s', []), ('lvjhhw', []), ('ozhvdi', []), ('30xrhp', []), ('rq1m88', []), ('lojg9k', []), ('nvlf0', []), ('58wx3m', []), ('kg7d8z', []), ('gxq3xg', []), ('r0r10m', []), ('hqogsk', []), ('gbqsyu', []), ('6x04b9', []), ('qzrps7', []), ('rysa5', []), ('pge6ma', []), ('ky9hif', []), ('nt2xym', []), ('1xfu7g', []), ('4qykar', []), ('q8ow5k', []), ('rdxeg6', []), ('1yh3b9', []), ('qv8evt', []), ('qcpy5s', []), ('jkks8l', []), ('rdl9ab', []), ('8c49ct', []), ('qhd2o8', []), ('fgndcr', []), ('drl4q2', []), ('qlojyj', []), ('3yvspn', []), ('jffx9q', []), ('j6jgdv', []), ('raq13l', []), ('5k5fu6', []), ('nbhzww', []), ('pkxx4y', []), ('180sye', []), ('rqjm1t', []), ('rw4frp', []), ('csj7k6', []), ('oepgwm', []), ('q6h38s', []), ('qpd7nl', []), ('54hr48', []), ('95stcs', []), ('rkt7xw', []), ('omh8ic', []), ('jjdj8s', []), ('byne7p', []), ('rsacm4', []), ('dgvt9o', []), ('ik5qys', []), ('p6eu76', []), ('6ozhy9', []), ('ly5e3i', []), ('4epxec', []), ('kj7wgv', []), ('ioruwx', []), ('707ibf', []), ('kpu4o3', []), ('8f5mp8', []), ('olqgxj', []), ('1c0m8r', []), ('ho1xx8', []), ('j46x9n', []), ('fs558c', []), ('d0qg2r', []), ('6lbmf7', []), ('bp3te4', []), ('hke0se', []), ('qthqs6', []), ('ktkxgx', []), ('70kxqw', []), ('mt8baj', []), ('nyjlvw', []), ('ogjh9b', []), ('jdgejh', []), ('ll6w28', []), ('fc2tq7', []), ('6byrjy', []), ('nte86m', []), ('jti1xb', []), ('fgqruq', []), ('cjgpl9', []), ('7ahygu', []), ('65120g', []), ('p9nhh3', []), ('deq71d', []), ('77elbi', []), ('p7at5b', []), ('63godl', []), ('mqgna4', []), ('e7njwl', []), ('53dhi6', []), ('6yaovs', []), ('edrszo', []), ('n5n57i', []), ('q2sp75', []), ('ro37zo', []), ('bir4i5', []), ('4ja0tn', []), ('lxki3f', []), ('dieh70', []), ('lb5u3i', []), ('199t0i', []), ('i3c6or', []), ('8bjnh7', [('ME12', '8GA'), ('mc12', '8ga')]), ('5s9h6x', []), ('bbc87o', []), ('83oxk7', []), ('ma7n09', []), ('rttzog', []), ('l34g0y', []), ('n6epqx', [('X7', '9EP')]), ('6kfx6o', []), ('c7n79k', []), ('ksirqe', []), ('ixxjxj', []), ('ooiscf', []), ('nnq9mq', []), ('kpkbux', []), ('4x3osj', []), ('kzl8br', []), ('pzdlpk', []), ('kzsmt3', []), ('ld1why', []), ('3jn75f', []), ('damuhg', []), ('l64x2s', []), ('2zxmrt', []), ('qlwmm3', []), ('492m01', []), ('kgsmzr', []), ('ezmduu', []), ('d495zm', []), ('bygxfq', []), ('i94iv7', []), ('i71o67', []), ('l03mhg', []), ('rk9239', []), ('oxy0tc', []), ('ebpnf2', []), ('jlu7bq', []), ('7ov7yh', []), ('pisle4', []), ('89nkeo', []), ('607wj6', []), ('emg5sn', []), ('o9sasc', []), ('1b8xyy', []), ('vtp50', []), ('l3tlco', []), ('gzcu6p', []), ('oy3et4', []), ('q4qizb', []), ('ibj5ax', []), ('604u2c', []), ('kwy1m5', []), ('m0iiuc', []), ('q5lpj4', []), ('rvkxf6', []), ('o1b1q', []), ('lkjzcd', []), ('5r17ic', []), ('j5uvcj', []), ('4zczc3', []), ('oy44ox', []), ('lhvwmr', []), ('261yza', []), ('qvqotw', []), ('3yb8qz', []), ('ipwqac', []), ('qv61i8', []), ('m5sy10', []), ('j2dre6', []), ('5ci10v', []), ('mgzd7n', []), ('g22n67', []), ('70irca', []), ('ca7z9c', []), ('gd3stv', []), ('cjk07s', []), ('r7v8aa', []), ('ixerfx', []), ('48z8xo', []), ('kimgx0', []), ('kbq1po', []), ('b94qol', []), ('qx682e', []), ('9g7rvo', []), ('c1b2h2', []), ('bru1av', []), ('m071n2', []), ('qk268c', []), ('61mkas', []), ('qp1nr0', []), ('8yozdn', []), ('reskv3', []), ('64hxmf', []), ('97v51e', []), ('rqklvg', []), ('pmngrf', []), ('yz7yk', []), ('ga9h06', []), ('gie1ku', []), ('dryvap', []), ('r8su6r', []), ('7l6w08', []), ('s03lf9', []), ('gdufv8', []), ('j6ds8y', []), ('hpy1j5', []), ('c26jea', []), ('nuknjj', []), ('kjjqq3', []), ('okgweq', []), ('hok3vc', [])]\n"
          ]
        }
      ]
    }
  ]
}