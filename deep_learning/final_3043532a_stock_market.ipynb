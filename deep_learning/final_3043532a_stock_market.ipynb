{
  "cells": [
    {
      "cell_type": "markdown",
      "metadata": {
        "id": "view-in-github",
        "colab_type": "text"
      },
      "source": [
        "<a href=\"https://colab.research.google.com/github/ayush-96/msc-data-science/blob/master/deep_learning/final_3043532a_stock_market.ipynb\" target=\"_parent\"><img src=\"https://colab.research.google.com/assets/colab-badge.svg\" alt=\"Open In Colab\"/></a>"
      ]
    },
    {
      "cell_type": "markdown",
      "source": [
        "# Playing the Stock Market is a Fools Game!\n"
      ],
      "metadata": {
        "id": "GsuXLbmnf9JZ"
      }
    },
    {
      "cell_type": "markdown",
      "source": [
        "**The training data provided gives the daily percentage movement of stock prices for 442 companies from 05/04/2010 to 31/03/2022. Task is to predict the daily percent movement of the 442 companies on the 1st of April 2022**"
      ],
      "metadata": {
        "id": "XTpoghsIgBOZ"
      }
    },
    {
      "cell_type": "code",
      "execution_count": 1,
      "metadata": {
        "id": "1L_kbCjCgQ51",
        "colab": {
          "base_uri": "https://localhost:8080/"
        },
        "outputId": "c13866c5-c297-4559-c921-ff7d90ba4dd5"
      },
      "outputs": [
        {
          "output_type": "stream",
          "name": "stdout",
          "text": [
            "Collecting optuna\n",
            "  Downloading optuna-4.2.1-py3-none-any.whl.metadata (17 kB)\n",
            "Collecting alembic>=1.5.0 (from optuna)\n",
            "  Downloading alembic-1.15.1-py3-none-any.whl.metadata (7.2 kB)\n",
            "Collecting colorlog (from optuna)\n",
            "  Downloading colorlog-6.9.0-py3-none-any.whl.metadata (10 kB)\n",
            "Requirement already satisfied: numpy in /usr/local/lib/python3.11/dist-packages (from optuna) (2.0.2)\n",
            "Requirement already satisfied: packaging>=20.0 in /usr/local/lib/python3.11/dist-packages (from optuna) (24.2)\n",
            "Requirement already satisfied: sqlalchemy>=1.4.2 in /usr/local/lib/python3.11/dist-packages (from optuna) (2.0.39)\n",
            "Requirement already satisfied: tqdm in /usr/local/lib/python3.11/dist-packages (from optuna) (4.67.1)\n",
            "Requirement already satisfied: PyYAML in /usr/local/lib/python3.11/dist-packages (from optuna) (6.0.2)\n",
            "Requirement already satisfied: Mako in /usr/lib/python3/dist-packages (from alembic>=1.5.0->optuna) (1.1.3)\n",
            "Requirement already satisfied: typing-extensions>=4.12 in /usr/local/lib/python3.11/dist-packages (from alembic>=1.5.0->optuna) (4.12.2)\n",
            "Requirement already satisfied: greenlet!=0.4.17 in /usr/local/lib/python3.11/dist-packages (from sqlalchemy>=1.4.2->optuna) (3.1.1)\n",
            "Downloading optuna-4.2.1-py3-none-any.whl (383 kB)\n",
            "\u001b[2K   \u001b[90m━━━━━━━━━━━━━━━━━━━━━━━━━━━━━━━━━━━━━━━━\u001b[0m \u001b[32m383.6/383.6 kB\u001b[0m \u001b[31m7.4 MB/s\u001b[0m eta \u001b[36m0:00:00\u001b[0m\n",
            "\u001b[?25hDownloading alembic-1.15.1-py3-none-any.whl (231 kB)\n",
            "\u001b[2K   \u001b[90m━━━━━━━━━━━━━━━━━━━━━━━━━━━━━━━━━━━━━━━━\u001b[0m \u001b[32m231.8/231.8 kB\u001b[0m \u001b[31m13.8 MB/s\u001b[0m eta \u001b[36m0:00:00\u001b[0m\n",
            "\u001b[?25hDownloading colorlog-6.9.0-py3-none-any.whl (11 kB)\n",
            "Installing collected packages: colorlog, alembic, optuna\n",
            "Successfully installed alembic-1.15.1 colorlog-6.9.0 optuna-4.2.1\n"
          ]
        }
      ],
      "source": [
        "!pip3 install optuna"
      ]
    },
    {
      "cell_type": "code",
      "execution_count": 2,
      "metadata": {
        "id": "seq37iV3fdec",
        "colab": {
          "base_uri": "https://localhost:8080/"
        },
        "outputId": "6cd7409a-06b2-4244-8428-6df62e24b6f1"
      },
      "outputs": [
        {
          "output_type": "stream",
          "name": "stdout",
          "text": [
            "Collecting captum\n",
            "  Downloading captum-0.8.0-py3-none-any.whl.metadata (26 kB)\n",
            "Requirement already satisfied: matplotlib in /usr/local/lib/python3.11/dist-packages (from captum) (3.10.0)\n",
            "Collecting numpy<2.0 (from captum)\n",
            "  Downloading numpy-1.26.4-cp311-cp311-manylinux_2_17_x86_64.manylinux2014_x86_64.whl.metadata (61 kB)\n",
            "\u001b[2K     \u001b[90m━━━━━━━━━━━━━━━━━━━━━━━━━━━━━━━━━━━━━━━━\u001b[0m \u001b[32m61.0/61.0 kB\u001b[0m \u001b[31m2.1 MB/s\u001b[0m eta \u001b[36m0:00:00\u001b[0m\n",
            "\u001b[?25hRequirement already satisfied: packaging in /usr/local/lib/python3.11/dist-packages (from captum) (24.2)\n",
            "Requirement already satisfied: torch>=1.10 in /usr/local/lib/python3.11/dist-packages (from captum) (2.6.0+cu124)\n",
            "Requirement already satisfied: tqdm in /usr/local/lib/python3.11/dist-packages (from captum) (4.67.1)\n",
            "Requirement already satisfied: filelock in /usr/local/lib/python3.11/dist-packages (from torch>=1.10->captum) (3.18.0)\n",
            "Requirement already satisfied: typing-extensions>=4.10.0 in /usr/local/lib/python3.11/dist-packages (from torch>=1.10->captum) (4.12.2)\n",
            "Requirement already satisfied: networkx in /usr/local/lib/python3.11/dist-packages (from torch>=1.10->captum) (3.4.2)\n",
            "Requirement already satisfied: jinja2 in /usr/local/lib/python3.11/dist-packages (from torch>=1.10->captum) (3.1.6)\n",
            "Requirement already satisfied: fsspec in /usr/local/lib/python3.11/dist-packages (from torch>=1.10->captum) (2025.3.0)\n",
            "Collecting nvidia-cuda-nvrtc-cu12==12.4.127 (from torch>=1.10->captum)\n",
            "  Downloading nvidia_cuda_nvrtc_cu12-12.4.127-py3-none-manylinux2014_x86_64.whl.metadata (1.5 kB)\n",
            "Collecting nvidia-cuda-runtime-cu12==12.4.127 (from torch>=1.10->captum)\n",
            "  Downloading nvidia_cuda_runtime_cu12-12.4.127-py3-none-manylinux2014_x86_64.whl.metadata (1.5 kB)\n",
            "Collecting nvidia-cuda-cupti-cu12==12.4.127 (from torch>=1.10->captum)\n",
            "  Downloading nvidia_cuda_cupti_cu12-12.4.127-py3-none-manylinux2014_x86_64.whl.metadata (1.6 kB)\n",
            "Collecting nvidia-cudnn-cu12==9.1.0.70 (from torch>=1.10->captum)\n",
            "  Downloading nvidia_cudnn_cu12-9.1.0.70-py3-none-manylinux2014_x86_64.whl.metadata (1.6 kB)\n",
            "Collecting nvidia-cublas-cu12==12.4.5.8 (from torch>=1.10->captum)\n",
            "  Downloading nvidia_cublas_cu12-12.4.5.8-py3-none-manylinux2014_x86_64.whl.metadata (1.5 kB)\n",
            "Collecting nvidia-cufft-cu12==11.2.1.3 (from torch>=1.10->captum)\n",
            "  Downloading nvidia_cufft_cu12-11.2.1.3-py3-none-manylinux2014_x86_64.whl.metadata (1.5 kB)\n",
            "Collecting nvidia-curand-cu12==10.3.5.147 (from torch>=1.10->captum)\n",
            "  Downloading nvidia_curand_cu12-10.3.5.147-py3-none-manylinux2014_x86_64.whl.metadata (1.5 kB)\n",
            "Collecting nvidia-cusolver-cu12==11.6.1.9 (from torch>=1.10->captum)\n",
            "  Downloading nvidia_cusolver_cu12-11.6.1.9-py3-none-manylinux2014_x86_64.whl.metadata (1.6 kB)\n",
            "Collecting nvidia-cusparse-cu12==12.3.1.170 (from torch>=1.10->captum)\n",
            "  Downloading nvidia_cusparse_cu12-12.3.1.170-py3-none-manylinux2014_x86_64.whl.metadata (1.6 kB)\n",
            "Requirement already satisfied: nvidia-cusparselt-cu12==0.6.2 in /usr/local/lib/python3.11/dist-packages (from torch>=1.10->captum) (0.6.2)\n",
            "Requirement already satisfied: nvidia-nccl-cu12==2.21.5 in /usr/local/lib/python3.11/dist-packages (from torch>=1.10->captum) (2.21.5)\n",
            "Requirement already satisfied: nvidia-nvtx-cu12==12.4.127 in /usr/local/lib/python3.11/dist-packages (from torch>=1.10->captum) (12.4.127)\n",
            "Collecting nvidia-nvjitlink-cu12==12.4.127 (from torch>=1.10->captum)\n",
            "  Downloading nvidia_nvjitlink_cu12-12.4.127-py3-none-manylinux2014_x86_64.whl.metadata (1.5 kB)\n",
            "Requirement already satisfied: triton==3.2.0 in /usr/local/lib/python3.11/dist-packages (from torch>=1.10->captum) (3.2.0)\n",
            "Requirement already satisfied: sympy==1.13.1 in /usr/local/lib/python3.11/dist-packages (from torch>=1.10->captum) (1.13.1)\n",
            "Requirement already satisfied: mpmath<1.4,>=1.1.0 in /usr/local/lib/python3.11/dist-packages (from sympy==1.13.1->torch>=1.10->captum) (1.3.0)\n",
            "Requirement already satisfied: contourpy>=1.0.1 in /usr/local/lib/python3.11/dist-packages (from matplotlib->captum) (1.3.1)\n",
            "Requirement already satisfied: cycler>=0.10 in /usr/local/lib/python3.11/dist-packages (from matplotlib->captum) (0.12.1)\n",
            "Requirement already satisfied: fonttools>=4.22.0 in /usr/local/lib/python3.11/dist-packages (from matplotlib->captum) (4.56.0)\n",
            "Requirement already satisfied: kiwisolver>=1.3.1 in /usr/local/lib/python3.11/dist-packages (from matplotlib->captum) (1.4.8)\n",
            "Requirement already satisfied: pillow>=8 in /usr/local/lib/python3.11/dist-packages (from matplotlib->captum) (11.1.0)\n",
            "Requirement already satisfied: pyparsing>=2.3.1 in /usr/local/lib/python3.11/dist-packages (from matplotlib->captum) (3.2.1)\n",
            "Requirement already satisfied: python-dateutil>=2.7 in /usr/local/lib/python3.11/dist-packages (from matplotlib->captum) (2.8.2)\n",
            "Requirement already satisfied: six>=1.5 in /usr/local/lib/python3.11/dist-packages (from python-dateutil>=2.7->matplotlib->captum) (1.17.0)\n",
            "Requirement already satisfied: MarkupSafe>=2.0 in /usr/local/lib/python3.11/dist-packages (from jinja2->torch>=1.10->captum) (3.0.2)\n",
            "Downloading captum-0.8.0-py3-none-any.whl (1.4 MB)\n",
            "\u001b[2K   \u001b[90m━━━━━━━━━━━━━━━━━━━━━━━━━━━━━━━━━━━━━━━━\u001b[0m \u001b[32m1.4/1.4 MB\u001b[0m \u001b[31m21.0 MB/s\u001b[0m eta \u001b[36m0:00:00\u001b[0m\n",
            "\u001b[?25hDownloading numpy-1.26.4-cp311-cp311-manylinux_2_17_x86_64.manylinux2014_x86_64.whl (18.3 MB)\n",
            "\u001b[2K   \u001b[90m━━━━━━━━━━━━━━━━━━━━━━━━━━━━━━━━━━━━━━━━\u001b[0m \u001b[32m18.3/18.3 MB\u001b[0m \u001b[31m22.5 MB/s\u001b[0m eta \u001b[36m0:00:00\u001b[0m\n",
            "\u001b[?25hDownloading nvidia_cublas_cu12-12.4.5.8-py3-none-manylinux2014_x86_64.whl (363.4 MB)\n",
            "\u001b[2K   \u001b[90m━━━━━━━━━━━━━━━━━━━━━━━━━━━━━━━━━━━━━━━━\u001b[0m \u001b[32m363.4/363.4 MB\u001b[0m \u001b[31m3.7 MB/s\u001b[0m eta \u001b[36m0:00:00\u001b[0m\n",
            "\u001b[?25hDownloading nvidia_cuda_cupti_cu12-12.4.127-py3-none-manylinux2014_x86_64.whl (13.8 MB)\n",
            "\u001b[2K   \u001b[90m━━━━━━━━━━━━━━━━━━━━━━━━━━━━━━━━━━━━━━━━\u001b[0m \u001b[32m13.8/13.8 MB\u001b[0m \u001b[31m65.3 MB/s\u001b[0m eta \u001b[36m0:00:00\u001b[0m\n",
            "\u001b[?25hDownloading nvidia_cuda_nvrtc_cu12-12.4.127-py3-none-manylinux2014_x86_64.whl (24.6 MB)\n",
            "\u001b[2K   \u001b[90m━━━━━━━━━━━━━━━━━━━━━━━━━━━━━━━━━━━━━━━━\u001b[0m \u001b[32m24.6/24.6 MB\u001b[0m \u001b[31m44.8 MB/s\u001b[0m eta \u001b[36m0:00:00\u001b[0m\n",
            "\u001b[?25hDownloading nvidia_cuda_runtime_cu12-12.4.127-py3-none-manylinux2014_x86_64.whl (883 kB)\n",
            "\u001b[2K   \u001b[90m━━━━━━━━━━━━━━━━━━━━━━━━━━━━━━━━━━━━━━━━\u001b[0m \u001b[32m883.7/883.7 kB\u001b[0m \u001b[31m35.7 MB/s\u001b[0m eta \u001b[36m0:00:00\u001b[0m\n",
            "\u001b[?25hDownloading nvidia_cudnn_cu12-9.1.0.70-py3-none-manylinux2014_x86_64.whl (664.8 MB)\n",
            "\u001b[2K   \u001b[90m━━━━━━━━━━━━━━━━━━━━━━━━━━━━━━━━━━━━━━━━\u001b[0m \u001b[32m664.8/664.8 MB\u001b[0m \u001b[31m2.0 MB/s\u001b[0m eta \u001b[36m0:00:00\u001b[0m\n",
            "\u001b[?25hDownloading nvidia_cufft_cu12-11.2.1.3-py3-none-manylinux2014_x86_64.whl (211.5 MB)\n",
            "\u001b[2K   \u001b[90m━━━━━━━━━━━━━━━━━━━━━━━━━━━━━━━━━━━━━━━━\u001b[0m \u001b[32m211.5/211.5 MB\u001b[0m \u001b[31m6.4 MB/s\u001b[0m eta \u001b[36m0:00:00\u001b[0m\n",
            "\u001b[?25hDownloading nvidia_curand_cu12-10.3.5.147-py3-none-manylinux2014_x86_64.whl (56.3 MB)\n",
            "\u001b[2K   \u001b[90m━━━━━━━━━━━━━━━━━━━━━━━━━━━━━━━━━━━━━━━━\u001b[0m \u001b[32m56.3/56.3 MB\u001b[0m \u001b[31m12.1 MB/s\u001b[0m eta \u001b[36m0:00:00\u001b[0m\n",
            "\u001b[?25hDownloading nvidia_cusolver_cu12-11.6.1.9-py3-none-manylinux2014_x86_64.whl (127.9 MB)\n",
            "\u001b[2K   \u001b[90m━━━━━━━━━━━━━━━━━━━━━━━━━━━━━━━━━━━━━━━━\u001b[0m \u001b[32m127.9/127.9 MB\u001b[0m \u001b[31m7.4 MB/s\u001b[0m eta \u001b[36m0:00:00\u001b[0m\n",
            "\u001b[?25hDownloading nvidia_cusparse_cu12-12.3.1.170-py3-none-manylinux2014_x86_64.whl (207.5 MB)\n",
            "\u001b[2K   \u001b[90m━━━━━━━━━━━━━━━━━━━━━━━━━━━━━━━━━━━━━━━━\u001b[0m \u001b[32m207.5/207.5 MB\u001b[0m \u001b[31m5.4 MB/s\u001b[0m eta \u001b[36m0:00:00\u001b[0m\n",
            "\u001b[?25hDownloading nvidia_nvjitlink_cu12-12.4.127-py3-none-manylinux2014_x86_64.whl (21.1 MB)\n",
            "\u001b[2K   \u001b[90m━━━━━━━━━━━━━━━━━━━━━━━━━━━━━━━━━━━━━━━━\u001b[0m \u001b[32m21.1/21.1 MB\u001b[0m \u001b[31m39.2 MB/s\u001b[0m eta \u001b[36m0:00:00\u001b[0m\n",
            "\u001b[?25hInstalling collected packages: nvidia-nvjitlink-cu12, nvidia-curand-cu12, nvidia-cufft-cu12, nvidia-cuda-runtime-cu12, nvidia-cuda-nvrtc-cu12, nvidia-cuda-cupti-cu12, nvidia-cublas-cu12, numpy, nvidia-cusparse-cu12, nvidia-cudnn-cu12, nvidia-cusolver-cu12, captum\n",
            "  Attempting uninstall: nvidia-nvjitlink-cu12\n",
            "    Found existing installation: nvidia-nvjitlink-cu12 12.5.82\n",
            "    Uninstalling nvidia-nvjitlink-cu12-12.5.82:\n",
            "      Successfully uninstalled nvidia-nvjitlink-cu12-12.5.82\n",
            "  Attempting uninstall: nvidia-curand-cu12\n",
            "    Found existing installation: nvidia-curand-cu12 10.3.6.82\n",
            "    Uninstalling nvidia-curand-cu12-10.3.6.82:\n",
            "      Successfully uninstalled nvidia-curand-cu12-10.3.6.82\n",
            "  Attempting uninstall: nvidia-cufft-cu12\n",
            "    Found existing installation: nvidia-cufft-cu12 11.2.3.61\n",
            "    Uninstalling nvidia-cufft-cu12-11.2.3.61:\n",
            "      Successfully uninstalled nvidia-cufft-cu12-11.2.3.61\n",
            "  Attempting uninstall: nvidia-cuda-runtime-cu12\n",
            "    Found existing installation: nvidia-cuda-runtime-cu12 12.5.82\n",
            "    Uninstalling nvidia-cuda-runtime-cu12-12.5.82:\n",
            "      Successfully uninstalled nvidia-cuda-runtime-cu12-12.5.82\n",
            "  Attempting uninstall: nvidia-cuda-nvrtc-cu12\n",
            "    Found existing installation: nvidia-cuda-nvrtc-cu12 12.5.82\n",
            "    Uninstalling nvidia-cuda-nvrtc-cu12-12.5.82:\n",
            "      Successfully uninstalled nvidia-cuda-nvrtc-cu12-12.5.82\n",
            "  Attempting uninstall: nvidia-cuda-cupti-cu12\n",
            "    Found existing installation: nvidia-cuda-cupti-cu12 12.5.82\n",
            "    Uninstalling nvidia-cuda-cupti-cu12-12.5.82:\n",
            "      Successfully uninstalled nvidia-cuda-cupti-cu12-12.5.82\n",
            "  Attempting uninstall: nvidia-cublas-cu12\n",
            "    Found existing installation: nvidia-cublas-cu12 12.5.3.2\n",
            "    Uninstalling nvidia-cublas-cu12-12.5.3.2:\n",
            "      Successfully uninstalled nvidia-cublas-cu12-12.5.3.2\n",
            "  Attempting uninstall: numpy\n",
            "    Found existing installation: numpy 2.0.2\n",
            "    Uninstalling numpy-2.0.2:\n",
            "      Successfully uninstalled numpy-2.0.2\n",
            "  Attempting uninstall: nvidia-cusparse-cu12\n",
            "    Found existing installation: nvidia-cusparse-cu12 12.5.1.3\n",
            "    Uninstalling nvidia-cusparse-cu12-12.5.1.3:\n",
            "      Successfully uninstalled nvidia-cusparse-cu12-12.5.1.3\n",
            "  Attempting uninstall: nvidia-cudnn-cu12\n",
            "    Found existing installation: nvidia-cudnn-cu12 9.3.0.75\n",
            "    Uninstalling nvidia-cudnn-cu12-9.3.0.75:\n",
            "      Successfully uninstalled nvidia-cudnn-cu12-9.3.0.75\n",
            "  Attempting uninstall: nvidia-cusolver-cu12\n",
            "    Found existing installation: nvidia-cusolver-cu12 11.6.3.83\n",
            "    Uninstalling nvidia-cusolver-cu12-11.6.3.83:\n",
            "      Successfully uninstalled nvidia-cusolver-cu12-11.6.3.83\n",
            "Successfully installed captum-0.8.0 numpy-1.26.4 nvidia-cublas-cu12-12.4.5.8 nvidia-cuda-cupti-cu12-12.4.127 nvidia-cuda-nvrtc-cu12-12.4.127 nvidia-cuda-runtime-cu12-12.4.127 nvidia-cudnn-cu12-9.1.0.70 nvidia-cufft-cu12-11.2.1.3 nvidia-curand-cu12-10.3.5.147 nvidia-cusolver-cu12-11.6.1.9 nvidia-cusparse-cu12-12.3.1.170 nvidia-nvjitlink-cu12-12.4.127\n"
          ]
        }
      ],
      "source": [
        "!pip3 install captum"
      ]
    },
    {
      "cell_type": "code",
      "execution_count": 26,
      "metadata": {
        "id": "Am4v8G8Sfded"
      },
      "outputs": [],
      "source": [
        "%matplotlib inline\n",
        "\n",
        "# Common imports\n",
        "import os\n",
        "from dateutil.parser import parse\n",
        "\n",
        "import numpy as np\n",
        "import pandas as pd\n",
        "\n",
        "import torch\n",
        "import torch.nn as nn\n",
        "import torch.nn.functional as F\n",
        "import torch.optim as optim\n",
        "from torch.nn.utils.rnn import pad_sequence\n",
        "\n",
        "import matplotlib as mpl\n",
        "import matplotlib.pyplot as plt\n",
        "import seaborn as sns\n",
        "\n",
        "import optuna\n",
        "from sklearn.preprocessing import StandardScaler\n",
        "from torch.utils.data import DataLoader, TensorDataset\n",
        "from captum.attr import IntegratedGradients\n",
        "\n",
        "use_cuda = False\n",
        "device = torch.device(\"cuda\" if (use_cuda and torch.cuda.is_available()) else \"cpu\")\n",
        "\n",
        "plt.rcParams.update({'figure.figsize': (10, 7), 'figure.dpi': 120})"
      ]
    },
    {
      "cell_type": "code",
      "source": [],
      "metadata": {
        "id": "gSDhB0n8hjqv"
      },
      "execution_count": null,
      "outputs": []
    },
    {
      "cell_type": "markdown",
      "source": [
        "# Load the dataset - train and submission"
      ],
      "metadata": {
        "id": "TGJm2F92hi-b"
      }
    },
    {
      "cell_type": "markdown",
      "source": [
        "**Drop ID column and transpose for time series format:** Removes the 'ID' column from the train DataFrame and transposes it.\n",
        "\n",
        "**Rename columns:**Assigns new column names to the transposed DataFrame, labeling them as company_0, company_1, ..., up to company_441\n",
        "\n",
        "**Extract and convert index to datetime:** Converts the index values to datetime objects, assuming a day-first format (e.g., DD/MM/YYYY).\n",
        "Sets the converted datetime values as the new index of the DataFrame.\n",
        "\n",
        "**Normalize data:**Initializes a StandardScaler object to standardize the data.\n",
        "Fits the scaler to the data and transforms it, normalizing the values."
      ],
      "metadata": {
        "id": "QywF1zAyhoAL"
      }
    },
    {
      "cell_type": "code",
      "execution_count": 27,
      "metadata": {
        "colab": {
          "base_uri": "https://localhost:8080/",
          "height": 342
        },
        "id": "ah0Ipuppfdef",
        "outputId": "b7517bc0-5420-43d7-a8c6-c9c5561fdb10"
      },
      "outputs": [
        {
          "output_type": "execute_result",
          "data": {
            "text/plain": [
              "            company_0  company_1  company_2  company_3  company_4  company_5  \\\n",
              "2022-03-25       0.86       0.93       0.10       2.02      -1.53       2.08   \n",
              "2022-03-28       0.31       1.55       0.90       2.74      -0.64      -0.13   \n",
              "2022-03-29       0.95       3.96       3.05       2.33       2.32       4.38   \n",
              "2022-03-30       0.68       0.41      -1.24       0.80      -1.64      -2.53   \n",
              "2022-03-31      -0.52       1.08      -1.26      -0.91      -4.58      -5.44   \n",
              "\n",
              "            company_6  company_7  company_8  company_9  ...  company_432  \\\n",
              "2022-03-25       1.54       0.17       1.96      -0.05  ...         0.66   \n",
              "2022-03-28      -3.39      -0.21      -2.97      -0.42  ...         0.23   \n",
              "2022-03-29       0.10       1.72      -1.16       2.91  ...         2.51   \n",
              "2022-03-30       0.08      -1.17       1.96       0.57  ...        -1.35   \n",
              "2022-03-31      -2.42      -1.24      -1.55      -1.78  ...        -2.35   \n",
              "\n",
              "            company_433  company_434  company_435  company_436  company_437  \\\n",
              "2022-03-25        -1.40         2.20         0.26         0.49         0.18   \n",
              "2022-03-28         1.97         0.18         0.56        -0.24        -0.05   \n",
              "2022-03-29         2.72        -0.59        -0.30         1.88         3.77   \n",
              "2022-03-30        -2.95         0.84        -1.61        -1.58        -1.16   \n",
              "2022-03-31        -1.23        -2.79        -3.63        -1.90        -1.85   \n",
              "\n",
              "            company_438  company_439  company_440  company_441  \n",
              "2022-03-25        -0.25         1.93         0.37         0.94  \n",
              "2022-03-28         0.45        -0.50         1.18         0.65  \n",
              "2022-03-29         2.04         2.67         3.02         2.36  \n",
              "2022-03-30        -3.71        -2.61         0.53         0.91  \n",
              "2022-03-31        -2.04        -3.83        -1.73        -0.49  \n",
              "\n",
              "[5 rows x 442 columns]"
            ],
            "text/html": [
              "\n",
              "  <div id=\"df-fceb6efe-deec-43bb-a52c-13e559d739a0\" class=\"colab-df-container\">\n",
              "    <div>\n",
              "<style scoped>\n",
              "    .dataframe tbody tr th:only-of-type {\n",
              "        vertical-align: middle;\n",
              "    }\n",
              "\n",
              "    .dataframe tbody tr th {\n",
              "        vertical-align: top;\n",
              "    }\n",
              "\n",
              "    .dataframe thead th {\n",
              "        text-align: right;\n",
              "    }\n",
              "</style>\n",
              "<table border=\"1\" class=\"dataframe\">\n",
              "  <thead>\n",
              "    <tr style=\"text-align: right;\">\n",
              "      <th></th>\n",
              "      <th>company_0</th>\n",
              "      <th>company_1</th>\n",
              "      <th>company_2</th>\n",
              "      <th>company_3</th>\n",
              "      <th>company_4</th>\n",
              "      <th>company_5</th>\n",
              "      <th>company_6</th>\n",
              "      <th>company_7</th>\n",
              "      <th>company_8</th>\n",
              "      <th>company_9</th>\n",
              "      <th>...</th>\n",
              "      <th>company_432</th>\n",
              "      <th>company_433</th>\n",
              "      <th>company_434</th>\n",
              "      <th>company_435</th>\n",
              "      <th>company_436</th>\n",
              "      <th>company_437</th>\n",
              "      <th>company_438</th>\n",
              "      <th>company_439</th>\n",
              "      <th>company_440</th>\n",
              "      <th>company_441</th>\n",
              "    </tr>\n",
              "  </thead>\n",
              "  <tbody>\n",
              "    <tr>\n",
              "      <th>2022-03-25</th>\n",
              "      <td>0.86</td>\n",
              "      <td>0.93</td>\n",
              "      <td>0.10</td>\n",
              "      <td>2.02</td>\n",
              "      <td>-1.53</td>\n",
              "      <td>2.08</td>\n",
              "      <td>1.54</td>\n",
              "      <td>0.17</td>\n",
              "      <td>1.96</td>\n",
              "      <td>-0.05</td>\n",
              "      <td>...</td>\n",
              "      <td>0.66</td>\n",
              "      <td>-1.40</td>\n",
              "      <td>2.20</td>\n",
              "      <td>0.26</td>\n",
              "      <td>0.49</td>\n",
              "      <td>0.18</td>\n",
              "      <td>-0.25</td>\n",
              "      <td>1.93</td>\n",
              "      <td>0.37</td>\n",
              "      <td>0.94</td>\n",
              "    </tr>\n",
              "    <tr>\n",
              "      <th>2022-03-28</th>\n",
              "      <td>0.31</td>\n",
              "      <td>1.55</td>\n",
              "      <td>0.90</td>\n",
              "      <td>2.74</td>\n",
              "      <td>-0.64</td>\n",
              "      <td>-0.13</td>\n",
              "      <td>-3.39</td>\n",
              "      <td>-0.21</td>\n",
              "      <td>-2.97</td>\n",
              "      <td>-0.42</td>\n",
              "      <td>...</td>\n",
              "      <td>0.23</td>\n",
              "      <td>1.97</td>\n",
              "      <td>0.18</td>\n",
              "      <td>0.56</td>\n",
              "      <td>-0.24</td>\n",
              "      <td>-0.05</td>\n",
              "      <td>0.45</td>\n",
              "      <td>-0.50</td>\n",
              "      <td>1.18</td>\n",
              "      <td>0.65</td>\n",
              "    </tr>\n",
              "    <tr>\n",
              "      <th>2022-03-29</th>\n",
              "      <td>0.95</td>\n",
              "      <td>3.96</td>\n",
              "      <td>3.05</td>\n",
              "      <td>2.33</td>\n",
              "      <td>2.32</td>\n",
              "      <td>4.38</td>\n",
              "      <td>0.10</td>\n",
              "      <td>1.72</td>\n",
              "      <td>-1.16</td>\n",
              "      <td>2.91</td>\n",
              "      <td>...</td>\n",
              "      <td>2.51</td>\n",
              "      <td>2.72</td>\n",
              "      <td>-0.59</td>\n",
              "      <td>-0.30</td>\n",
              "      <td>1.88</td>\n",
              "      <td>3.77</td>\n",
              "      <td>2.04</td>\n",
              "      <td>2.67</td>\n",
              "      <td>3.02</td>\n",
              "      <td>2.36</td>\n",
              "    </tr>\n",
              "    <tr>\n",
              "      <th>2022-03-30</th>\n",
              "      <td>0.68</td>\n",
              "      <td>0.41</td>\n",
              "      <td>-1.24</td>\n",
              "      <td>0.80</td>\n",
              "      <td>-1.64</td>\n",
              "      <td>-2.53</td>\n",
              "      <td>0.08</td>\n",
              "      <td>-1.17</td>\n",
              "      <td>1.96</td>\n",
              "      <td>0.57</td>\n",
              "      <td>...</td>\n",
              "      <td>-1.35</td>\n",
              "      <td>-2.95</td>\n",
              "      <td>0.84</td>\n",
              "      <td>-1.61</td>\n",
              "      <td>-1.58</td>\n",
              "      <td>-1.16</td>\n",
              "      <td>-3.71</td>\n",
              "      <td>-2.61</td>\n",
              "      <td>0.53</td>\n",
              "      <td>0.91</td>\n",
              "    </tr>\n",
              "    <tr>\n",
              "      <th>2022-03-31</th>\n",
              "      <td>-0.52</td>\n",
              "      <td>1.08</td>\n",
              "      <td>-1.26</td>\n",
              "      <td>-0.91</td>\n",
              "      <td>-4.58</td>\n",
              "      <td>-5.44</td>\n",
              "      <td>-2.42</td>\n",
              "      <td>-1.24</td>\n",
              "      <td>-1.55</td>\n",
              "      <td>-1.78</td>\n",
              "      <td>...</td>\n",
              "      <td>-2.35</td>\n",
              "      <td>-1.23</td>\n",
              "      <td>-2.79</td>\n",
              "      <td>-3.63</td>\n",
              "      <td>-1.90</td>\n",
              "      <td>-1.85</td>\n",
              "      <td>-2.04</td>\n",
              "      <td>-3.83</td>\n",
              "      <td>-1.73</td>\n",
              "      <td>-0.49</td>\n",
              "    </tr>\n",
              "  </tbody>\n",
              "</table>\n",
              "<p>5 rows × 442 columns</p>\n",
              "</div>\n",
              "    <div class=\"colab-df-buttons\">\n",
              "\n",
              "  <div class=\"colab-df-container\">\n",
              "    <button class=\"colab-df-convert\" onclick=\"convertToInteractive('df-fceb6efe-deec-43bb-a52c-13e559d739a0')\"\n",
              "            title=\"Convert this dataframe to an interactive table.\"\n",
              "            style=\"display:none;\">\n",
              "\n",
              "  <svg xmlns=\"http://www.w3.org/2000/svg\" height=\"24px\" viewBox=\"0 -960 960 960\">\n",
              "    <path d=\"M120-120v-720h720v720H120Zm60-500h600v-160H180v160Zm220 220h160v-160H400v160Zm0 220h160v-160H400v160ZM180-400h160v-160H180v160Zm440 0h160v-160H620v160ZM180-180h160v-160H180v160Zm440 0h160v-160H620v160Z\"/>\n",
              "  </svg>\n",
              "    </button>\n",
              "\n",
              "  <style>\n",
              "    .colab-df-container {\n",
              "      display:flex;\n",
              "      gap: 12px;\n",
              "    }\n",
              "\n",
              "    .colab-df-convert {\n",
              "      background-color: #E8F0FE;\n",
              "      border: none;\n",
              "      border-radius: 50%;\n",
              "      cursor: pointer;\n",
              "      display: none;\n",
              "      fill: #1967D2;\n",
              "      height: 32px;\n",
              "      padding: 0 0 0 0;\n",
              "      width: 32px;\n",
              "    }\n",
              "\n",
              "    .colab-df-convert:hover {\n",
              "      background-color: #E2EBFA;\n",
              "      box-shadow: 0px 1px 2px rgba(60, 64, 67, 0.3), 0px 1px 3px 1px rgba(60, 64, 67, 0.15);\n",
              "      fill: #174EA6;\n",
              "    }\n",
              "\n",
              "    .colab-df-buttons div {\n",
              "      margin-bottom: 4px;\n",
              "    }\n",
              "\n",
              "    [theme=dark] .colab-df-convert {\n",
              "      background-color: #3B4455;\n",
              "      fill: #D2E3FC;\n",
              "    }\n",
              "\n",
              "    [theme=dark] .colab-df-convert:hover {\n",
              "      background-color: #434B5C;\n",
              "      box-shadow: 0px 1px 3px 1px rgba(0, 0, 0, 0.15);\n",
              "      filter: drop-shadow(0px 1px 2px rgba(0, 0, 0, 0.3));\n",
              "      fill: #FFFFFF;\n",
              "    }\n",
              "  </style>\n",
              "\n",
              "    <script>\n",
              "      const buttonEl =\n",
              "        document.querySelector('#df-fceb6efe-deec-43bb-a52c-13e559d739a0 button.colab-df-convert');\n",
              "      buttonEl.style.display =\n",
              "        google.colab.kernel.accessAllowed ? 'block' : 'none';\n",
              "\n",
              "      async function convertToInteractive(key) {\n",
              "        const element = document.querySelector('#df-fceb6efe-deec-43bb-a52c-13e559d739a0');\n",
              "        const dataTable =\n",
              "          await google.colab.kernel.invokeFunction('convertToInteractive',\n",
              "                                                    [key], {});\n",
              "        if (!dataTable) return;\n",
              "\n",
              "        const docLinkHtml = 'Like what you see? Visit the ' +\n",
              "          '<a target=\"_blank\" href=https://colab.research.google.com/notebooks/data_table.ipynb>data table notebook</a>'\n",
              "          + ' to learn more about interactive tables.';\n",
              "        element.innerHTML = '';\n",
              "        dataTable['output_type'] = 'display_data';\n",
              "        await google.colab.output.renderOutput(dataTable, element);\n",
              "        const docLink = document.createElement('div');\n",
              "        docLink.innerHTML = docLinkHtml;\n",
              "        element.appendChild(docLink);\n",
              "      }\n",
              "    </script>\n",
              "  </div>\n",
              "\n",
              "\n",
              "<div id=\"df-0090d723-5451-4346-b801-27c93ef878ad\">\n",
              "  <button class=\"colab-df-quickchart\" onclick=\"quickchart('df-0090d723-5451-4346-b801-27c93ef878ad')\"\n",
              "            title=\"Suggest charts\"\n",
              "            style=\"display:none;\">\n",
              "\n",
              "<svg xmlns=\"http://www.w3.org/2000/svg\" height=\"24px\"viewBox=\"0 0 24 24\"\n",
              "     width=\"24px\">\n",
              "    <g>\n",
              "        <path d=\"M19 3H5c-1.1 0-2 .9-2 2v14c0 1.1.9 2 2 2h14c1.1 0 2-.9 2-2V5c0-1.1-.9-2-2-2zM9 17H7v-7h2v7zm4 0h-2V7h2v10zm4 0h-2v-4h2v4z\"/>\n",
              "    </g>\n",
              "</svg>\n",
              "  </button>\n",
              "\n",
              "<style>\n",
              "  .colab-df-quickchart {\n",
              "      --bg-color: #E8F0FE;\n",
              "      --fill-color: #1967D2;\n",
              "      --hover-bg-color: #E2EBFA;\n",
              "      --hover-fill-color: #174EA6;\n",
              "      --disabled-fill-color: #AAA;\n",
              "      --disabled-bg-color: #DDD;\n",
              "  }\n",
              "\n",
              "  [theme=dark] .colab-df-quickchart {\n",
              "      --bg-color: #3B4455;\n",
              "      --fill-color: #D2E3FC;\n",
              "      --hover-bg-color: #434B5C;\n",
              "      --hover-fill-color: #FFFFFF;\n",
              "      --disabled-bg-color: #3B4455;\n",
              "      --disabled-fill-color: #666;\n",
              "  }\n",
              "\n",
              "  .colab-df-quickchart {\n",
              "    background-color: var(--bg-color);\n",
              "    border: none;\n",
              "    border-radius: 50%;\n",
              "    cursor: pointer;\n",
              "    display: none;\n",
              "    fill: var(--fill-color);\n",
              "    height: 32px;\n",
              "    padding: 0;\n",
              "    width: 32px;\n",
              "  }\n",
              "\n",
              "  .colab-df-quickchart:hover {\n",
              "    background-color: var(--hover-bg-color);\n",
              "    box-shadow: 0 1px 2px rgba(60, 64, 67, 0.3), 0 1px 3px 1px rgba(60, 64, 67, 0.15);\n",
              "    fill: var(--button-hover-fill-color);\n",
              "  }\n",
              "\n",
              "  .colab-df-quickchart-complete:disabled,\n",
              "  .colab-df-quickchart-complete:disabled:hover {\n",
              "    background-color: var(--disabled-bg-color);\n",
              "    fill: var(--disabled-fill-color);\n",
              "    box-shadow: none;\n",
              "  }\n",
              "\n",
              "  .colab-df-spinner {\n",
              "    border: 2px solid var(--fill-color);\n",
              "    border-color: transparent;\n",
              "    border-bottom-color: var(--fill-color);\n",
              "    animation:\n",
              "      spin 1s steps(1) infinite;\n",
              "  }\n",
              "\n",
              "  @keyframes spin {\n",
              "    0% {\n",
              "      border-color: transparent;\n",
              "      border-bottom-color: var(--fill-color);\n",
              "      border-left-color: var(--fill-color);\n",
              "    }\n",
              "    20% {\n",
              "      border-color: transparent;\n",
              "      border-left-color: var(--fill-color);\n",
              "      border-top-color: var(--fill-color);\n",
              "    }\n",
              "    30% {\n",
              "      border-color: transparent;\n",
              "      border-left-color: var(--fill-color);\n",
              "      border-top-color: var(--fill-color);\n",
              "      border-right-color: var(--fill-color);\n",
              "    }\n",
              "    40% {\n",
              "      border-color: transparent;\n",
              "      border-right-color: var(--fill-color);\n",
              "      border-top-color: var(--fill-color);\n",
              "    }\n",
              "    60% {\n",
              "      border-color: transparent;\n",
              "      border-right-color: var(--fill-color);\n",
              "    }\n",
              "    80% {\n",
              "      border-color: transparent;\n",
              "      border-right-color: var(--fill-color);\n",
              "      border-bottom-color: var(--fill-color);\n",
              "    }\n",
              "    90% {\n",
              "      border-color: transparent;\n",
              "      border-bottom-color: var(--fill-color);\n",
              "    }\n",
              "  }\n",
              "</style>\n",
              "\n",
              "  <script>\n",
              "    async function quickchart(key) {\n",
              "      const quickchartButtonEl =\n",
              "        document.querySelector('#' + key + ' button');\n",
              "      quickchartButtonEl.disabled = true;  // To prevent multiple clicks.\n",
              "      quickchartButtonEl.classList.add('colab-df-spinner');\n",
              "      try {\n",
              "        const charts = await google.colab.kernel.invokeFunction(\n",
              "            'suggestCharts', [key], {});\n",
              "      } catch (error) {\n",
              "        console.error('Error during call to suggestCharts:', error);\n",
              "      }\n",
              "      quickchartButtonEl.classList.remove('colab-df-spinner');\n",
              "      quickchartButtonEl.classList.add('colab-df-quickchart-complete');\n",
              "    }\n",
              "    (() => {\n",
              "      let quickchartButtonEl =\n",
              "        document.querySelector('#df-0090d723-5451-4346-b801-27c93ef878ad button');\n",
              "      quickchartButtonEl.style.display =\n",
              "        google.colab.kernel.accessAllowed ? 'block' : 'none';\n",
              "    })();\n",
              "  </script>\n",
              "</div>\n",
              "\n",
              "    </div>\n",
              "  </div>\n"
            ],
            "application/vnd.google.colaboratory.intrinsic+json": {
              "type": "dataframe"
            }
          },
          "metadata": {},
          "execution_count": 27
        }
      ],
      "source": [
        "# Load Data - train and submission files\n",
        "train = pd.read_csv(\"./train.csv\")\n",
        "submission = pd.read_csv(\"./sample_submission.csv\")\n",
        "\n",
        "# Drop ID column and transpose for time series format\n",
        "train_data = train.drop(columns=['ID']).T\n",
        "train_data.columns = [f\"company_{i}\" for i in range(442)]\n",
        "dates = train_data.index\n",
        "dates = pd.to_datetime(train_data.index, dayfirst=True)\n",
        "train_data.index = dates\n",
        "\n",
        "# Convert to numpy array\n",
        "data = train_data.values.astype(float)\n",
        "\n",
        "# Normalize data\n",
        "scaler = StandardScaler()\n",
        "data_scaled = scaler.fit_transform(data)\n",
        "\n",
        "# train.head()\n",
        "train_data.tail()"
      ]
    },
    {
      "cell_type": "markdown",
      "source": [
        "# Train - Validation split"
      ],
      "metadata": {
        "id": "H0ziU5LziR4b"
      }
    },
    {
      "cell_type": "markdown",
      "source": [
        "A function create_sequences takes normalized data and generates input-output pairs for a sequence prediction task. It uses a sliding window approach with a sequence length of 30\n",
        "The resulting sequences are split into training and validation sets, with 80% used for training and the last 20% for validation."
      ],
      "metadata": {
        "id": "ioBH08E_iXw_"
      }
    },
    {
      "cell_type": "code",
      "execution_count": 28,
      "metadata": {
        "colab": {
          "base_uri": "https://localhost:8080/"
        },
        "id": "IvLj8sNSfdeg",
        "outputId": "d36b546f-92cf-4d37-9dfe-bcdb4b704fd2"
      },
      "outputs": [
        {
          "output_type": "stream",
          "name": "stdout",
          "text": [
            "Number of training sequences: 2392, Validation sequences: 599\n"
          ]
        }
      ],
      "source": [
        "# Create Sequences\n",
        "def create_sequences(data, seq_length=30):\n",
        "    X, y = [], []\n",
        "    for i in range(len(data) - seq_length):\n",
        "        X.append(data[i:i+seq_length])\n",
        "        y.append(data[i+seq_length])\n",
        "    return torch.tensor(X, dtype=torch.float32), torch.tensor(y, dtype=torch.float32)\n",
        "\n",
        "seq_length = 30\n",
        "X, y = create_sequences(data_scaled, seq_length)\n",
        "\n",
        "# Better Train-Validation Split (80-20 split)\n",
        "split_idx = int(len(X) * 0.8)\n",
        "X_train, X_val = X[:split_idx], X[split_idx:]\n",
        "y_train, y_val = y[:split_idx], y[split_idx:]\n",
        "\n",
        "print(f\"Number of training sequences: {len(X_train)}, Validation sequences: {len(X_val)}\")"
      ]
    },
    {
      "cell_type": "markdown",
      "source": [
        "**DataLoader**\n",
        "\n",
        "A batch size of 64 is defined, meaning data will be processed in groups of 64 sequences at a time.\n",
        "train_loader is created using DataLoader, which wraps the training data (X_train, y_train) into a TensorDataset. It enables batching with the specified size and shuffles the data to improve training robustness."
      ],
      "metadata": {
        "id": "1xjrXZ8kiqwT"
      }
    },
    {
      "cell_type": "code",
      "execution_count": 29,
      "metadata": {
        "id": "K3lGWQ4HBF5C"
      },
      "outputs": [],
      "source": [
        "# Create DataLoader\n",
        "batch_size = 64\n",
        "\n",
        "train_loader = DataLoader(TensorDataset(X_train, y_train), batch_size=batch_size, shuffle=True)\n",
        "\n",
        "val_loader = DataLoader(TensorDataset(X_val, y_val), batch_size=batch_size, shuffle=False)"
      ]
    },
    {
      "cell_type": "markdown",
      "metadata": {
        "id": "c-G3gU7pC4LM"
      },
      "source": [
        "# Define LTSM Model"
      ]
    },
    {
      "cell_type": "markdown",
      "source": [
        "This code defines a LSTMModel for time series prediction using a bidirectional LSTM with layer normalization.\n",
        "\n",
        "*   It takes an input dimension, hidden dimension , number of LSTM layers, output dimension, and a dropout rate as parameters.\n",
        "*   The LSTM is bidirectional (processes sequences in both directions), with dropout applied between layers if there’s more than one layer, and it outputs a hidden state doubled in size due to bidirectionality.\n",
        "*   Layer normalization is applied to stabilize and normalize the outputs of the LSTM’s last time step.\n",
        "*   Dropout is used for regularization to prevent overfitting, followed by a linear layer to produce the final output."
      ],
      "metadata": {
        "id": "XFfy2AsRi2p_"
      }
    },
    {
      "cell_type": "code",
      "execution_count": 31,
      "metadata": {
        "id": "RGLOudP9C9XW"
      },
      "outputs": [],
      "source": [
        "class LSTMModel(nn.Module):\n",
        "    def __init__(self, input_dim, hidden_dim, num_layers, output_dim, dropout=0.2):\n",
        "        super(LSTMModel, self).__init__()\n",
        "        self.lstm = nn.LSTM(input_dim, hidden_dim, num_layers, batch_first=True, dropout=dropout if num_layers > 1 else 0)\n",
        "        self.fc = nn.Linear(hidden_dim, output_dim)\n",
        "        self.dropout = nn.Dropout(dropout)\n",
        "\n",
        "    def forward(self, x):\n",
        "        lstm_out, _ = self.lstm(x)\n",
        "        out = self.dropout(lstm_out[:, -1, :])\n",
        "        out = self.fc(out)\n",
        "        return out"
      ]
    },
    {
      "cell_type": "markdown",
      "metadata": {
        "id": "-Gysi_nIDCzK"
      },
      "source": [
        "# Optuna Hyperparameter Optimization\n"
      ]
    },
    {
      "cell_type": "markdown",
      "metadata": {
        "id": "wh6eZE_9fdei"
      },
      "source": [
        "# Hyperparameter Optimization with Optuna\n"
      ]
    },
    {
      "cell_type": "markdown",
      "source": [
        "This code defines an objective function for hyperparameter tuning of an LSTM model using Optuna. It suggests values for hidden_dim, num_layers, learning rate, and dropout. The model, with 442 input and output dimensions, is trained  using Adam optimizer and mean squared error (MSE) loss. For each epoch, the model processes training batches, computes loss, and updates weights, then evaluates validation loss without gradients. The best validation loss is returned.\n",
        "\n",
        "The Optuna study minimizes this loss over 20 trials, testing different parameter combinations. Finally, it prints the best parameters and MSE achieved. This process optimizes the LSTM model for tasks like time series prediction by finding the most effective settings."
      ],
      "metadata": {
        "id": "TEFD8jssjiXs"
      }
    },
    {
      "cell_type": "code",
      "execution_count": 6,
      "metadata": {
        "colab": {
          "base_uri": "https://localhost:8080/"
        },
        "id": "_Rp0qWg2DF7W",
        "outputId": "19a751ef-26c5-4ed7-b6a2-ad167c212fb2"
      },
      "outputs": [
        {
          "output_type": "stream",
          "name": "stderr",
          "text": [
            "[I 2025-03-27 10:48:19,544] A new study created in memory with name: no-name-a46c003c-bf5d-4b86-be71-ca2c63d0f1e0\n",
            "<ipython-input-6-654b1a422307>:4: FutureWarning: suggest_loguniform has been deprecated in v3.0.0. This feature will be removed in v6.0.0. See https://github.com/optuna/optuna/releases/tag/v3.0.0. Use suggest_float(..., log=True) instead.\n",
            "  lr = trial.suggest_loguniform(\"lr\", 1e-4, 1e-2)\n",
            "[I 2025-03-27 10:51:07,254] Trial 0 finished with value: 1.5145785808563232 and parameters: {'hidden_dim': 94, 'num_layers': 3, 'lr': 0.003225161455091114}. Best is trial 0 with value: 1.5145785808563232.\n",
            "<ipython-input-6-654b1a422307>:4: FutureWarning: suggest_loguniform has been deprecated in v3.0.0. This feature will be removed in v6.0.0. See https://github.com/optuna/optuna/releases/tag/v3.0.0. Use suggest_float(..., log=True) instead.\n",
            "  lr = trial.suggest_loguniform(\"lr\", 1e-4, 1e-2)\n",
            "[I 2025-03-27 10:53:10,613] Trial 1 finished with value: 1.4512451887130737 and parameters: {'hidden_dim': 72, 'num_layers': 2, 'lr': 0.005448270576716886}. Best is trial 1 with value: 1.4512451887130737.\n",
            "[I 2025-03-27 10:55:04,873] Trial 2 finished with value: 1.5495784282684326 and parameters: {'hidden_dim': 52, 'num_layers': 3, 'lr': 0.005481974489465075}. Best is trial 1 with value: 1.4512451887130737.\n",
            "[I 2025-03-27 10:57:07,084] Trial 3 finished with value: 2.033632516860962 and parameters: {'hidden_dim': 109, 'num_layers': 2, 'lr': 0.00022444824577519116}. Best is trial 1 with value: 1.4512451887130737.\n",
            "[I 2025-03-27 11:03:25,039] Trial 4 finished with value: 1.8048124313354492 and parameters: {'hidden_dim': 104, 'num_layers': 2, 'lr': 0.009277814982890587}. Best is trial 1 with value: 1.4512451887130737.\n",
            "[I 2025-03-27 11:03:55,706] Trial 5 finished with value: 2.1444649696350098 and parameters: {'hidden_dim': 19, 'num_layers': 2, 'lr': 0.0006139006211589026}. Best is trial 1 with value: 1.4512451887130737.\n",
            "[I 2025-03-27 11:05:28,343] Trial 6 finished with value: 1.658341407775879 and parameters: {'hidden_dim': 85, 'num_layers': 2, 'lr': 0.0005077936339018911}. Best is trial 1 with value: 1.4512451887130737.\n",
            "[I 2025-03-27 11:08:36,986] Trial 7 finished with value: 1.6517622470855713 and parameters: {'hidden_dim': 58, 'num_layers': 2, 'lr': 0.008459540952090274}. Best is trial 1 with value: 1.4512451887130737.\n",
            "[I 2025-03-27 11:10:06,361] Trial 8 finished with value: 2.2539401054382324 and parameters: {'hidden_dim': 62, 'num_layers': 3, 'lr': 0.0005890661431097842}. Best is trial 1 with value: 1.4512451887130737.\n",
            "[I 2025-03-27 11:12:13,383] Trial 9 finished with value: 1.4967341423034668 and parameters: {'hidden_dim': 87, 'num_layers': 3, 'lr': 0.0009965461817667686}. Best is trial 1 with value: 1.4512451887130737.\n",
            "[I 2025-03-27 11:13:56,505] Trial 10 finished with value: 1.6428844928741455 and parameters: {'hidden_dim': 127, 'num_layers': 1, 'lr': 0.0021446702985274523}. Best is trial 1 with value: 1.4512451887130737.\n",
            "[I 2025-03-27 11:14:54,196] Trial 11 finished with value: 1.52653169631958 and parameters: {'hidden_dim': 74, 'num_layers': 1, 'lr': 0.0015830542450787483}. Best is trial 1 with value: 1.4512451887130737.\n",
            "[I 2025-03-27 11:15:54,951] Trial 12 finished with value: 1.7609870433807373 and parameters: {'hidden_dim': 37, 'num_layers': 3, 'lr': 0.0002014156547993836}. Best is trial 1 with value: 1.4512451887130737.\n",
            "[I 2025-03-27 11:16:53,392] Trial 13 finished with value: 1.7248165607452393 and parameters: {'hidden_dim': 76, 'num_layers': 1, 'lr': 0.0013952758663205644}. Best is trial 1 with value: 1.4512451887130737.\n",
            "[I 2025-03-27 11:19:37,033] Trial 14 finished with value: 1.6116231679916382 and parameters: {'hidden_dim': 92, 'num_layers': 3, 'lr': 0.0037827416719727956}. Best is trial 1 with value: 1.4512451887130737.\n",
            "[I 2025-03-27 11:20:24,510] Trial 15 finished with value: 1.6526246070861816 and parameters: {'hidden_dim': 42, 'num_layers': 2, 'lr': 0.00010718600978544492}. Best is trial 1 with value: 1.4512451887130737.\n",
            "[I 2025-03-27 11:23:08,627] Trial 16 finished with value: 1.9029431343078613 and parameters: {'hidden_dim': 114, 'num_layers': 3, 'lr': 0.0008875664561675185}. Best is trial 1 with value: 1.4512451887130737.\n",
            "[I 2025-03-27 11:24:17,921] Trial 17 finished with value: 1.4602367877960205 and parameters: {'hidden_dim': 81, 'num_layers': 1, 'lr': 0.002626723811727728}. Best is trial 1 with value: 1.4512451887130737.\n",
            "[I 2025-03-27 11:25:52,762] Trial 18 finished with value: 1.46956467628479 and parameters: {'hidden_dim': 68, 'num_layers': 1, 'lr': 0.004728837740389632}. Best is trial 1 with value: 1.4512451887130737.\n",
            "[I 2025-03-27 11:26:35,767] Trial 19 finished with value: 1.6566383838653564 and parameters: {'hidden_dim': 48, 'num_layers': 1, 'lr': 0.0026157788381273033}. Best is trial 1 with value: 1.4512451887130737.\n",
            "[I 2025-03-27 11:27:43,300] Trial 20 finished with value: 1.8967232704162598 and parameters: {'hidden_dim': 31, 'num_layers': 1, 'lr': 0.006219020768827407}. Best is trial 1 with value: 1.4512451887130737.\n",
            "[I 2025-03-27 11:29:16,009] Trial 21 finished with value: 1.7058424949645996 and parameters: {'hidden_dim': 67, 'num_layers': 1, 'lr': 0.004704857012448766}. Best is trial 1 with value: 1.4512451887130737.\n",
            "[I 2025-03-27 11:30:19,875] Trial 22 finished with value: 1.6274962425231934 and parameters: {'hidden_dim': 76, 'num_layers': 1, 'lr': 0.002434736374549368}. Best is trial 1 with value: 1.4512451887130737.\n",
            "[I 2025-03-27 11:32:37,147] Trial 23 finished with value: 1.9613155126571655 and parameters: {'hidden_dim': 81, 'num_layers': 1, 'lr': 0.005975650699500359}. Best is trial 1 with value: 1.4512451887130737.\n",
            "[I 2025-03-27 11:34:07,648] Trial 24 finished with value: 1.5353248119354248 and parameters: {'hidden_dim': 68, 'num_layers': 2, 'lr': 0.0038399428412892555}. Best is trial 1 with value: 1.4512451887130737.\n"
          ]
        }
      ],
      "source": [
        "def objective(trial):\n",
        "    hidden_dim = trial.suggest_int(\"hidden_dim\", 16, 128)\n",
        "    num_layers = trial.suggest_int(\"num_layers\", 1, 3)\n",
        "    lr = trial.suggest_loguniform(\"lr\", 1e-4, 1e-2)\n",
        "\n",
        "    model = LSTMModel(input_dim=442, hidden_dim=hidden_dim, num_layers=num_layers, output_dim=442).to(device)\n",
        "    criterion = nn.MSELoss()\n",
        "    optimizer = optim.Adam(model.parameters(), lr=lr)\n",
        "\n",
        "    for epoch in range(20):\n",
        "        model.train()\n",
        "        for X_batch, y_batch in train_loader:\n",
        "            X_batch, y_batch = X_batch.to(device), y_batch.to(device)\n",
        "            optimizer.zero_grad()\n",
        "            y_pred = model(X_batch)\n",
        "            loss = criterion(y_pred, y_batch)\n",
        "            loss.backward()\n",
        "            optimizer.step()\n",
        "\n",
        "    # Validation loss\n",
        "    model.eval()\n",
        "    val_loss = 0\n",
        "    with torch.no_grad():\n",
        "        for X_batch, y_batch in val_loader:\n",
        "            X_batch, y_batch = X_batch.to(device), y_batch.to(device)\n",
        "            y_pred = model(X_batch)\n",
        "            val_loss += criterion(y_pred, y_batch).item()\n",
        "    return val_loss / len(val_loader)\n",
        "\n",
        "study = optuna.create_study(direction=\"minimize\")\n",
        "study.optimize(objective, n_trials=20)\n",
        "best_params = study.best_params"
      ]
    },
    {
      "cell_type": "markdown",
      "metadata": {
        "id": "yuQ3oOnWDOL1"
      },
      "source": [
        "# Train Model with best hyperparameters:"
      ]
    },
    {
      "cell_type": "markdown",
      "source": [
        "This code uses the best hyperparameters (best_params) from the previous Optuna study to train an LSTM model. The model is initialized with an input and output dimension of 442, and the tuned values for hidden_dim, num_layers, and dropout. It uses mean squared error (MSE) as the loss function and the Adam optimizer with the optimized learning rate (lr).\n",
        "\n",
        "Training runs for 200 epochs. In each epoch, the model processes batches from train_loader, computes predictions, calculates loss, and updates weights via backpropagation."
      ],
      "metadata": {
        "id": "7kmirG7PjqXL"
      }
    },
    {
      "cell_type": "code",
      "execution_count": 7,
      "metadata": {
        "id": "8r-kijWGDYtj"
      },
      "outputs": [],
      "source": [
        "model = LSTMModel(input_dim=442, hidden_dim=best_params['hidden_dim'], num_layers=best_params['num_layers'], output_dim=442).to(device)\n",
        "criterion = nn.MSELoss()\n",
        "optimizer = optim.Adam(model.parameters(), lr=best_params['lr'])\n",
        "\n",
        "num_epochs = 200\n",
        "for epoch in range(num_epochs):\n",
        "    model.train()\n",
        "    for X_batch, y_batch in train_loader:\n",
        "        X_batch, y_batch = X_batch.to(device), y_batch.to(device)\n",
        "        optimizer.zero_grad()\n",
        "        y_pred = model(X_batch)\n",
        "        loss = criterion(y_pred, y_batch)\n",
        "        loss.backward()\n",
        "        optimizer.step()"
      ]
    },
    {
      "cell_type": "markdown",
      "metadata": {
        "id": "b8ldwV-PDiBM"
      },
      "source": [
        "# Prediction for 1st April, 2022"
      ]
    },
    {
      "cell_type": "markdown",
      "source": [
        "This code generates a prediction using the trained LSTM model. The model is set to evaluation mode and with gradients disabled it predicts the next value. Finally, converts it back to the original scale, yielding the final prediction for interpretation."
      ],
      "metadata": {
        "id": "R8DXpFvwkWhI"
      }
    },
    {
      "cell_type": "code",
      "execution_count": 8,
      "metadata": {
        "id": "XixEEZgIDpc1"
      },
      "outputs": [],
      "source": [
        "X_input = torch.tensor(data_scaled[-seq_length:], dtype=torch.float32).unsqueeze(0).to(device)\n",
        "model.eval()\n",
        "with torch.no_grad():\n",
        "    pred = model(X_input).cpu().numpy()"
      ]
    },
    {
      "cell_type": "markdown",
      "source": [
        "Saving the submission after adjusting proper dimensions"
      ],
      "metadata": {
        "id": "PSUObYdNkliy"
      }
    },
    {
      "cell_type": "code",
      "execution_count": 9,
      "metadata": {
        "id": "0VfJAuDNQkog",
        "colab": {
          "base_uri": "https://localhost:8080/"
        },
        "outputId": "69c13e42-1d01-4206-f3ac-108c6a1457e7"
      },
      "outputs": [
        {
          "output_type": "stream",
          "name": "stdout",
          "text": [
            "Prediction shape: (1, 442)\n",
            "Submission target shape: (442, 1)\n",
            "Submission file saved successfully!\n"
          ]
        },
        {
          "output_type": "stream",
          "name": "stderr",
          "text": [
            "<ipython-input-9-561b7ccbf755>:8: FutureWarning: Setting an item of incompatible dtype is deprecated and will raise in a future error of pandas. Value '[ 0.17740886  0.54315674  0.69541866  0.42476293  0.67698556  0.7454426\n",
            "  0.13431975  0.57044405  0.19831195  0.48685554  0.3336899   0.36100608\n",
            "  0.5548999   0.66768134  0.2929164   0.23515402  0.6731502  -0.09453578\n",
            "  0.33705357  0.78241885  0.5723196   0.5696969   0.40109915  0.15601218\n",
            " -0.10770342 -0.00641166  0.5727445   0.22129238  0.45549196  0.48480427\n",
            " -0.08892862  0.5121425   0.00390061  0.5407455   0.20732374  0.67667913\n",
            "  0.33515343  0.64984894  0.2902111   0.34060675  0.48838913  0.22466162\n",
            "  0.3479178   0.624671   -0.23645584  0.56212634  0.6521686   0.39507383\n",
            "  0.54856336  0.5449576   0.30611104  0.72087127  0.39939508  0.32000813\n",
            "  0.17721891  0.43112135  0.42994034  0.61434734  0.7450402   0.51459306\n",
            "  0.5605526   0.36818483  0.41870123  0.74843454  0.6770925   0.35347492\n",
            "  0.43535233  0.20783803  0.5607944  -0.1602122  -0.09505704 -0.01671553\n",
            "  0.28370544  0.6017331   0.7588396  -0.0612168   0.52578545  0.5681368\n",
            "  0.5482489  -0.17788285  0.56439793  0.6645924   0.5932728   0.43344188\n",
            "  0.7050475   0.75504094  0.6017613   0.50028265 -0.19775265  0.04082201\n",
            "  0.48752105  0.31531543  0.6167398   0.66025186  0.6033424   0.419732\n",
            "  0.36806852 -0.2567218   0.40301037  0.5521292   0.54686475  0.4126094\n",
            "  0.41389418  0.6788087   0.7201443   0.5389148  -0.25896502  0.66125894\n",
            "  0.9488112   0.28716588  0.18425934  0.49093986  0.34049082  0.78159475\n",
            "  0.4727831   0.13464281  0.6655565   0.7513362   0.57883805  0.75793\n",
            "  0.53675485  0.61020887  0.71809065  0.6253967   0.47587332 -0.20185935\n",
            "  0.38490754  0.11825414  0.740445    0.48449624  0.40060985  0.37431687\n",
            "  0.49313605 -0.12730972  0.39882517  0.8964567  -0.31284073 -0.13242686\n",
            "  0.5664635   0.5817132   0.44733188  0.4384502  -0.1131901   0.6984414\n",
            "  0.49122244 -0.00741246 -0.09239449  0.37739336  0.34482807  0.40236995\n",
            "  0.29568735  0.60378575  0.5547956   0.4246596   0.7344198  -0.21938848\n",
            "  0.6604121   0.41302612  0.51639235  0.3080318   0.40747547  0.39678305\n",
            "  0.69667107 -0.0930327   0.4391922   0.5373807   0.31087947  0.5567663\n",
            "  0.47130185  0.56977373  0.34564433  0.64687467  0.2616715  -0.00280207\n",
            "  0.33575973  0.6970795   0.6412722   0.5505375   0.56206954  0.48132348\n",
            "  0.6885141   0.6364159   0.3753126   0.47393292  0.6536918   0.46143273\n",
            "  0.39178765  0.5020694   0.62975264  0.46119177  0.59872526 -0.23672098\n",
            "  0.19144335  0.6972814   0.5130672   0.40826315  0.37404227  0.6201665\n",
            "  0.57722807  0.69456387  0.6147522  -0.22329183 -0.14030418  0.69661564\n",
            "  0.6593934   0.42021134  0.565856    0.31336075  0.4476155   0.44871807\n",
            " -0.08517739 -0.3016878   0.50010556  0.44800115  0.47786516  0.09312402\n",
            "  0.63761944  0.14297153  0.40535182 -0.15049464  0.40879726  0.61191607\n",
            "  0.5527122   0.47711805  0.31527984  0.6164121   0.3806691   0.63134015\n",
            "  0.6890214   0.27873337  0.52752936  0.66986054  0.3157471   0.4291834\n",
            "  0.8601057   0.6720022  -0.11773005  0.5608982   0.6992504   0.56200165\n",
            "  0.08027658  0.28839505 -0.05491593  0.72069865  0.24177118  0.5035374\n",
            "  0.36711127  0.6129875   0.46942276  0.6200145   0.20581374  0.68734306\n",
            " -0.325009    0.61605537  0.35681647  0.05627963  0.425924    0.4106324\n",
            "  0.42054725  0.40402845  0.03088457 -0.07369734  0.36965677  0.45223898\n",
            " -0.1937621   0.21573487  0.6547961   0.23848458  0.6476861   0.48626137\n",
            "  0.75691026  0.39229992  0.3475254   0.42589077  0.5683371   0.4651999\n",
            "  0.43186572  0.5827542   0.8567846   0.6173581   0.539381    0.7454692\n",
            "  0.5765301   0.26335838  0.87817955 -0.02800778  0.19838779  0.50921565\n",
            "  0.14926265  0.4017571   0.44857484  0.8105738   0.6118673   0.79614514\n",
            "  0.80869627  0.55539936 -0.12215735  0.19070448  0.5231893   0.34312052\n",
            "  0.23406294  0.47948438  0.56330556  0.43446845  0.30180225  0.40836185\n",
            "  0.6115413   0.2622118   0.43174288  0.31767166  0.52433103  0.5304696\n",
            "  0.7335674   0.5209465   0.41178417  0.5241173   0.69938356  0.46103987\n",
            "  0.7357688   0.6127119   0.63458586  0.46720952  0.56074965  0.5813522\n",
            "  0.01720414  0.4575317   0.6015492   0.6111647   0.62012386  0.32435215\n",
            "  0.5455458   0.30623573  0.67036295  0.7480407   0.5787623   0.4885036\n",
            "  0.03092875  0.55955046 -0.2861359   0.53352386 -0.19004405  0.641821\n",
            " -0.04256378  0.5143814   0.24810861  0.52204597  0.5708571   0.40943238\n",
            "  0.55330765  0.6510815   0.2794472   0.3200045   0.81800246  0.391447\n",
            " -0.2918665   0.83629435  0.8189749   0.6133202   0.5154159  -0.36866498\n",
            "  0.19402641  0.6242674   0.6098136   0.06681538  0.6143476   0.49715796\n",
            "  0.52168274  0.21343653 -0.22245741  0.5155213   0.66127914 -0.00194352\n",
            "  0.7082341   0.70217836  0.67404854  0.6026422   0.6056892   0.39208877\n",
            "  0.64607537  0.6380599   0.29815286  0.39294606  0.24111143  0.7040996\n",
            "  0.39260924  0.53059345  0.30978262  0.5152751   0.54830134  0.3556951\n",
            "  0.15797381  0.301202    0.67263895  0.66804206  0.40613237  0.01595097\n",
            "  0.48876375  0.73478127  0.48811266  0.5986974  -0.13124886  0.484552\n",
            "  0.550777    0.5942944   0.36222628  0.10770702  0.43689293  0.65330195\n",
            "  0.138367    0.2873758   0.5066176   0.5591735   0.04992992  0.6869562\n",
            "  0.43556604  0.6391726   0.51654834  0.47655332  0.34926528  0.6317486\n",
            "  0.47536507  0.7423707   0.5041443   0.5009092   0.33413798  0.42272508\n",
            "  0.40407702 -0.32520562  0.54350495  0.30568218 -0.02849989  0.26483625\n",
            "  0.6131074   0.48845667  0.3011903   0.51368356  0.6330013   0.78035486\n",
            "  0.5582273   0.38796595  0.6375567  -0.13775134]' has dtype incompatible with int64, please explicitly cast to a compatible dtype first.\n",
            "  submission.iloc[:, 1:] = pred\n"
          ]
        }
      ],
      "source": [
        "print(\"Prediction shape:\", pred.shape)\n",
        "print(\"Submission target shape:\", submission.iloc[:, 1:].shape)\n",
        "\n",
        "# Ensure pred is reshaped correctly\n",
        "pred = pred.reshape(-1, 1)  # Convert (1, 442) to (442, 1)\n",
        "\n",
        "# Assign correctly\n",
        "submission.iloc[:, 1:] = pred\n",
        "submission.to_csv(\"submission.csv\", index=False)\n",
        "\n",
        "print(\"Submission file saved successfully!\")"
      ]
    },
    {
      "cell_type": "markdown",
      "metadata": {
        "id": "ZZrsd5UqULWt"
      },
      "source": [
        "# Model Interpretation with Captum"
      ]
    },
    {
      "cell_type": "code",
      "execution_count": 10,
      "metadata": {
        "id": "Ig4fbZnKDYic",
        "colab": {
          "base_uri": "https://localhost:8080/",
          "height": 582
        },
        "outputId": "b0542990-04a4-4ee0-bfcc-b0f088c413ec"
      },
      "outputs": [
        {
          "output_type": "display_data",
          "data": {
            "text/plain": [
              "<Figure size 1200x600 with 2 Axes>"
            ],
            "image/png": "[encoded data removed]"
          },
          "metadata": {}
        }
      ],
      "source": [
        "# Captum for model interpretation\n",
        "ig = IntegratedGradients(model)\n",
        "X_input.requires_grad_()\n",
        "attr = ig.attribute(X_input, target=0)\n",
        "attr = attr.squeeze().detach().cpu().numpy()\n",
        "\n",
        "# Plot feature importance\n",
        "plt.figure(figsize=(10, 5))\n",
        "plt.imshow(attr, cmap=\"viridis\", aspect=\"auto\")\n",
        "plt.colorbar(label=\"Attribution Score\")\n",
        "plt.title(\"Feature Importance Analysis with Captum\")\n",
        "plt.xlabel(\"Company Index\")\n",
        "plt.ylabel(\"Time Steps\")\n",
        "plt.show()"
      ]
    },
    {
      "cell_type": "code",
      "source": [
        "from captum.attr import IntegratedGradients, FeatureAblation\n",
        "from optuna.importance import get_param_importances\n",
        "\n",
        "# Optuna - Hyperparameter Importance Analysis\n",
        "param_importances = get_param_importances(study)\n",
        "print(\"Hyperparameter Importance Ranking:\")\n",
        "for param, importance in param_importances.items():\n",
        "    print(f\"{param}: {importance:.4f}\")"
      ],
      "metadata": {
        "colab": {
          "base_uri": "https://localhost:8080/"
        },
        "id": "z0imMhcDcjKu",
        "outputId": "e97b802e-cf4b-46f1-f928-907421f84a25"
      },
      "execution_count": 21,
      "outputs": [
        {
          "output_type": "stream",
          "name": "stdout",
          "text": [
            "Hyperparameter Importance Ranking:\n",
            "lr: 0.6842\n",
            "hidden_dim: 0.2659\n",
            "num_layers: 0.0499\n"
          ]
        }
      ]
    },
    {
      "cell_type": "code",
      "source": [
        "# Captum - Feature Importance Analysis\n",
        "# Run Integrated Gradients on an example input (last sequence)\n",
        "ig = IntegratedGradients(model)\n",
        "X_input.requires_grad_()\n",
        "attr_ig = ig.attribute(X_input, target=0)\n",
        "attr_ig = attr_ig.squeeze().detach().cpu().numpy()\n",
        "\n",
        "# Feature Ablation (Alternative Method)\n",
        "fa = FeatureAblation(model)\n",
        "attr_fa = fa.attribute(X_input, target=0)\n",
        "attr_fa = attr_fa.squeeze().detach().cpu().numpy()\n",
        "\n",
        "# Plot Hyperparameter Importance\n",
        "plt.figure(figsize=(8, 5))\n",
        "plt.barh(list(param_importances.keys()), list(param_importances.values()), color=\"skyblue\")\n",
        "plt.xlabel(\"Importance Score\")\n",
        "plt.title(\"Hyperparameter Importance Analysis (Optuna)\")\n",
        "plt.show()"
      ],
      "metadata": {
        "colab": {
          "base_uri": "https://localhost:8080/",
          "height": 582
        },
        "id": "30rc1adyebkM",
        "outputId": "63cd505e-63c9-43b9-fa58-51b72edebf11"
      },
      "execution_count": 22,
      "outputs": [
        {
          "output_type": "display_data",
          "data": {
            "text/plain": [
              "<Figure size 960x600 with 1 Axes>"
            ],
            "image/png": "[encoded data removed]"
          },
          "metadata": {}
        }
      ]
    }
  ],
  "metadata": {
    "colab": {
      "provenance": [],
      "include_colab_link": true
    },
    "kaggle": {
      "accelerator": "none",
      "dataSources": [
        {
          "databundleVersionId": 11225872,
          "sourceId": 94345,
          "sourceType": "competition"
        }
      ],
      "dockerImageVersionId": 30918,
      "isGpuEnabled": false,
      "isInternetEnabled": false,
      "language": "python",
      "sourceType": "notebook"
    },
    "kernelspec": {
      "display_name": "Python 3",
      "name": "python3"
    },
    "language_info": {
      "codemirror_mode": {
        "name": "ipython",
        "version": 3
      },
      "file_extension": ".py",
      "mimetype": "text/x-python",
      "name": "python",
      "nbconvert_exporter": "python",
      "pygments_lexer": "ipython3",
      "version": "3.10.12"
    }
  },
  "nbformat": 4,
  "nbformat_minor": 0
}