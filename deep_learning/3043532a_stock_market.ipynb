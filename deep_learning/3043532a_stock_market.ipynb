{
  "cells": [
    {
      "cell_type": "markdown",
      "metadata": {
        "id": "view-in-github",
        "colab_type": "text"
      },
      "source": [
        "<a href=\"https://colab.research.google.com/github/ayush-96/msc-data-science/blob/master/deep_learning/3043532a_stock_market.ipynb\" target=\"_parent\"><img src=\"https://colab.research.google.com/assets/colab-badge.svg\" alt=\"Open In Colab\"/></a>"
      ]
    },
    {
      "cell_type": "code",
      "execution_count": 6,
      "metadata": {
        "id": "1L_kbCjCgQ51"
      },
      "outputs": [],
      "source": [
        "# !pip3 install optuna"
      ]
    },
    {
      "cell_type": "code",
      "execution_count": 7,
      "metadata": {
        "id": "seq37iV3fdec"
      },
      "outputs": [],
      "source": [
        "# !pip3 install captum"
      ]
    },
    {
      "cell_type": "code",
      "execution_count": 8,
      "metadata": {
        "id": "Am4v8G8Sfded"
      },
      "outputs": [],
      "source": [
        "%matplotlib inline\n",
        "\n",
        "# Common imports\n",
        "import os\n",
        "from dateutil.parser import parse\n",
        "\n",
        "import numpy as np\n",
        "import pandas as pd\n",
        "\n",
        "import torch\n",
        "import torch.nn as nn\n",
        "import torch.nn.functional as F\n",
        "import torch.optim as optim\n",
        "from torch.nn.utils.rnn import pad_sequence\n",
        "\n",
        "import matplotlib as mpl\n",
        "import matplotlib.pyplot as plt\n",
        "import seaborn as sns\n",
        "\n",
        "import optuna\n",
        "from sklearn.preprocessing import StandardScaler\n",
        "from torch.utils.data import DataLoader, TensorDataset\n",
        "from captum.attr import IntegratedGradients\n",
        "\n",
        "use_cuda = False\n",
        "device = torch.device(\"cuda\" if (use_cuda and torch.cuda.is_available()) else \"cpu\")\n",
        "\n",
        "plt.rcParams.update({'figure.figsize': (10, 7), 'figure.dpi': 120})"
      ]
    },
    {
      "cell_type": "code",
      "execution_count": 9,
      "metadata": {
        "colab": {
          "base_uri": "https://localhost:8080/",
          "height": 342
        },
        "id": "ah0Ipuppfdef",
        "outputId": "c9add69d-2aab-452c-ff4e-2271a1bfa539"
      },
      "outputs": [
        {
          "output_type": "execute_result",
          "data": {
            "text/plain": [
              "            company_0  company_1  company_2  company_3  company_4  company_5  \\\n",
              "2022-03-25       0.86       0.93       0.10       2.02      -1.53       2.08   \n",
              "2022-03-28       0.31       1.55       0.90       2.74      -0.64      -0.13   \n",
              "2022-03-29       0.95       3.96       3.05       2.33       2.32       4.38   \n",
              "2022-03-30       0.68       0.41      -1.24       0.80      -1.64      -2.53   \n",
              "2022-03-31      -0.52       1.08      -1.26      -0.91      -4.58      -5.44   \n",
              "\n",
              "            company_6  company_7  company_8  company_9  ...  company_432  \\\n",
              "2022-03-25       1.54       0.17       1.96      -0.05  ...         0.66   \n",
              "2022-03-28      -3.39      -0.21      -2.97      -0.42  ...         0.23   \n",
              "2022-03-29       0.10       1.72      -1.16       2.91  ...         2.51   \n",
              "2022-03-30       0.08      -1.17       1.96       0.57  ...        -1.35   \n",
              "2022-03-31      -2.42      -1.24      -1.55      -1.78  ...        -2.35   \n",
              "\n",
              "            company_433  company_434  company_435  company_436  company_437  \\\n",
              "2022-03-25        -1.40         2.20         0.26         0.49         0.18   \n",
              "2022-03-28         1.97         0.18         0.56        -0.24        -0.05   \n",
              "2022-03-29         2.72        -0.59        -0.30         1.88         3.77   \n",
              "2022-03-30        -2.95         0.84        -1.61        -1.58        -1.16   \n",
              "2022-03-31        -1.23        -2.79        -3.63        -1.90        -1.85   \n",
              "\n",
              "            company_438  company_439  company_440  company_441  \n",
              "2022-03-25        -0.25         1.93         0.37         0.94  \n",
              "2022-03-28         0.45        -0.50         1.18         0.65  \n",
              "2022-03-29         2.04         2.67         3.02         2.36  \n",
              "2022-03-30        -3.71        -2.61         0.53         0.91  \n",
              "2022-03-31        -2.04        -3.83        -1.73        -0.49  \n",
              "\n",
              "[5 rows x 442 columns]"
            ],
            "text/html": [
              "\n",
              "  <div id=\"df-5673620a-c447-40e4-a5b9-ea4403af7d9d\" class=\"colab-df-container\">\n",
              "    <div>\n",
              "<style scoped>\n",
              "    .dataframe tbody tr th:only-of-type {\n",
              "        vertical-align: middle;\n",
              "    }\n",
              "\n",
              "    .dataframe tbody tr th {\n",
              "        vertical-align: top;\n",
              "    }\n",
              "\n",
              "    .dataframe thead th {\n",
              "        text-align: right;\n",
              "    }\n",
              "</style>\n",
              "<table border=\"1\" class=\"dataframe\">\n",
              "  <thead>\n",
              "    <tr style=\"text-align: right;\">\n",
              "      <th></th>\n",
              "      <th>company_0</th>\n",
              "      <th>company_1</th>\n",
              "      <th>company_2</th>\n",
              "      <th>company_3</th>\n",
              "      <th>company_4</th>\n",
              "      <th>company_5</th>\n",
              "      <th>company_6</th>\n",
              "      <th>company_7</th>\n",
              "      <th>company_8</th>\n",
              "      <th>company_9</th>\n",
              "      <th>...</th>\n",
              "      <th>company_432</th>\n",
              "      <th>company_433</th>\n",
              "      <th>company_434</th>\n",
              "      <th>company_435</th>\n",
              "      <th>company_436</th>\n",
              "      <th>company_437</th>\n",
              "      <th>company_438</th>\n",
              "      <th>company_439</th>\n",
              "      <th>company_440</th>\n",
              "      <th>company_441</th>\n",
              "    </tr>\n",
              "  </thead>\n",
              "  <tbody>\n",
              "    <tr>\n",
              "      <th>2022-03-25</th>\n",
              "      <td>0.86</td>\n",
              "      <td>0.93</td>\n",
              "      <td>0.10</td>\n",
              "      <td>2.02</td>\n",
              "      <td>-1.53</td>\n",
              "      <td>2.08</td>\n",
              "      <td>1.54</td>\n",
              "      <td>0.17</td>\n",
              "      <td>1.96</td>\n",
              "      <td>-0.05</td>\n",
              "      <td>...</td>\n",
              "      <td>0.66</td>\n",
              "      <td>-1.40</td>\n",
              "      <td>2.20</td>\n",
              "      <td>0.26</td>\n",
              "      <td>0.49</td>\n",
              "      <td>0.18</td>\n",
              "      <td>-0.25</td>\n",
              "      <td>1.93</td>\n",
              "      <td>0.37</td>\n",
              "      <td>0.94</td>\n",
              "    </tr>\n",
              "    <tr>\n",
              "      <th>2022-03-28</th>\n",
              "      <td>0.31</td>\n",
              "      <td>1.55</td>\n",
              "      <td>0.90</td>\n",
              "      <td>2.74</td>\n",
              "      <td>-0.64</td>\n",
              "      <td>-0.13</td>\n",
              "      <td>-3.39</td>\n",
              "      <td>-0.21</td>\n",
              "      <td>-2.97</td>\n",
              "      <td>-0.42</td>\n",
              "      <td>...</td>\n",
              "      <td>0.23</td>\n",
              "      <td>1.97</td>\n",
              "      <td>0.18</td>\n",
              "      <td>0.56</td>\n",
              "      <td>-0.24</td>\n",
              "      <td>-0.05</td>\n",
              "      <td>0.45</td>\n",
              "      <td>-0.50</td>\n",
              "      <td>1.18</td>\n",
              "      <td>0.65</td>\n",
              "    </tr>\n",
              "    <tr>\n",
              "      <th>2022-03-29</th>\n",
              "      <td>0.95</td>\n",
              "      <td>3.96</td>\n",
              "      <td>3.05</td>\n",
              "      <td>2.33</td>\n",
              "      <td>2.32</td>\n",
              "      <td>4.38</td>\n",
              "      <td>0.10</td>\n",
              "      <td>1.72</td>\n",
              "      <td>-1.16</td>\n",
              "      <td>2.91</td>\n",
              "      <td>...</td>\n",
              "      <td>2.51</td>\n",
              "      <td>2.72</td>\n",
              "      <td>-0.59</td>\n",
              "      <td>-0.30</td>\n",
              "      <td>1.88</td>\n",
              "      <td>3.77</td>\n",
              "      <td>2.04</td>\n",
              "      <td>2.67</td>\n",
              "      <td>3.02</td>\n",
              "      <td>2.36</td>\n",
              "    </tr>\n",
              "    <tr>\n",
              "      <th>2022-03-30</th>\n",
              "      <td>0.68</td>\n",
              "      <td>0.41</td>\n",
              "      <td>-1.24</td>\n",
              "      <td>0.80</td>\n",
              "      <td>-1.64</td>\n",
              "      <td>-2.53</td>\n",
              "      <td>0.08</td>\n",
              "      <td>-1.17</td>\n",
              "      <td>1.96</td>\n",
              "      <td>0.57</td>\n",
              "      <td>...</td>\n",
              "      <td>-1.35</td>\n",
              "      <td>-2.95</td>\n",
              "      <td>0.84</td>\n",
              "      <td>-1.61</td>\n",
              "      <td>-1.58</td>\n",
              "      <td>-1.16</td>\n",
              "      <td>-3.71</td>\n",
              "      <td>-2.61</td>\n",
              "      <td>0.53</td>\n",
              "      <td>0.91</td>\n",
              "    </tr>\n",
              "    <tr>\n",
              "      <th>2022-03-31</th>\n",
              "      <td>-0.52</td>\n",
              "      <td>1.08</td>\n",
              "      <td>-1.26</td>\n",
              "      <td>-0.91</td>\n",
              "      <td>-4.58</td>\n",
              "      <td>-5.44</td>\n",
              "      <td>-2.42</td>\n",
              "      <td>-1.24</td>\n",
              "      <td>-1.55</td>\n",
              "      <td>-1.78</td>\n",
              "      <td>...</td>\n",
              "      <td>-2.35</td>\n",
              "      <td>-1.23</td>\n",
              "      <td>-2.79</td>\n",
              "      <td>-3.63</td>\n",
              "      <td>-1.90</td>\n",
              "      <td>-1.85</td>\n",
              "      <td>-2.04</td>\n",
              "      <td>-3.83</td>\n",
              "      <td>-1.73</td>\n",
              "      <td>-0.49</td>\n",
              "    </tr>\n",
              "  </tbody>\n",
              "</table>\n",
              "<p>5 rows × 442 columns</p>\n",
              "</div>\n",
              "    <div class=\"colab-df-buttons\">\n",
              "\n",
              "  <div class=\"colab-df-container\">\n",
              "    <button class=\"colab-df-convert\" onclick=\"convertToInteractive('df-5673620a-c447-40e4-a5b9-ea4403af7d9d')\"\n",
              "            title=\"Convert this dataframe to an interactive table.\"\n",
              "            style=\"display:none;\">\n",
              "\n",
              "  <svg xmlns=\"http://www.w3.org/2000/svg\" height=\"24px\" viewBox=\"0 -960 960 960\">\n",
              "    <path d=\"M120-120v-720h720v720H120Zm60-500h600v-160H180v160Zm220 220h160v-160H400v160Zm0 220h160v-160H400v160ZM180-400h160v-160H180v160Zm440 0h160v-160H620v160ZM180-180h160v-160H180v160Zm440 0h160v-160H620v160Z\"/>\n",
              "  </svg>\n",
              "    </button>\n",
              "\n",
              "  <style>\n",
              "    .colab-df-container {\n",
              "      display:flex;\n",
              "      gap: 12px;\n",
              "    }\n",
              "\n",
              "    .colab-df-convert {\n",
              "      background-color: #E8F0FE;\n",
              "      border: none;\n",
              "      border-radius: 50%;\n",
              "      cursor: pointer;\n",
              "      display: none;\n",
              "      fill: #1967D2;\n",
              "      height: 32px;\n",
              "      padding: 0 0 0 0;\n",
              "      width: 32px;\n",
              "    }\n",
              "\n",
              "    .colab-df-convert:hover {\n",
              "      background-color: #E2EBFA;\n",
              "      box-shadow: 0px 1px 2px rgba(60, 64, 67, 0.3), 0px 1px 3px 1px rgba(60, 64, 67, 0.15);\n",
              "      fill: #174EA6;\n",
              "    }\n",
              "\n",
              "    .colab-df-buttons div {\n",
              "      margin-bottom: 4px;\n",
              "    }\n",
              "\n",
              "    [theme=dark] .colab-df-convert {\n",
              "      background-color: #3B4455;\n",
              "      fill: #D2E3FC;\n",
              "    }\n",
              "\n",
              "    [theme=dark] .colab-df-convert:hover {\n",
              "      background-color: #434B5C;\n",
              "      box-shadow: 0px 1px 3px 1px rgba(0, 0, 0, 0.15);\n",
              "      filter: drop-shadow(0px 1px 2px rgba(0, 0, 0, 0.3));\n",
              "      fill: #FFFFFF;\n",
              "    }\n",
              "  </style>\n",
              "\n",
              "    <script>\n",
              "      const buttonEl =\n",
              "        document.querySelector('#df-5673620a-c447-40e4-a5b9-ea4403af7d9d button.colab-df-convert');\n",
              "      buttonEl.style.display =\n",
              "        google.colab.kernel.accessAllowed ? 'block' : 'none';\n",
              "\n",
              "      async function convertToInteractive(key) {\n",
              "        const element = document.querySelector('#df-5673620a-c447-40e4-a5b9-ea4403af7d9d');\n",
              "        const dataTable =\n",
              "          await google.colab.kernel.invokeFunction('convertToInteractive',\n",
              "                                                    [key], {});\n",
              "        if (!dataTable) return;\n",
              "\n",
              "        const docLinkHtml = 'Like what you see? Visit the ' +\n",
              "          '<a target=\"_blank\" href=https://colab.research.google.com/notebooks/data_table.ipynb>data table notebook</a>'\n",
              "          + ' to learn more about interactive tables.';\n",
              "        element.innerHTML = '';\n",
              "        dataTable['output_type'] = 'display_data';\n",
              "        await google.colab.output.renderOutput(dataTable, element);\n",
              "        const docLink = document.createElement('div');\n",
              "        docLink.innerHTML = docLinkHtml;\n",
              "        element.appendChild(docLink);\n",
              "      }\n",
              "    </script>\n",
              "  </div>\n",
              "\n",
              "\n",
              "<div id=\"df-3d678464-76b8-4493-a387-5f16475c5f36\">\n",
              "  <button class=\"colab-df-quickchart\" onclick=\"quickchart('df-3d678464-76b8-4493-a387-5f16475c5f36')\"\n",
              "            title=\"Suggest charts\"\n",
              "            style=\"display:none;\">\n",
              "\n",
              "<svg xmlns=\"http://www.w3.org/2000/svg\" height=\"24px\"viewBox=\"0 0 24 24\"\n",
              "     width=\"24px\">\n",
              "    <g>\n",
              "        <path d=\"M19 3H5c-1.1 0-2 .9-2 2v14c0 1.1.9 2 2 2h14c1.1 0 2-.9 2-2V5c0-1.1-.9-2-2-2zM9 17H7v-7h2v7zm4 0h-2V7h2v10zm4 0h-2v-4h2v4z\"/>\n",
              "    </g>\n",
              "</svg>\n",
              "  </button>\n",
              "\n",
              "<style>\n",
              "  .colab-df-quickchart {\n",
              "      --bg-color: #E8F0FE;\n",
              "      --fill-color: #1967D2;\n",
              "      --hover-bg-color: #E2EBFA;\n",
              "      --hover-fill-color: #174EA6;\n",
              "      --disabled-fill-color: #AAA;\n",
              "      --disabled-bg-color: #DDD;\n",
              "  }\n",
              "\n",
              "  [theme=dark] .colab-df-quickchart {\n",
              "      --bg-color: #3B4455;\n",
              "      --fill-color: #D2E3FC;\n",
              "      --hover-bg-color: #434B5C;\n",
              "      --hover-fill-color: #FFFFFF;\n",
              "      --disabled-bg-color: #3B4455;\n",
              "      --disabled-fill-color: #666;\n",
              "  }\n",
              "\n",
              "  .colab-df-quickchart {\n",
              "    background-color: var(--bg-color);\n",
              "    border: none;\n",
              "    border-radius: 50%;\n",
              "    cursor: pointer;\n",
              "    display: none;\n",
              "    fill: var(--fill-color);\n",
              "    height: 32px;\n",
              "    padding: 0;\n",
              "    width: 32px;\n",
              "  }\n",
              "\n",
              "  .colab-df-quickchart:hover {\n",
              "    background-color: var(--hover-bg-color);\n",
              "    box-shadow: 0 1px 2px rgba(60, 64, 67, 0.3), 0 1px 3px 1px rgba(60, 64, 67, 0.15);\n",
              "    fill: var(--button-hover-fill-color);\n",
              "  }\n",
              "\n",
              "  .colab-df-quickchart-complete:disabled,\n",
              "  .colab-df-quickchart-complete:disabled:hover {\n",
              "    background-color: var(--disabled-bg-color);\n",
              "    fill: var(--disabled-fill-color);\n",
              "    box-shadow: none;\n",
              "  }\n",
              "\n",
              "  .colab-df-spinner {\n",
              "    border: 2px solid var(--fill-color);\n",
              "    border-color: transparent;\n",
              "    border-bottom-color: var(--fill-color);\n",
              "    animation:\n",
              "      spin 1s steps(1) infinite;\n",
              "  }\n",
              "\n",
              "  @keyframes spin {\n",
              "    0% {\n",
              "      border-color: transparent;\n",
              "      border-bottom-color: var(--fill-color);\n",
              "      border-left-color: var(--fill-color);\n",
              "    }\n",
              "    20% {\n",
              "      border-color: transparent;\n",
              "      border-left-color: var(--fill-color);\n",
              "      border-top-color: var(--fill-color);\n",
              "    }\n",
              "    30% {\n",
              "      border-color: transparent;\n",
              "      border-left-color: var(--fill-color);\n",
              "      border-top-color: var(--fill-color);\n",
              "      border-right-color: var(--fill-color);\n",
              "    }\n",
              "    40% {\n",
              "      border-color: transparent;\n",
              "      border-right-color: var(--fill-color);\n",
              "      border-top-color: var(--fill-color);\n",
              "    }\n",
              "    60% {\n",
              "      border-color: transparent;\n",
              "      border-right-color: var(--fill-color);\n",
              "    }\n",
              "    80% {\n",
              "      border-color: transparent;\n",
              "      border-right-color: var(--fill-color);\n",
              "      border-bottom-color: var(--fill-color);\n",
              "    }\n",
              "    90% {\n",
              "      border-color: transparent;\n",
              "      border-bottom-color: var(--fill-color);\n",
              "    }\n",
              "  }\n",
              "</style>\n",
              "\n",
              "  <script>\n",
              "    async function quickchart(key) {\n",
              "      const quickchartButtonEl =\n",
              "        document.querySelector('#' + key + ' button');\n",
              "      quickchartButtonEl.disabled = true;  // To prevent multiple clicks.\n",
              "      quickchartButtonEl.classList.add('colab-df-spinner');\n",
              "      try {\n",
              "        const charts = await google.colab.kernel.invokeFunction(\n",
              "            'suggestCharts', [key], {});\n",
              "      } catch (error) {\n",
              "        console.error('Error during call to suggestCharts:', error);\n",
              "      }\n",
              "      quickchartButtonEl.classList.remove('colab-df-spinner');\n",
              "      quickchartButtonEl.classList.add('colab-df-quickchart-complete');\n",
              "    }\n",
              "    (() => {\n",
              "      let quickchartButtonEl =\n",
              "        document.querySelector('#df-3d678464-76b8-4493-a387-5f16475c5f36 button');\n",
              "      quickchartButtonEl.style.display =\n",
              "        google.colab.kernel.accessAllowed ? 'block' : 'none';\n",
              "    })();\n",
              "  </script>\n",
              "</div>\n",
              "\n",
              "    </div>\n",
              "  </div>\n"
            ],
            "application/vnd.google.colaboratory.intrinsic+json": {
              "type": "dataframe"
            }
          },
          "metadata": {},
          "execution_count": 9
        }
      ],
      "source": [
        "# Load Data - train and submission files\n",
        "train = pd.read_csv(\"./train.csv\")\n",
        "submission = pd.read_csv(\"./sample_submission.csv\")\n",
        "\n",
        "# Drop ID column and transpose for time series format\n",
        "train_data = train.drop(columns=['ID']).T\n",
        "train_data.columns = [f\"company_{i}\" for i in range(442)]\n",
        "dates = train_data.index\n",
        "dates = pd.to_datetime(train_data.index, dayfirst=True)\n",
        "train_data.index = dates\n",
        "\n",
        "# Convert to numpy array\n",
        "data = train_data.values.astype(float)\n",
        "\n",
        "# Normalize data\n",
        "scaler = StandardScaler()\n",
        "data = scaler.fit_transform(data)\n",
        "\n",
        "# train.head()\n",
        "train_data.tail()"
      ]
    },
    {
      "cell_type": "code",
      "execution_count": 10,
      "metadata": {
        "colab": {
          "base_uri": "https://localhost:8080/"
        },
        "id": "IvLj8sNSfdeg",
        "outputId": "d2259f04-4883-44fd-b0d4-ec21b186c2c3"
      },
      "outputs": [
        {
          "output_type": "stream",
          "name": "stdout",
          "text": [
            "Number of training sequences: 2961, Validation sequences: 30\n"
          ]
        },
        {
          "output_type": "stream",
          "name": "stderr",
          "text": [
            "<ipython-input-10-d15edf4f1b27>:7: UserWarning: Creating a tensor from a list of numpy.ndarrays is extremely slow. Please consider converting the list to a single numpy.ndarray with numpy.array() before converting to a tensor. (Triggered internally at /pytorch/torch/csrc/utils/tensor_new.cpp:254.)\n",
            "  return torch.tensor(X, dtype=torch.float32), torch.tensor(y, dtype=torch.float32)\n"
          ]
        }
      ],
      "source": [
        "# Convert to PyTorch tensors\n",
        "def create_sequences(data, seq_length=30):\n",
        "    X, y = [], []\n",
        "    for i in range(len(data) - seq_length):\n",
        "        X.append(data[i:i+seq_length])\n",
        "        y.append(data[i+seq_length])\n",
        "    return torch.tensor(X, dtype=torch.float32), torch.tensor(y, dtype=torch.float32)\n",
        "\n",
        "seq_length = 30\n",
        "X, y = create_sequences(data, seq_length)\n",
        "\n",
        "# Split into train and validation (last 30 days as validation)\n",
        "X_train, y_train = X[:-30], y[:-30]\n",
        "X_val, y_val = X[-30:], y[-30:]\n",
        "\n",
        "print(f\"Number of training sequences: {len(X_train)}, Validation sequences: {len(X_val)}\")"
      ]
    },
    {
      "cell_type": "code",
      "execution_count": 11,
      "metadata": {
        "id": "K3lGWQ4HBF5C"
      },
      "outputs": [],
      "source": [
        "# Create DataLoader\n",
        "batch_size = 32\n",
        "\n",
        "train_loader = DataLoader(TensorDataset(X_train, y_train), batch_size=batch_size, shuffle=True)\n",
        "\n",
        "val_loader = DataLoader(TensorDataset(X_val, y_val), batch_size=batch_size, shuffle=False)"
      ]
    },
    {
      "cell_type": "markdown",
      "metadata": {
        "id": "c-G3gU7pC4LM"
      },
      "source": [
        "# Define LTSM Model"
      ]
    },
    {
      "cell_type": "code",
      "execution_count": 12,
      "metadata": {
        "id": "RGLOudP9C9XW"
      },
      "outputs": [],
      "source": [
        "class LSTMModel(nn.Module):\n",
        "    def __init__(self, input_dim, hidden_dim, num_layers, output_dim):\n",
        "        super(LSTMModel, self).__init__()\n",
        "        self.lstm = nn.LSTM(input_dim, hidden_dim, num_layers, batch_first=True)\n",
        "        self.fc = nn.Linear(hidden_dim, output_dim)\n",
        "\n",
        "    def forward(self, x):\n",
        "        lstm_out, _ = self.lstm(x)\n",
        "        out = self.fc(lstm_out[:, -1, :])  # Use last timestep output\n",
        "        return out"
      ]
    },
    {
      "cell_type": "markdown",
      "metadata": {
        "id": "-Gysi_nIDCzK"
      },
      "source": [
        "# Optuna Hyperparameter Optimization\n"
      ]
    },
    {
      "cell_type": "markdown",
      "metadata": {
        "id": "wh6eZE_9fdei"
      },
      "source": [
        "# Hyperparameter Optimization with Optuna\n"
      ]
    },
    {
      "cell_type": "code",
      "execution_count": null,
      "metadata": {
        "colab": {
          "base_uri": "https://localhost:8080/"
        },
        "id": "_Rp0qWg2DF7W",
        "outputId": "df2a1f69-2c31-4238-be59-9c345a2d4adb"
      },
      "outputs": [
        {
          "output_type": "stream",
          "name": "stderr",
          "text": [
            "[I 2025-03-26 12:00:13,057] A new study created in memory with name: no-name-69227be7-0f33-480f-afda-9bc309c9ee00\n",
            "<ipython-input-13-654b1a422307>:4: FutureWarning: suggest_loguniform has been deprecated in v3.0.0. This feature will be removed in v6.0.0. See https://github.com/optuna/optuna/releases/tag/v3.0.0. Use suggest_float(..., log=True) instead.\n",
            "  lr = trial.suggest_loguniform(\"lr\", 1e-4, 1e-2)\n",
            "[I 2025-03-26 12:01:07,074] Trial 0 finished with value: 1.65523362159729 and parameters: {'hidden_dim': 73, 'num_layers': 1, 'lr': 0.0006103288895257674}. Best is trial 0 with value: 1.65523362159729.\n",
            "<ipython-input-13-654b1a422307>:4: FutureWarning: suggest_loguniform has been deprecated in v3.0.0. This feature will be removed in v6.0.0. See https://github.com/optuna/optuna/releases/tag/v3.0.0. Use suggest_float(..., log=True) instead.\n",
            "  lr = trial.suggest_loguniform(\"lr\", 1e-4, 1e-2)\n",
            "[I 2025-03-26 12:02:09,858] Trial 1 finished with value: 2.3564414978027344 and parameters: {'hidden_dim': 52, 'num_layers': 3, 'lr': 0.0003420822327366322}. Best is trial 0 with value: 1.65523362159729.\n",
            "[I 2025-03-26 12:03:47,005] Trial 2 finished with value: 1.7853686809539795 and parameters: {'hidden_dim': 83, 'num_layers': 3, 'lr': 0.0008080417253035436}. Best is trial 0 with value: 1.65523362159729.\n",
            "[I 2025-03-26 12:04:15,468] Trial 3 finished with value: 2.0576539039611816 and parameters: {'hidden_dim': 21, 'num_layers': 2, 'lr': 0.0003386726989914762}. Best is trial 0 with value: 1.65523362159729.\n",
            "[I 2025-03-26 12:05:17,595] Trial 4 finished with value: 1.6253730058670044 and parameters: {'hidden_dim': 98, 'num_layers': 1, 'lr': 0.0006862318431134846}. Best is trial 4 with value: 1.6253730058670044.\n",
            "[I 2025-03-26 12:07:20,038] Trial 5 finished with value: 1.6258541345596313 and parameters: {'hidden_dim': 126, 'num_layers': 2, 'lr': 0.0010159496209143758}. Best is trial 4 with value: 1.6253730058670044.\n",
            "[I 2025-03-26 12:09:49,385] Trial 6 finished with value: 2.5005316734313965 and parameters: {'hidden_dim': 121, 'num_layers': 3, 'lr': 0.00015349804076090107}. Best is trial 4 with value: 1.6253730058670044.\n",
            "[I 2025-03-26 12:10:44,039] Trial 7 finished with value: 1.758779525756836 and parameters: {'hidden_dim': 34, 'num_layers': 2, 'lr': 0.005889002422865048}. Best is trial 4 with value: 1.6253730058670044.\n",
            "[I 2025-03-26 12:11:19,933] Trial 8 finished with value: 1.782091498374939 and parameters: {'hidden_dim': 35, 'num_layers': 2, 'lr': 0.00014700381843138304}. Best is trial 4 with value: 1.6253730058670044.\n"
          ]
        }
      ],
      "source": [
        "def objective(trial):\n",
        "    hidden_dim = trial.suggest_int(\"hidden_dim\", 16, 128)\n",
        "    num_layers = trial.suggest_int(\"num_layers\", 1, 3)\n",
        "    lr = trial.suggest_loguniform(\"lr\", 1e-4, 1e-2)\n",
        "\n",
        "    model = LSTMModel(input_dim=442, hidden_dim=hidden_dim, num_layers=num_layers, output_dim=442).to(device)\n",
        "    criterion = nn.MSELoss()\n",
        "    optimizer = optim.Adam(model.parameters(), lr=lr)\n",
        "\n",
        "    for epoch in range(20):\n",
        "        model.train()\n",
        "        for X_batch, y_batch in train_loader:\n",
        "            X_batch, y_batch = X_batch.to(device), y_batch.to(device)\n",
        "            optimizer.zero_grad()\n",
        "            y_pred = model(X_batch)\n",
        "            loss = criterion(y_pred, y_batch)\n",
        "            loss.backward()\n",
        "            optimizer.step()\n",
        "\n",
        "    # Validation loss\n",
        "    model.eval()\n",
        "    val_loss = 0\n",
        "    with torch.no_grad():\n",
        "        for X_batch, y_batch in val_loader:\n",
        "            X_batch, y_batch = X_batch.to(device), y_batch.to(device)\n",
        "            y_pred = model(X_batch)\n",
        "            val_loss += criterion(y_pred, y_batch).item()\n",
        "    return val_loss / len(val_loader)\n",
        "\n",
        "study = optuna.create_study(direction=\"minimize\")\n",
        "study.optimize(objective, n_trials=25)\n",
        "best_params = study.best_params"
      ]
    },
    {
      "cell_type": "markdown",
      "metadata": {
        "id": "yuQ3oOnWDOL1"
      },
      "source": [
        "# Train Model with best hyperparameters:"
      ]
    },
    {
      "cell_type": "code",
      "execution_count": null,
      "metadata": {
        "id": "8r-kijWGDYtj"
      },
      "outputs": [],
      "source": [
        "model = LSTMModel(input_dim=442, hidden_dim=best_params['hidden_dim'], num_layers=best_params['num_layers'], output_dim=442).to(device)\n",
        "criterion = nn.MSELoss()\n",
        "optimizer = optim.Adam(model.parameters(), lr=best_params['lr'])\n",
        "\n",
        "num_epochs = 100\n",
        "for epoch in range(num_epochs):\n",
        "    model.train()\n",
        "    for X_batch, y_batch in train_loader:\n",
        "        X_batch, y_batch = X_batch.to(device), y_batch.to(device)\n",
        "        optimizer.zero_grad()\n",
        "        y_pred = model(X_batch)\n",
        "        loss = criterion(y_pred, y_batch)\n",
        "        loss.backward()\n",
        "        optimizer.step()"
      ]
    },
    {
      "cell_type": "markdown",
      "metadata": {
        "id": "b8ldwV-PDiBM"
      },
      "source": [
        "# Prediction for 1st April, 2022"
      ]
    },
    {
      "cell_type": "code",
      "execution_count": null,
      "metadata": {
        "id": "XixEEZgIDpc1"
      },
      "outputs": [],
      "source": [
        "X_input = torch.tensor(data[-seq_length:], dtype=torch.float32).unsqueeze(0).to(device)\n",
        "model.eval()\n",
        "with torch.no_grad():\n",
        "    pred = model(X_input).cpu().numpy()"
      ]
    },
    {
      "cell_type": "code",
      "execution_count": null,
      "metadata": {
        "id": "0VfJAuDNQkog"
      },
      "outputs": [],
      "source": [
        "print(\"Prediction shape:\", pred.shape)\n",
        "print(\"Submission target shape:\", submission.iloc[:, 1:].shape)\n",
        "\n",
        "# Ensure pred is reshaped correctly\n",
        "pred = pred.reshape(-1, 1)  # Convert (1, 442) to (442, 1)\n",
        "\n",
        "# Assign correctly\n",
        "submission.iloc[:, 1:] = pred\n",
        "submission.to_csv(\"submission.csv\", index=False)\n",
        "\n",
        "print(\"Submission file saved successfully!\")"
      ]
    },
    {
      "cell_type": "markdown",
      "metadata": {
        "id": "ZZrsd5UqULWt"
      },
      "source": [
        "# Model Interpretation with Captum"
      ]
    },
    {
      "cell_type": "code",
      "execution_count": null,
      "metadata": {
        "id": "Ig4fbZnKDYic"
      },
      "outputs": [],
      "source": [
        "# Captum for model interpretation\n",
        "ig = IntegratedGradients(model)\n",
        "X_input.requires_grad_()\n",
        "attr = ig.attribute(X_input, target=0)\n",
        "attr = attr.squeeze().detach().cpu().numpy()\n",
        "\n",
        "# Plot feature importance\n",
        "plt.figure(figsize=(10, 5))\n",
        "plt.imshow(attr, cmap=\"viridis\", aspect=\"auto\")\n",
        "plt.colorbar(label=\"Attribution Score\")\n",
        "plt.title(\"Feature Importance Analysis with Captum\")\n",
        "plt.xlabel(\"Company Index\")\n",
        "plt.ylabel(\"Time Steps\")\n",
        "plt.show()"
      ]
    },
    {
      "cell_type": "code",
      "execution_count": null,
      "metadata": {
        "id": "72LoNuZrfdek"
      },
      "outputs": [],
      "source": []
    }
  ],
  "metadata": {
    "colab": {
      "provenance": [],
      "include_colab_link": true
    },
    "kaggle": {
      "accelerator": "none",
      "dataSources": [
        {
          "databundleVersionId": 11225872,
          "sourceId": 94345,
          "sourceType": "competition"
        }
      ],
      "dockerImageVersionId": 30918,
      "isGpuEnabled": false,
      "isInternetEnabled": false,
      "language": "python",
      "sourceType": "notebook"
    },
    "kernelspec": {
      "display_name": "Python 3",
      "name": "python3"
    },
    "language_info": {
      "codemirror_mode": {
        "name": "ipython",
        "version": 3
      },
      "file_extension": ".py",
      "mimetype": "text/x-python",
      "name": "python",
      "nbconvert_exporter": "python",
      "pygments_lexer": "ipython3",
      "version": "3.10.12"
    }
  },
  "nbformat": 4,
  "nbformat_minor": 0
}