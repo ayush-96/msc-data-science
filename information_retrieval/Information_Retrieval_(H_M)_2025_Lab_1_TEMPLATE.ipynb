{
  "nbformat": 4,
  "nbformat_minor": 0,
  "metadata": {
    "colab": {
      "provenance": [],
      "include_colab_link": true
    },
    "kernelspec": {
      "name": "python3",
      "display_name": "Python 3"
    }
  },
  "cells": [
    {
      "cell_type": "markdown",
      "metadata": {
        "id": "view-in-github",
        "colab_type": "text"
      },
      "source": [
        "<a href=\"https://colab.research.google.com/github/ayush-96/msc-data-science/blob/master/information_retrieval/Information_Retrieval_(H_M)_2025_Lab_1_TEMPLATE.ipynb\" target=\"_parent\"><img src=\"https://colab.research.google.com/assets/colab-badge.svg\" alt=\"Open In Colab\"/></a>"
      ]
    },
    {
      "cell_type": "markdown",
      "metadata": {
        "id": "6UxEkLc6yz6J"
      },
      "source": [
        "# Lab 1 - PyTerrier introduction\n",
        "\n",
        "In this notebook, we provide an introduction to [PyTerrier](https://github.com/terrier-org/pyterrier). This lab is an unassessed exercise, as preparation for the main exercises.\n",
        "\n",
        "The intended learning outcome of this lab is to provide an introduction to PyTerrier as well as an illustration of some fundamental concepts in IR (this will be followed by a PyTerrier tutorial in the class).\n",
        "  - installation\n",
        "  - indexing a collection\n",
        "  - accessing an index\n",
        "  - the TerrierRetriever transformer for searching an index\n",
        "  - reformulating queries\n",
        "  - composing transformers together to make retrieval pipelines\n",
        "\n",
        "Pre-requisites:\n",
        " - We assume that you are confident in programming Python, including [lambda functions](https://realpython.com/python-lambda/).\n",
        " - We assume that you have completed the pre-sessional notebook, which includes a Pandas refresher.\n",
        " - We will **only be supporting notebooks on the Google Colab platform**.\n",
        " - You can also try to use your own personal machine, but if you have problems, you should resort to using Colab.\n",
        "\n",
        "Related Reading:\n",
        " - [Pandas documentation](https://pandas.pydata.org/docs/)\n",
        " - [PyTerrier documentation](https://pyterrier.readthedocs.io/en/latest/)\n",
        "\n",
        "Efforts Required:\n",
        " - We don't expect everyone to complete this lab within their allotted lab hour. You will need to spend some time on it outside of the lab. Exercise 1 (assessed), builds on the learning outcomes of this lab, so it's essential you complete this Lab before starting on Exercise 1. We recommend that you complete this Lab before 1st February 2025."
      ]
    },
    {
      "cell_type": "markdown",
      "metadata": {
        "id": "7u2hD-zBzfpR"
      },
      "source": [
        "\n",
        "\n",
        "In the following, we aim to illustrate concepts we will be studying in the early lectures of the course.\n",
        "\n",
        "PyTerrier is a Python framework, but uses the underlying [Terrier.org information retrieval toolkit](http://terrier.org) for many indexing and retrieval operations. While PyTerrier is a recent framework (launched in 2020), Terrier is written in Java and has a long history dating back to 2001. PyTerrier makes it easy to perform modern IR experiments in Python, but uses the mature Terrier platform for the expensive indexing and retrieval operations.\n",
        "\n",
        "In the following, we introduce everything you need to know about PyTerrier (which we will build on in the PyTerrier tutorial and both Ex1 & Ex2), and also provide appropriate links to relevant parts of the [PyTerrier documentation](https://pyterrier.readthedocs.io/en/latest/).\n"
      ]
    },
    {
      "cell_type": "markdown",
      "metadata": {
        "id": "iH0Ds2370V0G"
      },
      "source": [
        "### Installation & Configuration\n",
        "\n",
        "PyTerrier is installed as follows. This might take a few minutes, so you can read on."
      ]
    },
    {
      "cell_type": "code",
      "metadata": {
        "id": "5oE5neAX0bkW"
      },
      "source": [
        "%pip install -q python-terrier\n",
        "import pyterrier as pt"
      ],
      "execution_count": null,
      "outputs": []
    },
    {
      "cell_type": "markdown",
      "metadata": {
        "id": "-qqjVSu-5_FX"
      },
      "source": [
        "### Documents, Indexing and Indexes"
      ]
    },
    {
      "cell_type": "markdown",
      "metadata": {
        "id": "3soS1IIy5B83"
      },
      "source": [
        "Much of PyTerrier's view of the world is wrapped up in Pandas dataframes. Let's consider some textual documents in a dataframe.\n"
      ]
    },
    {
      "cell_type": "code",
      "metadata": {
        "id": "gSEiEuTE5uyL"
      },
      "source": [
        "import pandas as pd\n",
        "docs_df = pd.DataFrame([\n",
        "    [\"d1\", \"this is the first document of many documents\"],\n",
        "    [\"d2\", \"this is another document\"],\n",
        "    [\"d3\", \"the topic of this document is unknown\"]\n",
        "], columns=[\"docno\", \"text\"])\n",
        "docs_df"
      ],
      "execution_count": null,
      "outputs": []
    },
    {
      "cell_type": "markdown",
      "metadata": {
        "id": "2RCtCCTU6GAj"
      },
      "source": [
        "Before any search engine can estimate which documents are most likely to be relevant for a given query, it must index the documents. The index is written into a directory called `index_3docs`."
      ]
    },
    {
      "cell_type": "code",
      "metadata": {
        "id": "1YvLhEOS6V8w"
      },
      "source": [
        "indexer = pt.IterDictIndexer(\"./index_3docs\", overwrite=True)\n",
        "indexref = indexer.index(docs_df.to_dict(orient=\"records\"))\n",
        "indexref.toString()"
      ],
      "execution_count": null,
      "outputs": []
    },
    {
      "cell_type": "markdown",
      "metadata": {
        "id": "TUm6r6_625gW"
      },
      "source": [
        "An IndexRef is essentially a string saying where an index is stored.\n",
        "\n",
        "Indeed, we can look in the `index_3docs` directory and see that it has created various small files. The filenames give hints to the corresponding data structures:\n",
        " - some files relating to a lexicon (aka vocabulary)\n",
        " - a file relating to the inverted index\n",
        " - a file relating to the direct index (aka forward index, used for QE)\n",
        " - files relating to document metadata (e.g. storing the unique identifiers for documents) and document lengths\n"
      ]
    },
    {
      "cell_type": "code",
      "metadata": {
        "id": "TF45pl5O8p7R"
      },
      "source": [
        "!ls -lh index_3docs/"
      ],
      "execution_count": null,
      "outputs": []
    },
    {
      "cell_type": "markdown",
      "metadata": {
        "id": "B2b8isFP3Kv6"
      },
      "source": [
        "How can we make an IndexRef useful - we can load it to an actual index - `pt.IndexFactory.of()` is the relevant factory."
      ]
    },
    {
      "cell_type": "code",
      "metadata": {
        "id": "TTM17szD6pNy"
      },
      "source": [
        "index = pt.IndexFactory.of(indexref)\n",
        "\n",
        "#lets see what Python type index is.\n",
        "type(index)"
      ],
      "execution_count": null,
      "outputs": []
    },
    {
      "cell_type": "markdown",
      "metadata": {
        "id": "mZe3HD5i7G3v"
      },
      "source": [
        "Ok, so this object refers to Terrier's [Index type](http://terrier.org/docs/current/javadoc/org/terrier/structures/Index.html). Check the linked Javadoc - you will see that this Java object has methods such as:\n",
        " - getCollectionStatistics()\n",
        " - getInvertedIndex()\n",
        " - getLexicon()\n",
        "\n",
        "Let's see what's in the [CollectionStatistics](http://terrier.org/docs/current/javadoc/org/terrier/structures/CollectionStatistics.html):"
      ]
    },
    {
      "cell_type": "code",
      "metadata": {
        "id": "6-gXEDSX65bx"
      },
      "source": [
        "print(index.getCollectionStatistics())"
      ],
      "execution_count": null,
      "outputs": []
    },
    {
      "cell_type": "markdown",
      "metadata": {
        "id": "i6HrR4lc7i10"
      },
      "source": [
        "Ok, that seems fair - we have 3 documents. But why only 4 terms?\n",
        "Let's check the [Lexicon](http://terrier.org/docs/current/javadoc/org/terrier/structures/Lexicon.html), which is our vocabulary. Fortunately, the Lexicon can be iterated easily from Python:"
      ]
    },
    {
      "cell_type": "code",
      "metadata": {
        "id": "us2mAzTW7Bny"
      },
      "source": [
        "for k, v in index.getLexicon():\n",
        "  print(\"%s (%s) -> %s (%s)\" % (k, type(k), v, type(v) ) )"
      ],
      "execution_count": null,
      "outputs": []
    },
    {
      "cell_type": "markdown",
      "metadata": {
        "id": "fwbp94gh86pw"
      },
      "source": [
        "Here, iterating over the Lexicon returns a tuple of a String term, and a [LexiconEntry](http://terrier.org/docs/current/javadoc/org/terrier/structures/LexiconEntry.html) -- which itself is an [EntryStatistics](http://terrier.org/docs/current/javadoc/org/terrier/structures/EntryStatistics.html) -- and contains information including the statistics of that term.\n",
        "\n",
        "\n",
        "So what did we find? Here are some observations:\n",
        " - we only have 4 unique terms, as stopwords were removed\n",
        " - we have one term for `\"document\"`, even though `\"documents\"` occurred in document \"d1\".\n",
        "\n",
        "Both these observations make sense. Indeed, by default, Terrier removes standard stopwords and applies Porter's stemmer.\n",
        "\n",
        "Further:\n",
        " - `Nt` is the number of unique documents that each term occurs in. This is useful for calculating IDF (c.f. Lecture 3)\n",
        " - `TF` is the total number of occurrences - some weighting models use this instead of Nt.\n",
        " - The numbers in the `@{}` are a pointer - they tell Terrier where the postings are for that term in the inverted index data structure.\n",
        "\n",
        "Finally, we can also use the square bracket notation to lookup terms in Terrier's lexicon. This is equivalent to [Lexicon.getLexiconEntry(\"chemical\")](http://terrier.org/docs/current/javadoc/org/terrier/structures/Lexicon.html#getLexiconEntry(KEY))\n"
      ]
    },
    {
      "cell_type": "code",
      "metadata": {
        "id": "SZmi9498-Ijw"
      },
      "source": [
        "index.getLexicon()[\"document\"].toString()"
      ],
      "execution_count": null,
      "outputs": []
    },
    {
      "cell_type": "markdown",
      "metadata": {
        "id": "vaKaU59l-kzg"
      },
      "source": [
        "Let's now think about the inverted index. Remember from Lecture 2 that the inverted index tells us in which *documents* each term occurs in. The LexiconEntry is the pointer that tells us where to find the postings for that term in the inverted index."
      ]
    },
    {
      "cell_type": "code",
      "metadata": {
        "id": "XQki_Pds8ut2"
      },
      "source": [
        "pointer = index.getLexicon()[\"document\"]\n",
        "for posting in index.getInvertedIndex().getPostings(pointer):\n",
        "  print(posting.toString() + \" doclen=%d\" % posting.getDocumentLength())"
      ],
      "execution_count": null,
      "outputs": []
    },
    {
      "cell_type": "markdown",
      "metadata": {
        "id": "l7EaoIIO_DPx"
      },
      "source": [
        "Ok, so we can see that `\"document\"` occurs once in each of the three documents. NB: Terrier counts documents as integers from 0 (called *docids*). It records the mapping back to *docnos* (the string form, i.e. \"d1\", \"d2\") in a separate data structure called the MetaIndex."
      ]
    },
    {
      "cell_type": "markdown",
      "metadata": {
        "id": "Klgep_b6AGOA"
      },
      "source": [
        "Similarly, we can see what terms occur in document d1, by using a datastructure called the *direct* index. You can think of this as the opposite of the inverted index: the inverted index tells us, for each term, which documents contain that term; the direct index tells us, for each document, which terms it contains.\n",
        "\n",
        "Let's define a function to show us the contents of a document using the direct index. This a translation of [the Java code for displaying the contents of a document in the Terrier documentation](https://github.com/terrier-org/terrier-core/blob/5.x/doc/extend_retrieval.md#what-terms-occur-in-the-11th-document). When using our function, we can specify which document either by docno (string) or docid (int)."
      ]
    },
    {
      "cell_type": "code",
      "metadata": {
        "id": "J93Pg8w5AFrP"
      },
      "source": [
        "def get_document_direct(index, docno=None, docid=None):\n",
        "  if docid is None and docno is None:\n",
        "    raise ValueError(\"Must specify docno or docid\")\n",
        "  if docno is not None:\n",
        "    docid = index.getMetaIndex().getDocument(\"docno\", docno)\n",
        "  else:\n",
        "    docno = index.getMetaIndex().getItem(\"docno\", docid)\n",
        "  rtr = \"Docno %s (docid %d)\\n\" % (docno, docid)\n",
        "  pointer = index.getDocumentIndex().getDocumentEntry(docid)\n",
        "  for p in index.getDirectIndex().getPostings(pointer):\n",
        "    termid = p.getId()\n",
        "    term = index.getLexicon()[termid].getKey()\n",
        "    rtr += (\"\\t%s %d\\n\" % ( term, p.getFrequency()))\n",
        "  return rtr"
      ],
      "execution_count": null,
      "outputs": []
    },
    {
      "cell_type": "code",
      "metadata": {
        "id": "iX608k5j7uHT"
      },
      "source": [
        "print(get_document_direct(index, docno=\"d1\"))"
      ],
      "execution_count": null,
      "outputs": []
    },
    {
      "cell_type": "code",
      "metadata": {
        "id": "QZmQPitqAZ_4"
      },
      "source": [
        "print(get_document_direct(index, docid=0))"
      ],
      "execution_count": null,
      "outputs": []
    },
    {
      "cell_type": "markdown",
      "metadata": {
        "id": "zOSdVAr-CGRf"
      },
      "source": [
        "### Searching an Index\n",
        "\n",
        "Our way into search in PyTerrier is called terrier.Retriever. terrier.Retriever is configured by specifying an index and a weighting model. We then search for a single-word query, `\"document\"`."
      ]
    },
    {
      "cell_type": "code",
      "metadata": {
        "id": "XtK93nwXCF5C"
      },
      "source": [
        "br = pt.terrier.Retriever(index, wmodel=\"Tf\")\n",
        "br.search(\"document\")"
      ],
      "execution_count": null,
      "outputs": []
    },
    {
      "cell_type": "markdown",
      "metadata": {
        "id": "BHqSfTCtDM2T"
      },
      "source": [
        "So `search()` returns a dataframe with columns:\n",
        " - qid: this is by default \"1\", since it's our first and only query\n",
        " - docid: Terrier' internal integer for each doucment\n",
        " - docno: the external (string) unique identifier for each document\n",
        " - score: the total frequency of the query (terms) in each document\n",
        " - rank: A handy attribute showing the descending order by score\n",
        " - query: the input query\n",
        "\n",
        "As expected, the Tf weighting model used here only counts the frequencies of the query terms in each document, i.e.:\n",
        "$$\n",
        "score(d,Q) = \\sum_{t \\in Q} tf_{t,d}\n",
        "$$\n",
        "\n",
        "Hence, it's clear that document d1 should be the highest scored document with two occurrences (c.f. `'document'` and `'documents'`) since we are using stemming."
      ]
    },
    {
      "cell_type": "markdown",
      "metadata": {
        "id": "BJBXquPOD6q7"
      },
      "source": [
        "We can also pass a dataframe of one or more queries to the `transform()` method (rather than the `search()` method) of a transformer, with queries numbered \"q1\", \"q2\" etc.."
      ]
    },
    {
      "cell_type": "code",
      "metadata": {
        "id": "TPBmPOETBKWk"
      },
      "source": [
        "import pandas as pd\n",
        "queries = pd.DataFrame([[\"q1\", \"document\"], [\"q2\", \"first document\"]], columns=[\"qid\", \"query\"])\n",
        "br.transform(queries)"
      ],
      "execution_count": null,
      "outputs": []
    },
    {
      "cell_type": "markdown",
      "metadata": {
        "id": "tcgDzFLBEWAI"
      },
      "source": [
        "In fact, we are usually calling the `transform()` method, so it's the default method - i.e.\n",
        "`br.transform(queries)` can be more succinctly written as `br(queries)`."
      ]
    },
    {
      "cell_type": "code",
      "metadata": {
        "id": "YCwxb3HhEOp_"
      },
      "source": [
        "br(queries)"
      ],
      "execution_count": null,
      "outputs": []
    },
    {
      "cell_type": "markdown",
      "metadata": {
        "id": "ldY8VV8wQ60Z"
      },
      "source": [
        "### Moving on up\n",
        "\n",
        "OK, having 3 documents is quite trivial, so let's move upto a slightly larger corpus of documents. We'll be using a corpus of documents called Vaswani NPL. Terrier has a handy `get_dataset()` API, which allows us to download a ready-made index."
      ]
    },
    {
      "cell_type": "code",
      "metadata": {
        "id": "L2lJsK-vEcQx"
      },
      "source": [
        "vaswani_dataset = pt.get_dataset(\"vaswani\")\n",
        "index = pt.IndexFactory.of(vaswani_dataset.get_index())\n"
      ],
      "execution_count": null,
      "outputs": []
    },
    {
      "cell_type": "markdown",
      "metadata": {
        "id": "y7GK9uANRt8w"
      },
      "source": [
        "#### **Task 1**\n",
        "- What are the statistics of our index? You can print the index collection statistics for Vaswani NPL.\n",
        "- Can you get a feeling for what kind of documents this index contains by inspecting a few documents. e.g. look into the content of the index of docids 0, 10 and 100"
      ]
    },
    {
      "cell_type": "code",
      "metadata": {
        "id": "bNAVqf9uRr2p"
      },
      "source": [
        "#YOUR SOLUTION"
      ],
      "execution_count": null,
      "outputs": []
    },
    {
      "cell_type": "markdown",
      "metadata": {
        "id": "UaD-_XX7tD4v"
      },
      "source": [
        "So Vaswani has a reasonable index - let's examine the extent that it exhibits some of the textual properties we would expect.\n",
        "\n",
        "#### **Task 2**\n",
        "\n",
        "In this task, we will be examining the extent to which the Vaswani NPL collection exhibits some of the textual properties we would expect (see Lecture 3).\n",
        "\n",
        "Use a [matplotlib](https://matplotlib.org/) histogram to examine the distribution of the terms occurring in the Lexicon - i.e. it should be possible to read for a given frequency range, the number of terms that have that frequency.\n",
        "\n",
        "Hint: What method of the LexiconEntry can be used to determine the frequency for each term?\n",
        "\n",
        "Hint: it might be easier to read if you apply a logarithmic scale for the y-axis. Allow matplotlib to use its default number of bins (which is 10).\n",
        "\n",
        "<p>&nbsp;</p>\n",
        "\n",
        "#### **Stretch Task (Optional, do this LAST)**\n",
        "\n",
        "Do this once you have completed the other tasks...\n",
        "\n",
        "Next, let's try to see if Vaswani follows a Zipfian distribution. In terms of probabilities, we have\n",
        "$$\n",
        "r.Pr_t \\approx A\n",
        "$$\n",
        "where $r$ is the rank of the term, and $Pr_t$ is the probability of the term. To check how well Vaswani follows Zipf, reproduce slide 14 from Lecture 3 (concerning AP89) for this collection. We expect that Zipf's law will not hold for low and high ranked terms.\n",
        "\n",
        "Hint: SciPy's [rankdata()](https://docs.scipy.org/doc/scipy/reference/generated/scipy.stats.rankdata.html) function might be useful for getting the rank of any term frequency.\n",
        "\n",
        "Hint: To obtain $Pr_t$, you should compare each term's frequency to one of the collection statistics.\n"
      ]
    },
    {
      "cell_type": "code",
      "metadata": {
        "id": "bZ7kZhBVtoPy"
      },
      "source": [
        "#YOUR SOLUTION\n"
      ],
      "execution_count": null,
      "outputs": []
    },
    {
      "cell_type": "code",
      "metadata": {
        "id": "gxxicWjfVN70"
      },
      "source": [
        "#YOUR SOLUTION - STRETCH/OPTIONAL\n"
      ],
      "execution_count": null,
      "outputs": []
    },
    {
      "cell_type": "markdown",
      "metadata": {
        "id": "tQD9Q8CqSirN"
      },
      "source": [
        "Next, Vaswani is a *test collection*, in that it is not just a corpus of documents, but it also has a set of queries (called *topics*), with each query having one or more **known** *relevant* documents (also called *qrels*). We'll hear more about test collections later in Lecture 5.\n",
        "\n",
        "We can easily access the topics and qrels from the dataset. Indeed these are expressed as dataframes as well (we use Pandas's [head()](https://pandas.pydata.org/pandas-docs/stable/reference/api/pandas.DataFrame.head.html) method to show only the first 5 topics):"
      ]
    },
    {
      "cell_type": "code",
      "metadata": {
        "id": "8n7oY-YYS_-A"
      },
      "source": [
        "vaswani_dataset.get_topics().head(5)"
      ],
      "execution_count": null,
      "outputs": []
    },
    {
      "cell_type": "code",
      "metadata": {
        "id": "-rYxqvhJTGNX"
      },
      "source": [
        "vaswani_dataset.get_qrels().head(5)"
      ],
      "execution_count": null,
      "outputs": []
    },
    {
      "cell_type": "markdown",
      "metadata": {
        "id": "PX2Y-0DiTSAI"
      },
      "source": [
        "#### **Task 3**\n",
        "\n",
        "In this task you will familiarise yourself with concepts such as topics and qrels, which are key in conducting IR experiments.\n",
        "\n",
        "Using `get_document_direct()` and the qrels, print the contents of the **relevant** documents for the query with qid \"4\". NB: qids are strings.\n",
        "\n",
        "Hint: Try a Pandas apply()?\n"
      ]
    },
    {
      "cell_type": "code",
      "metadata": {
        "id": "qPWFJErjTP50"
      },
      "source": [
        "#YOUR SOLUTION\n"
      ],
      "execution_count": null,
      "outputs": []
    },
    {
      "cell_type": "markdown",
      "metadata": {
        "id": "2Gop4-jVbIIu"
      },
      "source": [
        "### Weighting Models\n",
        "\n",
        "So far, we have been using the simple Tf as our ranking function for document retrieval in terrier.Retriever. However, we can use other models such as `\"TF_IDF\"` by simply changing the `wmodel=\"Tf\"` keyword argument in the constructor of terrier.Retriever.\n"
      ]
    },
    {
      "cell_type": "code",
      "metadata": {
        "id": "Cg8AGzCibdPG"
      },
      "source": [
        "tfidf = pt.terrier.Retriever(index, wmodel=\"TF_IDF\")\n",
        "\n",
        "tfidf.transform(vaswani_dataset.get_topics().head(1))"
      ],
      "execution_count": null,
      "outputs": []
    },
    {
      "cell_type": "markdown",
      "metadata": {
        "id": "m6aZGX9sbdmc"
      },
      "source": [
        "You will note that, as expected, the scores of documents ranked by TF_IDF are no longer integers. You can see the exact formula used by Terrier from [the Github repo](https://github.com/terrier-org/terrier-core/blob/5.x/modules/core/src/main/java/org/terrier/matching/models/TF_IDF.java#L79).\n",
        "\n",
        "Terrier supports many weighting models - the documentation contains [a list of supported models](http://terrier.org/docs/current/javadoc/org/terrier/matching/models/package-summary.html) - some of which we will discover later in the IR course.\n"
      ]
    },
    {
      "cell_type": "markdown",
      "metadata": {
        "id": "OiM8I_fkUcQ9"
      },
      "source": [
        "### PyTerrier Transformers\n",
        "\n",
        "You'll have noted that terrier.Retriever has a `transform()` method that takes as input a dataframe, and returns another dataframe, which is somehow a *transformation* of the earlier dataframe (e.g. a retrieval transformation). In fact, terrier.Retriever is just one of many similar objects in PyTerrier, which we call [transformers](https://pyterrier.readthedocs.io/en/latest/transformer.html) (represented by the Transformer base class).\n",
        "\n",
        "Let's give a look at a terrier.Retriever transformer, e.g. the `tfidf` one:"
      ]
    },
    {
      "cell_type": "code",
      "metadata": {
        "id": "UqMt-9UlTqLa"
      },
      "source": [
        "#tfidf is a transformer...\n",
        "print(isinstance(tfidf, pt.Transformer))\n",
        "#Yes!\n",
        "\n",
        "# this prints the type hierarchy of the TF_IDF class\n",
        "tfidf.__class__.__mro__"
      ],
      "execution_count": null,
      "outputs": []
    },
    {
      "cell_type": "markdown",
      "source": [
        "Transformers have some useful methods:\n",
        " - they always implement a `.transform(DataFrame) -> DataFrame` method\n",
        " - they have a `.search(str) -> DataFrame` method, which allows to execute a single query. A rough implementation of `.search()` is shown below.\n",
        "    ```python\n",
        "    def search(self, query : str) -> DataFrame:\n",
        "        return self.transform(pd.DataFrame([['1', query]], columns=['qid', 'query'])\n",
        "    ```\n",
        "\n"
      ],
      "metadata": {
        "id": "pL22Zmzf7jAi"
      }
    },
    {
      "cell_type": "markdown",
      "metadata": {
        "id": "GW3afDgPukvU"
      },
      "source": [
        "## Operators on PyTerrier Transformers\n",
        "\n",
        "One interesting capability of all transformers is that they can be combined using Python operators (this is called operator overloading).\n",
        "\n",
        "Concretely, imagine that you want to chain transformers together - e.g. rank documents first by Tf then re-rank the *exact same* documents by TF.IDF. We can do this using the `>>` operator - we call this composition, or \"then\". The outcome of the operator is a new transformer."
      ]
    },
    {
      "cell_type": "code",
      "metadata": {
        "id": "e9HkXxtgug15"
      },
      "source": [
        "# this is our first retrieval transformer -\n",
        "# it transform a queries dataframe to a results dataframe\n",
        "tf = pt.terrier.Retriever(index, wmodel=\"Tf\")\n",
        "\n",
        "tf( vaswani_dataset.get_topics().head(1) )"
      ],
      "execution_count": null,
      "outputs": []
    },
    {
      "cell_type": "code",
      "metadata": {
        "id": "uHHIn-rMvk_5"
      },
      "source": [
        "# now let's define a pipeline\n",
        "pipeline = tf >> tfidf\n",
        "print(isinstance(tfidf, pt.Transformer))\n",
        "\n",
        "pipeline( vaswani_dataset.get_topics().head(1) )\n"
      ],
      "execution_count": null,
      "outputs": []
    },
    {
      "cell_type": "markdown",
      "source": [
        "Using this pipeline, we are working in a **declarative** manner:\n",
        " - We are *declaring* that we first want to apply the `tf` transformer.\n",
        " - We then want the `tfidf` transformer to work on the output of the `tf` transformer.\n",
        "\n",
        "![image.png](data:image/png;base64,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)\n",
        "\n",
        " The whole pipeline is also an instance of Transformer, so has the usual `.transform()`, `.search()` methods etc.:"
      ],
      "metadata": {
        "id": "A0ivyaVX5AVM"
      }
    },
    {
      "cell_type": "code",
      "source": [
        "pipeline.search(\"chemical reactions\")"
      ],
      "metadata": {
        "id": "K00WLPXy8tHU"
      },
      "execution_count": null,
      "outputs": []
    },
    {
      "cell_type": "markdown",
      "metadata": {
        "id": "r1yCXIB5w1Qb"
      },
      "source": [
        "There are a number of other PyTerrier operators:\n",
        "\n",
        "\n",
        "| Operator | Meaning |\n",
        "|----------|---------|\n",
        "| `>>`     | Chaining together transformers, aka \"Then\" / composition|\n",
        "| `+`\t   |Linear combination of scores|\n",
        "| `*`     |Scalar factoring of scores|\n",
        "| `&` | Document Set Intersection |\n",
        "| &#124; |Document Set Union |\n",
        "| `%` |Apply rank cutoff |\n",
        "| `^` | Concatenate the output of one transformer with another |\n",
        "| **  | Feature Union |\n",
        "\n",
        "Each of these operate on the dataframes returned by one or more transformers, and therefore has clear relational algebra semantics.  We provide worked examples of the input and output of each of the operators in the [PyTerrier documentation on operators](https://pyterrier.readthedocs.io/en/latest/operators.html). **Do take the time to browse this documenation - you will need to use operators in Task 4**.\n",
        "\n",
        "Operators are a key concept of PyTerrier, and you will need to use operators to solve Task 4."
      ]
    },
    {
      "cell_type": "markdown",
      "metadata": {
        "id": "NaYavGvnxDk5"
      },
      "source": [
        "#### **Task 4**\n",
        "\n",
        "In this task you will consider the use of the terrier.Retriever transformer for searching an index, and how to combine transformers together to make retrieval\n",
        "pipelines. In particular, you will be experimenting with the PyTerrier *operators* when manipulating search results.\n",
        "\n",
        "To improve your understanding of the PyTerrier operators, the task has two parts, asking you to deploy two specific rankers using the PyTerrier operators.\n",
        "\n",
        "\n",
        "**(a)**\n",
        "\n",
        "Create a ranker that returns the top 10 scored documents based on the following retrieval model:\n",
        "$$\n",
        "score(d,Q) = \\big( \\sum_{t \\in Q} w_{TF\\_IDF}(t,d) \\big)  + 3 * \\sum_{t \\in Q} tf_{t,d}\n",
        "$$\n",
        "In essence, this equation scores documents by linearly combining the scores of two different retrieval models.\n",
        "\n",
        "For the correct solution, your pipeline should return no more than 10 documents and document docno `\"10703\"` should have a score of 10.381090 for query `\"chemical\"`.\n",
        "\n",
        "Hint: You do *not* need to access the inverted index directly.\n",
        "\n",
        "**(b)**\n",
        "\n",
        "Create a ranker that performs the following:\n",
        "\n",
        " - obtains the top 10 highest scoring documents by term frequency (wmodel=\"Tf\")\n",
        " - obtains the top 10 highest scoring documents by TF.IDF (wmodel=\"TF_IDF\")\n",
        " - reranks only those documents found in BOTH of the previous retrieval settings using the BM25 weighting model (Indeed BM25 is another famous weighting model that you will hear more about in Lecture 8).\n",
        "\n",
        "How many documents are retrieved by this full pipeline for the query \"chemical\".\n",
        "\n",
        "If you obtain the correct solution, the document with docno \"2558\" should have a score of 10.322110 for query \"chemical\".\n",
        "\n",
        "Hints:\n",
        " - each correct solution needs only a few lines of code if you properly use the PyTerrier operators\n",
        " - you should not need to perform any Pandas dataframe operations\n",
        " - You will need to instantate a BM25 terrier.Retriever"
      ]
    },
    {
      "cell_type": "code",
      "metadata": {
        "id": "XnsRdT4WvspD"
      },
      "source": [
        "# YOUR SOLUTION"
      ],
      "execution_count": null,
      "outputs": []
    },
    {
      "cell_type": "markdown",
      "metadata": {
        "id": "YQ0j9lFfx-gO"
      },
      "source": [
        "### What is Success?\n",
        "\n",
        "So far, we have been creating search engine models, but we haven't decided if any of them is actually any good. While we will study *evaluation measures* in Lecture 5, let's just investigate if we are getting a correct (\"relevant\") document at the first rank."
      ]
    },
    {
      "cell_type": "code",
      "metadata": {
        "id": "iyShZYpwwNSx"
      },
      "source": [
        "qrels = vaswani_dataset.get_qrels()\n",
        "def get_res_with_labels(ranker, df):\n",
        "  #get the results for the query or queries\n",
        "  results = ranker( df )\n",
        "  # left outer join with the qrels\n",
        "  with_labels = results.merge(qrels, on=[\"qid\", \"docno\"], how=\"left\").fillna(0)\n",
        "  return with_labels\n",
        "\n",
        "#lets get the Tf results for the first query\n",
        "get_res_with_labels(tf, vaswani_dataset.get_topics().head(1) )\n",
        "\n"
      ],
      "execution_count": null,
      "outputs": []
    },
    {
      "cell_type": "markdown",
      "metadata": {
        "id": "qHlNDnHsegNz"
      },
      "source": [
        "So, we got a relevant document third ranked using Tf. Let's check TF_IDF to see whether it does better:"
      ]
    },
    {
      "cell_type": "code",
      "metadata": {
        "id": "tScqYO0FeHMi"
      },
      "source": [
        "#lets get the tfidf results for the first query\n",
        "get_res_with_labels(tfidf, vaswani_dataset.get_topics().head(1) )"
      ],
      "execution_count": null,
      "outputs": []
    },
    {
      "cell_type": "markdown",
      "metadata": {
        "id": "TH8qbvhFek5b"
      },
      "source": [
        "Interesting - it got a relevant document at the top rank. Think about what TF_IDF is doing compared to Tf."
      ]
    },
    {
      "cell_type": "markdown",
      "metadata": {
        "id": "R41fzAkjzVl3"
      },
      "source": [
        "Keeping with the Tf ranking function, let's try to help it perform better by better formulating the query `'measurement of dielectric constant of liquids by the use of microwave techniques'`.\n",
        "\n",
        "In particular, Terrier can take into account how often a query term occurs in a query. In doing so, documents are actually scored like this:\n",
        "$$\n",
        "score(d,Q) = \\sum_{t \\in Q} tf_{t,q} * tf_{t,d}\n",
        "$$\n",
        "where $tf_{t,d}$ is the frequency of the term in *document* and $tf_{t,q}$ is the frequency of the term in the *query*.\n",
        "\n",
        "However, in our example query ( `'measurement of dielectric constant of liquids by the use of microwave techniques'`) all (non-stopword) query terms have a query term frequency of 1.\n",
        "\n",
        "We can try to give more (or less) weight to some of these query terms, so as to place more or less emphasis on those terms, by appending a number such as `^2` (or `^0.1`) to some words in the query string. For example ^2 indicates that the weight of the corresponding term is 2."
      ]
    },
    {
      "cell_type": "code",
      "metadata": {
        "id": "42pNBGLdytV-"
      },
      "source": [
        "# here I try to change the emphasis on some words\n",
        "newQueryDf = pd.DataFrame([\n",
        "  [\"1\", \"measurement^0.1 of dielectric constant of liquids by \"+\n",
        "    \"the use of microwave techniques^2\"]\n",
        "  ], columns=[\"qid\", \"query\"])\n",
        "get_res_with_labels(tf, newQueryDf )\n"
      ],
      "execution_count": null,
      "outputs": []
    },
    {
      "cell_type": "markdown",
      "metadata": {
        "id": "F45OJVIO1AhS"
      },
      "source": [
        "#### **Task 5**\n",
        "\n",
        "In this task, you will be familiarising yourself with an important aspect of users’ interaction with IR systems, namely how to reformulate queries in order to improve the effectiveness of the\n",
        "system.\n",
        "\n",
        "Spend **up to 5 minutes** trying to reformulate the above query by increasing or decreasing the weight of some query terms to get a relevant result at the first rank.\n",
        "\n",
        "Hint: You might want to inspect some of the relevant (or non-relevant!) documents to see what words they contain. E.g. you might want to look at the contents of docnos 7923 and 3693."
      ]
    },
    {
      "cell_type": "code",
      "metadata": {
        "id": "SZc72D6Ezf5y"
      },
      "source": [
        "#YOUR SOLUTION"
      ],
      "execution_count": null,
      "outputs": []
    },
    {
      "cell_type": "markdown",
      "metadata": {
        "id": "yCITs_Iq1W3w"
      },
      "source": [
        "**Reflection**: While we could not manually reformulate each user's query, however knowing which words/terms should be important or not can help us understand what a good ranking model should do.\n",
        "\n",
        "Later in the course, we'll talk about other approaches to (automatically) reformulate queries, such as query expansion, which can help to improve the search engine's effectiveness.\n"
      ]
    },
    {
      "cell_type": "markdown",
      "metadata": {
        "id": "Mt0iPhRw2J-S"
      },
      "source": [
        "## That's all folks\n",
        "\n",
        "\n",
        "Future IR exercises will build upon the learning outcome from this warmup lab. Should you need to reinforce any of the material in this lab, the following parts of the PyTerrier documentation will be useful:\n",
        " * [PyTerrier datasets](https://pyterrier.readthedocs.io/en/latest/datasets.html)\n",
        " * [Using Terrier for retrieval](https://pyterrier.readthedocs.io/en/latest/terrier-retrieval.html)\n",
        " * [Transformers in PyTerrier](https://pyterrier.readthedocs.io/en/latest/transformer.html)\n",
        " * [Transformer Operators](https://pyterrier.readthedocs.io/en/latest/operators.html)"
      ]
    },
    {
      "cell_type": "code",
      "metadata": {
        "id": "YobrIo5-L31t"
      },
      "source": [],
      "execution_count": null,
      "outputs": []
    }
  ]
}